{
 "cells": [
  {
   "cell_type": "code",
   "execution_count": 74,
   "metadata": {},
   "outputs": [],
   "source": [
    "import pandas as pd\n",
    "import numpy as np\n",
    "import matplotlib.pyplot as plt\n",
    "import seaborn as sns\n",
    "from sklearn.feature_extraction.text import CountVectorizer\n",
    "from sklearn.feature_extraction.text import TfidfVectorizer\n",
    "from sklearn.linear_model import LogisticRegression\n",
    "from sklearn.svm import LinearSVC\n",
    "from sklearn.model_selection import train_test_split\n",
    "\n",
    "from sklearn.decomposition import NMF, LatentDirichletAllocation, TruncatedSVD\n",
    "from string import punctuation\n",
    "from sklearn import svm\n",
    "from sklearn.utils import shuffle\n",
    "from sklearn import preprocessing\n",
    "from sklearn.preprocessing import OneHotEncoder, LabelEncoder\n",
    "from nltk.corpus import stopwords\n",
    "from nltk.stem import WordNetLemmatizer,PorterStemmer\n",
    "import nltk\n",
    "from nltk import ngrams\n",
    "from nltk.tokenize import sent_tokenize, word_tokenize\n",
    "from itertools import chain\n",
    "import string\n",
    "import re\n",
    "from sklearn.metrics import recall_score, f1_score"
   ]
  },
  {
   "cell_type": "code",
   "execution_count": null,
   "metadata": {},
   "outputs": [],
   "source": []
  },
  {
   "cell_type": "code",
   "execution_count": 75,
   "metadata": {},
   "outputs": [],
   "source": [
    " df= pd.read_csv('netflixData.csv')"
   ]
  },
  {
   "cell_type": "code",
   "execution_count": null,
   "metadata": {},
   "outputs": [],
   "source": []
  },
  {
   "cell_type": "code",
   "execution_count": 76,
   "metadata": {},
   "outputs": [
    {
     "data": {
      "text/html": [
       "<div>\n",
       "<style scoped>\n",
       "    .dataframe tbody tr th:only-of-type {\n",
       "        vertical-align: middle;\n",
       "    }\n",
       "\n",
       "    .dataframe tbody tr th {\n",
       "        vertical-align: top;\n",
       "    }\n",
       "\n",
       "    .dataframe thead th {\n",
       "        text-align: right;\n",
       "    }\n",
       "</style>\n",
       "<table border=\"1\" class=\"dataframe\">\n",
       "  <thead>\n",
       "    <tr style=\"text-align: right;\">\n",
       "      <th></th>\n",
       "      <th>Show Id</th>\n",
       "      <th>Title</th>\n",
       "      <th>Description</th>\n",
       "      <th>Director</th>\n",
       "      <th>Genres</th>\n",
       "      <th>Cast</th>\n",
       "      <th>Production Country</th>\n",
       "      <th>Release Date</th>\n",
       "      <th>Rating</th>\n",
       "      <th>Duration</th>\n",
       "      <th>Imdb Score</th>\n",
       "      <th>Content Type</th>\n",
       "      <th>Date Added</th>\n",
       "    </tr>\n",
       "  </thead>\n",
       "  <tbody>\n",
       "    <tr>\n",
       "      <th>0</th>\n",
       "      <td>cc1b6ed9-cf9e-4057-8303-34577fb54477</td>\n",
       "      <td>(Un)Well</td>\n",
       "      <td>This docuseries takes a deep dive into the luc...</td>\n",
       "      <td>NaN</td>\n",
       "      <td>Reality TV</td>\n",
       "      <td>NaN</td>\n",
       "      <td>United States</td>\n",
       "      <td>2020.0</td>\n",
       "      <td>TV-MA</td>\n",
       "      <td>1 Season</td>\n",
       "      <td>6.6/10</td>\n",
       "      <td>TV Show</td>\n",
       "      <td>NaN</td>\n",
       "    </tr>\n",
       "    <tr>\n",
       "      <th>1</th>\n",
       "      <td>e2ef4e91-fb25-42ab-b485-be8e3b23dedb</td>\n",
       "      <td>#Alive</td>\n",
       "      <td>As a grisly virus rampages a city, a lone man ...</td>\n",
       "      <td>Cho Il</td>\n",
       "      <td>Horror Movies, International Movies, Thrillers</td>\n",
       "      <td>Yoo Ah-in, Park Shin-hye</td>\n",
       "      <td>South Korea</td>\n",
       "      <td>2020.0</td>\n",
       "      <td>TV-MA</td>\n",
       "      <td>99 min</td>\n",
       "      <td>6.2/10</td>\n",
       "      <td>Movie</td>\n",
       "      <td>September 8, 2020</td>\n",
       "    </tr>\n",
       "    <tr>\n",
       "      <th>2</th>\n",
       "      <td>b01b73b7-81f6-47a7-86d8-acb63080d525</td>\n",
       "      <td>#AnneFrank - Parallel Stories</td>\n",
       "      <td>Through her diary, Anne Frank's story is retol...</td>\n",
       "      <td>Sabina Fedeli, Anna Migotto</td>\n",
       "      <td>Documentaries, International Movies</td>\n",
       "      <td>Helen Mirren, Gengher Gatti</td>\n",
       "      <td>Italy</td>\n",
       "      <td>2019.0</td>\n",
       "      <td>TV-14</td>\n",
       "      <td>95 min</td>\n",
       "      <td>6.4/10</td>\n",
       "      <td>Movie</td>\n",
       "      <td>July 1, 2020</td>\n",
       "    </tr>\n",
       "    <tr>\n",
       "      <th>3</th>\n",
       "      <td>b6611af0-f53c-4a08-9ffa-9716dc57eb9c</td>\n",
       "      <td>#blackAF</td>\n",
       "      <td>Kenya Barris and his family navigate relations...</td>\n",
       "      <td>NaN</td>\n",
       "      <td>TV Comedies</td>\n",
       "      <td>Kenya Barris, Rashida Jones, Iman Benson, Genn...</td>\n",
       "      <td>United States</td>\n",
       "      <td>2020.0</td>\n",
       "      <td>TV-MA</td>\n",
       "      <td>1 Season</td>\n",
       "      <td>6.6/10</td>\n",
       "      <td>TV Show</td>\n",
       "      <td>NaN</td>\n",
       "    </tr>\n",
       "    <tr>\n",
       "      <th>4</th>\n",
       "      <td>7f2d4170-bab8-4d75-adc2-197f7124c070</td>\n",
       "      <td>#cats_the_mewvie</td>\n",
       "      <td>This pawesome documentary explores how our fel...</td>\n",
       "      <td>Michael Margolis</td>\n",
       "      <td>Documentaries, International Movies</td>\n",
       "      <td>NaN</td>\n",
       "      <td>Canada</td>\n",
       "      <td>2020.0</td>\n",
       "      <td>TV-14</td>\n",
       "      <td>90 min</td>\n",
       "      <td>5.1/10</td>\n",
       "      <td>Movie</td>\n",
       "      <td>February 5, 2020</td>\n",
       "    </tr>\n",
       "  </tbody>\n",
       "</table>\n",
       "</div>"
      ],
      "text/plain": [
       "                                Show Id                          Title  \\\n",
       "0  cc1b6ed9-cf9e-4057-8303-34577fb54477                       (Un)Well   \n",
       "1  e2ef4e91-fb25-42ab-b485-be8e3b23dedb                         #Alive   \n",
       "2  b01b73b7-81f6-47a7-86d8-acb63080d525  #AnneFrank - Parallel Stories   \n",
       "3  b6611af0-f53c-4a08-9ffa-9716dc57eb9c                       #blackAF   \n",
       "4  7f2d4170-bab8-4d75-adc2-197f7124c070               #cats_the_mewvie   \n",
       "\n",
       "                                         Description  \\\n",
       "0  This docuseries takes a deep dive into the luc...   \n",
       "1  As a grisly virus rampages a city, a lone man ...   \n",
       "2  Through her diary, Anne Frank's story is retol...   \n",
       "3  Kenya Barris and his family navigate relations...   \n",
       "4  This pawesome documentary explores how our fel...   \n",
       "\n",
       "                      Director  \\\n",
       "0                          NaN   \n",
       "1                       Cho Il   \n",
       "2  Sabina Fedeli, Anna Migotto   \n",
       "3                          NaN   \n",
       "4             Michael Margolis   \n",
       "\n",
       "                                           Genres  \\\n",
       "0                                      Reality TV   \n",
       "1  Horror Movies, International Movies, Thrillers   \n",
       "2             Documentaries, International Movies   \n",
       "3                                     TV Comedies   \n",
       "4             Documentaries, International Movies   \n",
       "\n",
       "                                                Cast Production Country  \\\n",
       "0                                                NaN      United States   \n",
       "1                           Yoo Ah-in, Park Shin-hye        South Korea   \n",
       "2                        Helen Mirren, Gengher Gatti              Italy   \n",
       "3  Kenya Barris, Rashida Jones, Iman Benson, Genn...      United States   \n",
       "4                                                NaN             Canada   \n",
       "\n",
       "   Release Date Rating  Duration Imdb Score Content Type         Date Added  \n",
       "0        2020.0  TV-MA  1 Season     6.6/10      TV Show                NaN  \n",
       "1        2020.0  TV-MA    99 min     6.2/10        Movie  September 8, 2020  \n",
       "2        2019.0  TV-14    95 min     6.4/10        Movie       July 1, 2020  \n",
       "3        2020.0  TV-MA  1 Season     6.6/10      TV Show                NaN  \n",
       "4        2020.0  TV-14    90 min     5.1/10        Movie   February 5, 2020  "
      ]
     },
     "execution_count": 76,
     "metadata": {},
     "output_type": "execute_result"
    }
   ],
   "source": [
    "df.head()"
   ]
  },
  {
   "cell_type": "code",
   "execution_count": null,
   "metadata": {},
   "outputs": [],
   "source": []
  },
  {
   "cell_type": "code",
   "execution_count": 77,
   "metadata": {},
   "outputs": [],
   "source": [
    "df.rename(columns={'Production Country': 'Production_Country','Release Date':'release_Date','Rating':'ratings','Duration':'duration','Imdb Score':'Imdb_Score','Content Type':'Content_Type','Date Added':'Date_Added'},inplace=True)"
   ]
  },
  {
   "cell_type": "code",
   "execution_count": 78,
   "metadata": {},
   "outputs": [
    {
     "data": {
      "text/html": [
       "<div>\n",
       "<style scoped>\n",
       "    .dataframe tbody tr th:only-of-type {\n",
       "        vertical-align: middle;\n",
       "    }\n",
       "\n",
       "    .dataframe tbody tr th {\n",
       "        vertical-align: top;\n",
       "    }\n",
       "\n",
       "    .dataframe thead th {\n",
       "        text-align: right;\n",
       "    }\n",
       "</style>\n",
       "<table border=\"1\" class=\"dataframe\">\n",
       "  <thead>\n",
       "    <tr style=\"text-align: right;\">\n",
       "      <th></th>\n",
       "      <th>Show Id</th>\n",
       "      <th>Title</th>\n",
       "      <th>Description</th>\n",
       "      <th>Director</th>\n",
       "      <th>Genres</th>\n",
       "      <th>Cast</th>\n",
       "      <th>Production_Country</th>\n",
       "      <th>release_Date</th>\n",
       "      <th>ratings</th>\n",
       "      <th>duration</th>\n",
       "      <th>Imdb_Score</th>\n",
       "      <th>Content_Type</th>\n",
       "      <th>Date_Added</th>\n",
       "    </tr>\n",
       "  </thead>\n",
       "  <tbody>\n",
       "    <tr>\n",
       "      <th>0</th>\n",
       "      <td>cc1b6ed9-cf9e-4057-8303-34577fb54477</td>\n",
       "      <td>(Un)Well</td>\n",
       "      <td>This docuseries takes a deep dive into the luc...</td>\n",
       "      <td>NaN</td>\n",
       "      <td>Reality TV</td>\n",
       "      <td>NaN</td>\n",
       "      <td>United States</td>\n",
       "      <td>2020.0</td>\n",
       "      <td>TV-MA</td>\n",
       "      <td>1 Season</td>\n",
       "      <td>6.6/10</td>\n",
       "      <td>TV Show</td>\n",
       "      <td>NaN</td>\n",
       "    </tr>\n",
       "    <tr>\n",
       "      <th>1</th>\n",
       "      <td>e2ef4e91-fb25-42ab-b485-be8e3b23dedb</td>\n",
       "      <td>#Alive</td>\n",
       "      <td>As a grisly virus rampages a city, a lone man ...</td>\n",
       "      <td>Cho Il</td>\n",
       "      <td>Horror Movies, International Movies, Thrillers</td>\n",
       "      <td>Yoo Ah-in, Park Shin-hye</td>\n",
       "      <td>South Korea</td>\n",
       "      <td>2020.0</td>\n",
       "      <td>TV-MA</td>\n",
       "      <td>99 min</td>\n",
       "      <td>6.2/10</td>\n",
       "      <td>Movie</td>\n",
       "      <td>September 8, 2020</td>\n",
       "    </tr>\n",
       "    <tr>\n",
       "      <th>2</th>\n",
       "      <td>b01b73b7-81f6-47a7-86d8-acb63080d525</td>\n",
       "      <td>#AnneFrank - Parallel Stories</td>\n",
       "      <td>Through her diary, Anne Frank's story is retol...</td>\n",
       "      <td>Sabina Fedeli, Anna Migotto</td>\n",
       "      <td>Documentaries, International Movies</td>\n",
       "      <td>Helen Mirren, Gengher Gatti</td>\n",
       "      <td>Italy</td>\n",
       "      <td>2019.0</td>\n",
       "      <td>TV-14</td>\n",
       "      <td>95 min</td>\n",
       "      <td>6.4/10</td>\n",
       "      <td>Movie</td>\n",
       "      <td>July 1, 2020</td>\n",
       "    </tr>\n",
       "    <tr>\n",
       "      <th>3</th>\n",
       "      <td>b6611af0-f53c-4a08-9ffa-9716dc57eb9c</td>\n",
       "      <td>#blackAF</td>\n",
       "      <td>Kenya Barris and his family navigate relations...</td>\n",
       "      <td>NaN</td>\n",
       "      <td>TV Comedies</td>\n",
       "      <td>Kenya Barris, Rashida Jones, Iman Benson, Genn...</td>\n",
       "      <td>United States</td>\n",
       "      <td>2020.0</td>\n",
       "      <td>TV-MA</td>\n",
       "      <td>1 Season</td>\n",
       "      <td>6.6/10</td>\n",
       "      <td>TV Show</td>\n",
       "      <td>NaN</td>\n",
       "    </tr>\n",
       "    <tr>\n",
       "      <th>4</th>\n",
       "      <td>7f2d4170-bab8-4d75-adc2-197f7124c070</td>\n",
       "      <td>#cats_the_mewvie</td>\n",
       "      <td>This pawesome documentary explores how our fel...</td>\n",
       "      <td>Michael Margolis</td>\n",
       "      <td>Documentaries, International Movies</td>\n",
       "      <td>NaN</td>\n",
       "      <td>Canada</td>\n",
       "      <td>2020.0</td>\n",
       "      <td>TV-14</td>\n",
       "      <td>90 min</td>\n",
       "      <td>5.1/10</td>\n",
       "      <td>Movie</td>\n",
       "      <td>February 5, 2020</td>\n",
       "    </tr>\n",
       "  </tbody>\n",
       "</table>\n",
       "</div>"
      ],
      "text/plain": [
       "                                Show Id                          Title  \\\n",
       "0  cc1b6ed9-cf9e-4057-8303-34577fb54477                       (Un)Well   \n",
       "1  e2ef4e91-fb25-42ab-b485-be8e3b23dedb                         #Alive   \n",
       "2  b01b73b7-81f6-47a7-86d8-acb63080d525  #AnneFrank - Parallel Stories   \n",
       "3  b6611af0-f53c-4a08-9ffa-9716dc57eb9c                       #blackAF   \n",
       "4  7f2d4170-bab8-4d75-adc2-197f7124c070               #cats_the_mewvie   \n",
       "\n",
       "                                         Description  \\\n",
       "0  This docuseries takes a deep dive into the luc...   \n",
       "1  As a grisly virus rampages a city, a lone man ...   \n",
       "2  Through her diary, Anne Frank's story is retol...   \n",
       "3  Kenya Barris and his family navigate relations...   \n",
       "4  This pawesome documentary explores how our fel...   \n",
       "\n",
       "                      Director  \\\n",
       "0                          NaN   \n",
       "1                       Cho Il   \n",
       "2  Sabina Fedeli, Anna Migotto   \n",
       "3                          NaN   \n",
       "4             Michael Margolis   \n",
       "\n",
       "                                           Genres  \\\n",
       "0                                      Reality TV   \n",
       "1  Horror Movies, International Movies, Thrillers   \n",
       "2             Documentaries, International Movies   \n",
       "3                                     TV Comedies   \n",
       "4             Documentaries, International Movies   \n",
       "\n",
       "                                                Cast Production_Country  \\\n",
       "0                                                NaN      United States   \n",
       "1                           Yoo Ah-in, Park Shin-hye        South Korea   \n",
       "2                        Helen Mirren, Gengher Gatti              Italy   \n",
       "3  Kenya Barris, Rashida Jones, Iman Benson, Genn...      United States   \n",
       "4                                                NaN             Canada   \n",
       "\n",
       "   release_Date ratings  duration Imdb_Score Content_Type         Date_Added  \n",
       "0        2020.0   TV-MA  1 Season     6.6/10      TV Show                NaN  \n",
       "1        2020.0   TV-MA    99 min     6.2/10        Movie  September 8, 2020  \n",
       "2        2019.0   TV-14    95 min     6.4/10        Movie       July 1, 2020  \n",
       "3        2020.0   TV-MA  1 Season     6.6/10      TV Show                NaN  \n",
       "4        2020.0   TV-14    90 min     5.1/10        Movie   February 5, 2020  "
      ]
     },
     "execution_count": 78,
     "metadata": {},
     "output_type": "execute_result"
    }
   ],
   "source": [
    "df.head()"
   ]
  },
  {
   "cell_type": "code",
   "execution_count": null,
   "metadata": {},
   "outputs": [],
   "source": []
  },
  {
   "cell_type": "code",
   "execution_count": 79,
   "metadata": {},
   "outputs": [
    {
     "name": "stdout",
     "output_type": "stream",
     "text": [
      "<class 'pandas.core.frame.DataFrame'>\n",
      "RangeIndex: 5967 entries, 0 to 5966\n",
      "Data columns (total 13 columns):\n",
      " #   Column              Non-Null Count  Dtype  \n",
      "---  ------              --------------  -----  \n",
      " 0   Show Id             5967 non-null   object \n",
      " 1   Title               5967 non-null   object \n",
      " 2   Description         5967 non-null   object \n",
      " 3   Director            3903 non-null   object \n",
      " 4   Genres              5967 non-null   object \n",
      " 5   Cast                5437 non-null   object \n",
      " 6   Production_Country  5408 non-null   object \n",
      " 7   release_Date        5964 non-null   float64\n",
      " 8   ratings             5963 non-null   object \n",
      " 9   duration            5964 non-null   object \n",
      " 10  Imdb_Score          5359 non-null   object \n",
      " 11  Content_Type        5967 non-null   object \n",
      " 12  Date_Added          4632 non-null   object \n",
      "dtypes: float64(1), object(12)\n",
      "memory usage: 606.1+ KB\n"
     ]
    }
   ],
   "source": [
    "df.info()"
   ]
  },
  {
   "cell_type": "code",
   "execution_count": null,
   "metadata": {},
   "outputs": [],
   "source": []
  },
  {
   "cell_type": "code",
   "execution_count": null,
   "metadata": {},
   "outputs": [],
   "source": []
  },
  {
   "cell_type": "code",
   "execution_count": 80,
   "metadata": {},
   "outputs": [
    {
     "data": {
      "text/plain": [
       "(5967, 13)"
      ]
     },
     "execution_count": 80,
     "metadata": {},
     "output_type": "execute_result"
    }
   ],
   "source": [
    "df.shape"
   ]
  },
  {
   "cell_type": "code",
   "execution_count": null,
   "metadata": {},
   "outputs": [],
   "source": []
  },
  {
   "cell_type": "code",
   "execution_count": 81,
   "metadata": {},
   "outputs": [
    {
     "name": "stdout",
     "output_type": "stream",
     "text": [
      "The number of rows with Missing Values are: \n"
     ]
    },
    {
     "data": {
      "text/plain": [
       "2707"
      ]
     },
     "execution_count": 81,
     "metadata": {},
     "output_type": "execute_result"
    }
   ],
   "source": [
    "print('The number of rows with Missing Values are: ')\n",
    "df.isnull().any(axis=1).sum()"
   ]
  },
  {
   "cell_type": "code",
   "execution_count": null,
   "metadata": {},
   "outputs": [],
   "source": []
  },
  {
   "cell_type": "code",
   "execution_count": 82,
   "metadata": {},
   "outputs": [
    {
     "data": {
      "text/plain": [
       "Show Id                  0\n",
       "Title                    0\n",
       "Description              0\n",
       "Director              2064\n",
       "Genres                   0\n",
       "Cast                   530\n",
       "Production_Country     559\n",
       "release_Date             3\n",
       "ratings                  4\n",
       "duration                 3\n",
       "Imdb_Score             608\n",
       "Content_Type             0\n",
       "Date_Added            1335\n",
       "dtype: int64"
      ]
     },
     "execution_count": 82,
     "metadata": {},
     "output_type": "execute_result"
    }
   ],
   "source": [
    "df.isnull().sum()"
   ]
  },
  {
   "cell_type": "code",
   "execution_count": null,
   "metadata": {},
   "outputs": [],
   "source": []
  },
  {
   "cell_type": "markdown",
   "metadata": {},
   "source": [
    "## Removing all the according NULL Values"
   ]
  },
  {
   "cell_type": "code",
   "execution_count": 83,
   "metadata": {},
   "outputs": [],
   "source": [
    "df = df.dropna(subset=['Cast','Production_Country','release_Date','ratings','duration','Imdb_Score'])"
   ]
  },
  {
   "cell_type": "code",
   "execution_count": null,
   "metadata": {},
   "outputs": [],
   "source": []
  },
  {
   "cell_type": "code",
   "execution_count": 84,
   "metadata": {},
   "outputs": [],
   "source": [
    "df = df.drop(['Cast','Director','Production_Country'],axis=1) "
   ]
  },
  {
   "cell_type": "code",
   "execution_count": null,
   "metadata": {},
   "outputs": [],
   "source": []
  },
  {
   "cell_type": "code",
   "execution_count": 85,
   "metadata": {},
   "outputs": [
    {
     "data": {
      "text/html": [
       "<div>\n",
       "<style scoped>\n",
       "    .dataframe tbody tr th:only-of-type {\n",
       "        vertical-align: middle;\n",
       "    }\n",
       "\n",
       "    .dataframe tbody tr th {\n",
       "        vertical-align: top;\n",
       "    }\n",
       "\n",
       "    .dataframe thead th {\n",
       "        text-align: right;\n",
       "    }\n",
       "</style>\n",
       "<table border=\"1\" class=\"dataframe\">\n",
       "  <thead>\n",
       "    <tr style=\"text-align: right;\">\n",
       "      <th></th>\n",
       "      <th>Show Id</th>\n",
       "      <th>Title</th>\n",
       "      <th>Description</th>\n",
       "      <th>Genres</th>\n",
       "      <th>release_Date</th>\n",
       "      <th>ratings</th>\n",
       "      <th>duration</th>\n",
       "      <th>Imdb_Score</th>\n",
       "      <th>Content_Type</th>\n",
       "      <th>Date_Added</th>\n",
       "    </tr>\n",
       "  </thead>\n",
       "  <tbody>\n",
       "    <tr>\n",
       "      <th>1</th>\n",
       "      <td>e2ef4e91-fb25-42ab-b485-be8e3b23dedb</td>\n",
       "      <td>#Alive</td>\n",
       "      <td>As a grisly virus rampages a city, a lone man ...</td>\n",
       "      <td>Horror Movies, International Movies, Thrillers</td>\n",
       "      <td>2020.0</td>\n",
       "      <td>TV-MA</td>\n",
       "      <td>99 min</td>\n",
       "      <td>6.2/10</td>\n",
       "      <td>Movie</td>\n",
       "      <td>September 8, 2020</td>\n",
       "    </tr>\n",
       "    <tr>\n",
       "      <th>2</th>\n",
       "      <td>b01b73b7-81f6-47a7-86d8-acb63080d525</td>\n",
       "      <td>#AnneFrank - Parallel Stories</td>\n",
       "      <td>Through her diary, Anne Frank's story is retol...</td>\n",
       "      <td>Documentaries, International Movies</td>\n",
       "      <td>2019.0</td>\n",
       "      <td>TV-14</td>\n",
       "      <td>95 min</td>\n",
       "      <td>6.4/10</td>\n",
       "      <td>Movie</td>\n",
       "      <td>July 1, 2020</td>\n",
       "    </tr>\n",
       "    <tr>\n",
       "      <th>3</th>\n",
       "      <td>b6611af0-f53c-4a08-9ffa-9716dc57eb9c</td>\n",
       "      <td>#blackAF</td>\n",
       "      <td>Kenya Barris and his family navigate relations...</td>\n",
       "      <td>TV Comedies</td>\n",
       "      <td>2020.0</td>\n",
       "      <td>TV-MA</td>\n",
       "      <td>1 Season</td>\n",
       "      <td>6.6/10</td>\n",
       "      <td>TV Show</td>\n",
       "      <td>NaN</td>\n",
       "    </tr>\n",
       "    <tr>\n",
       "      <th>5</th>\n",
       "      <td>c293788a-41f7-49a3-a7fc-005ea33bce2b</td>\n",
       "      <td>#FriendButMarried</td>\n",
       "      <td>Pining for his high school crush for years, a ...</td>\n",
       "      <td>Dramas, International Movies, Romantic Movies</td>\n",
       "      <td>2018.0</td>\n",
       "      <td>TV-G</td>\n",
       "      <td>102 min</td>\n",
       "      <td>7.0/10</td>\n",
       "      <td>Movie</td>\n",
       "      <td>May 21, 2020</td>\n",
       "    </tr>\n",
       "    <tr>\n",
       "      <th>6</th>\n",
       "      <td>0555e67e-f624-4a05-93e4-55c117d0056d</td>\n",
       "      <td>#FriendButMarried 2</td>\n",
       "      <td>As Ayu and Ditto finally transition from best ...</td>\n",
       "      <td>Dramas, International Movies, Romantic Movies</td>\n",
       "      <td>2020.0</td>\n",
       "      <td>TV-G</td>\n",
       "      <td>104 min</td>\n",
       "      <td>7.0/10</td>\n",
       "      <td>Movie</td>\n",
       "      <td>June 28, 2020</td>\n",
       "    </tr>\n",
       "  </tbody>\n",
       "</table>\n",
       "</div>"
      ],
      "text/plain": [
       "                                Show Id                          Title  \\\n",
       "1  e2ef4e91-fb25-42ab-b485-be8e3b23dedb                         #Alive   \n",
       "2  b01b73b7-81f6-47a7-86d8-acb63080d525  #AnneFrank - Parallel Stories   \n",
       "3  b6611af0-f53c-4a08-9ffa-9716dc57eb9c                       #blackAF   \n",
       "5  c293788a-41f7-49a3-a7fc-005ea33bce2b              #FriendButMarried   \n",
       "6  0555e67e-f624-4a05-93e4-55c117d0056d            #FriendButMarried 2   \n",
       "\n",
       "                                         Description  \\\n",
       "1  As a grisly virus rampages a city, a lone man ...   \n",
       "2  Through her diary, Anne Frank's story is retol...   \n",
       "3  Kenya Barris and his family navigate relations...   \n",
       "5  Pining for his high school crush for years, a ...   \n",
       "6  As Ayu and Ditto finally transition from best ...   \n",
       "\n",
       "                                           Genres  release_Date ratings  \\\n",
       "1  Horror Movies, International Movies, Thrillers        2020.0   TV-MA   \n",
       "2             Documentaries, International Movies        2019.0   TV-14   \n",
       "3                                     TV Comedies        2020.0   TV-MA   \n",
       "5   Dramas, International Movies, Romantic Movies        2018.0    TV-G   \n",
       "6   Dramas, International Movies, Romantic Movies        2020.0    TV-G   \n",
       "\n",
       "   duration Imdb_Score Content_Type         Date_Added  \n",
       "1    99 min     6.2/10        Movie  September 8, 2020  \n",
       "2    95 min     6.4/10        Movie       July 1, 2020  \n",
       "3  1 Season     6.6/10      TV Show                NaN  \n",
       "5   102 min     7.0/10        Movie       May 21, 2020  \n",
       "6   104 min     7.0/10        Movie      June 28, 2020  "
      ]
     },
     "execution_count": 85,
     "metadata": {},
     "output_type": "execute_result"
    }
   ],
   "source": [
    "df.head()"
   ]
  },
  {
   "cell_type": "code",
   "execution_count": null,
   "metadata": {},
   "outputs": [],
   "source": []
  },
  {
   "cell_type": "code",
   "execution_count": null,
   "metadata": {},
   "outputs": [],
   "source": []
  },
  {
   "cell_type": "markdown",
   "metadata": {},
   "source": [
    "## Conversion of the format of Release Date"
   ]
  },
  {
   "cell_type": "code",
   "execution_count": null,
   "metadata": {},
   "outputs": [],
   "source": []
  },
  {
   "cell_type": "code",
   "execution_count": 86,
   "metadata": {},
   "outputs": [
    {
     "data": {
      "text/html": [
       "<div>\n",
       "<style scoped>\n",
       "    .dataframe tbody tr th:only-of-type {\n",
       "        vertical-align: middle;\n",
       "    }\n",
       "\n",
       "    .dataframe tbody tr th {\n",
       "        vertical-align: top;\n",
       "    }\n",
       "\n",
       "    .dataframe thead th {\n",
       "        text-align: right;\n",
       "    }\n",
       "</style>\n",
       "<table border=\"1\" class=\"dataframe\">\n",
       "  <thead>\n",
       "    <tr style=\"text-align: right;\">\n",
       "      <th></th>\n",
       "      <th>Show Id</th>\n",
       "      <th>Title</th>\n",
       "      <th>Description</th>\n",
       "      <th>Genres</th>\n",
       "      <th>release_Date</th>\n",
       "      <th>ratings</th>\n",
       "      <th>duration</th>\n",
       "      <th>Imdb_Score</th>\n",
       "      <th>Content_Type</th>\n",
       "      <th>Date_Added</th>\n",
       "      <th>Date</th>\n",
       "    </tr>\n",
       "  </thead>\n",
       "  <tbody>\n",
       "    <tr>\n",
       "      <th>1</th>\n",
       "      <td>e2ef4e91-fb25-42ab-b485-be8e3b23dedb</td>\n",
       "      <td>#Alive</td>\n",
       "      <td>As a grisly virus rampages a city, a lone man ...</td>\n",
       "      <td>Horror Movies, International Movies, Thrillers</td>\n",
       "      <td>2020.0</td>\n",
       "      <td>TV-MA</td>\n",
       "      <td>99 min</td>\n",
       "      <td>6.2/10</td>\n",
       "      <td>Movie</td>\n",
       "      <td>September 8, 2020</td>\n",
       "      <td>2020-09-08</td>\n",
       "    </tr>\n",
       "    <tr>\n",
       "      <th>2</th>\n",
       "      <td>b01b73b7-81f6-47a7-86d8-acb63080d525</td>\n",
       "      <td>#AnneFrank - Parallel Stories</td>\n",
       "      <td>Through her diary, Anne Frank's story is retol...</td>\n",
       "      <td>Documentaries, International Movies</td>\n",
       "      <td>2019.0</td>\n",
       "      <td>TV-14</td>\n",
       "      <td>95 min</td>\n",
       "      <td>6.4/10</td>\n",
       "      <td>Movie</td>\n",
       "      <td>July 1, 2020</td>\n",
       "      <td>2020-07-01</td>\n",
       "    </tr>\n",
       "    <tr>\n",
       "      <th>3</th>\n",
       "      <td>b6611af0-f53c-4a08-9ffa-9716dc57eb9c</td>\n",
       "      <td>#blackAF</td>\n",
       "      <td>Kenya Barris and his family navigate relations...</td>\n",
       "      <td>TV Comedies</td>\n",
       "      <td>2020.0</td>\n",
       "      <td>TV-MA</td>\n",
       "      <td>1 Season</td>\n",
       "      <td>6.6/10</td>\n",
       "      <td>TV Show</td>\n",
       "      <td>NaN</td>\n",
       "      <td>NaT</td>\n",
       "    </tr>\n",
       "    <tr>\n",
       "      <th>5</th>\n",
       "      <td>c293788a-41f7-49a3-a7fc-005ea33bce2b</td>\n",
       "      <td>#FriendButMarried</td>\n",
       "      <td>Pining for his high school crush for years, a ...</td>\n",
       "      <td>Dramas, International Movies, Romantic Movies</td>\n",
       "      <td>2018.0</td>\n",
       "      <td>TV-G</td>\n",
       "      <td>102 min</td>\n",
       "      <td>7.0/10</td>\n",
       "      <td>Movie</td>\n",
       "      <td>May 21, 2020</td>\n",
       "      <td>2020-05-21</td>\n",
       "    </tr>\n",
       "    <tr>\n",
       "      <th>6</th>\n",
       "      <td>0555e67e-f624-4a05-93e4-55c117d0056d</td>\n",
       "      <td>#FriendButMarried 2</td>\n",
       "      <td>As Ayu and Ditto finally transition from best ...</td>\n",
       "      <td>Dramas, International Movies, Romantic Movies</td>\n",
       "      <td>2020.0</td>\n",
       "      <td>TV-G</td>\n",
       "      <td>104 min</td>\n",
       "      <td>7.0/10</td>\n",
       "      <td>Movie</td>\n",
       "      <td>June 28, 2020</td>\n",
       "      <td>2020-06-28</td>\n",
       "    </tr>\n",
       "  </tbody>\n",
       "</table>\n",
       "</div>"
      ],
      "text/plain": [
       "                                Show Id                          Title  \\\n",
       "1  e2ef4e91-fb25-42ab-b485-be8e3b23dedb                         #Alive   \n",
       "2  b01b73b7-81f6-47a7-86d8-acb63080d525  #AnneFrank - Parallel Stories   \n",
       "3  b6611af0-f53c-4a08-9ffa-9716dc57eb9c                       #blackAF   \n",
       "5  c293788a-41f7-49a3-a7fc-005ea33bce2b              #FriendButMarried   \n",
       "6  0555e67e-f624-4a05-93e4-55c117d0056d            #FriendButMarried 2   \n",
       "\n",
       "                                         Description  \\\n",
       "1  As a grisly virus rampages a city, a lone man ...   \n",
       "2  Through her diary, Anne Frank's story is retol...   \n",
       "3  Kenya Barris and his family navigate relations...   \n",
       "5  Pining for his high school crush for years, a ...   \n",
       "6  As Ayu and Ditto finally transition from best ...   \n",
       "\n",
       "                                           Genres  release_Date ratings  \\\n",
       "1  Horror Movies, International Movies, Thrillers        2020.0   TV-MA   \n",
       "2             Documentaries, International Movies        2019.0   TV-14   \n",
       "3                                     TV Comedies        2020.0   TV-MA   \n",
       "5   Dramas, International Movies, Romantic Movies        2018.0    TV-G   \n",
       "6   Dramas, International Movies, Romantic Movies        2020.0    TV-G   \n",
       "\n",
       "   duration Imdb_Score Content_Type         Date_Added       Date  \n",
       "1    99 min     6.2/10        Movie  September 8, 2020 2020-09-08  \n",
       "2    95 min     6.4/10        Movie       July 1, 2020 2020-07-01  \n",
       "3  1 Season     6.6/10      TV Show                NaN        NaT  \n",
       "5   102 min     7.0/10        Movie       May 21, 2020 2020-05-21  \n",
       "6   104 min     7.0/10        Movie      June 28, 2020 2020-06-28  "
      ]
     },
     "execution_count": 86,
     "metadata": {},
     "output_type": "execute_result"
    }
   ],
   "source": [
    "df[\"Date\"] = pd.to_datetime(df['Date_Added'])\n",
    "df.head()"
   ]
  },
  {
   "cell_type": "code",
   "execution_count": 87,
   "metadata": {},
   "outputs": [
    {
     "data": {
      "text/plain": [
       "False"
      ]
     },
     "execution_count": 87,
     "metadata": {},
     "output_type": "execute_result"
    }
   ],
   "source": [
    "df.duplicated().any()"
   ]
  },
  {
   "cell_type": "code",
   "execution_count": 88,
   "metadata": {},
   "outputs": [],
   "source": [
    "df = df.dropna(subset=['Date'])"
   ]
  },
  {
   "cell_type": "code",
   "execution_count": 89,
   "metadata": {},
   "outputs": [
    {
     "data": {
      "text/html": [
       "<div>\n",
       "<style scoped>\n",
       "    .dataframe tbody tr th:only-of-type {\n",
       "        vertical-align: middle;\n",
       "    }\n",
       "\n",
       "    .dataframe tbody tr th {\n",
       "        vertical-align: top;\n",
       "    }\n",
       "\n",
       "    .dataframe thead th {\n",
       "        text-align: right;\n",
       "    }\n",
       "</style>\n",
       "<table border=\"1\" class=\"dataframe\">\n",
       "  <thead>\n",
       "    <tr style=\"text-align: right;\">\n",
       "      <th></th>\n",
       "      <th>Date</th>\n",
       "      <th>Title</th>\n",
       "    </tr>\n",
       "  </thead>\n",
       "  <tbody>\n",
       "    <tr>\n",
       "      <th>1</th>\n",
       "      <td>2020-09-08</td>\n",
       "      <td>#Alive</td>\n",
       "    </tr>\n",
       "    <tr>\n",
       "      <th>2</th>\n",
       "      <td>2020-07-01</td>\n",
       "      <td>#AnneFrank - Parallel Stories</td>\n",
       "    </tr>\n",
       "    <tr>\n",
       "      <th>5</th>\n",
       "      <td>2020-05-21</td>\n",
       "      <td>#FriendButMarried</td>\n",
       "    </tr>\n",
       "    <tr>\n",
       "      <th>6</th>\n",
       "      <td>2020-06-28</td>\n",
       "      <td>#FriendButMarried 2</td>\n",
       "    </tr>\n",
       "    <tr>\n",
       "      <th>7</th>\n",
       "      <td>2017-09-08</td>\n",
       "      <td>#realityhigh</td>\n",
       "    </tr>\n",
       "    <tr>\n",
       "      <th>...</th>\n",
       "      <td>...</td>\n",
       "      <td>...</td>\n",
       "    </tr>\n",
       "    <tr>\n",
       "      <th>5957</th>\n",
       "      <td>2021-04-15</td>\n",
       "      <td>Zoot Suit</td>\n",
       "    </tr>\n",
       "    <tr>\n",
       "      <th>5958</th>\n",
       "      <td>2020-10-19</td>\n",
       "      <td>Zozo</td>\n",
       "    </tr>\n",
       "    <tr>\n",
       "      <th>5960</th>\n",
       "      <td>2020-10-31</td>\n",
       "      <td>Zumbo's Just Desserts</td>\n",
       "    </tr>\n",
       "    <tr>\n",
       "      <th>5962</th>\n",
       "      <td>2020-04-25</td>\n",
       "      <td>الف مبروك</td>\n",
       "    </tr>\n",
       "    <tr>\n",
       "      <th>5965</th>\n",
       "      <td>2018-02-28</td>\n",
       "      <td>반드시 잡는다</td>\n",
       "    </tr>\n",
       "  </tbody>\n",
       "</table>\n",
       "<p>3943 rows × 2 columns</p>\n",
       "</div>"
      ],
      "text/plain": [
       "           Date                          Title\n",
       "1    2020-09-08                         #Alive\n",
       "2    2020-07-01  #AnneFrank - Parallel Stories\n",
       "5    2020-05-21              #FriendButMarried\n",
       "6    2020-06-28            #FriendButMarried 2\n",
       "7    2017-09-08                   #realityhigh\n",
       "...         ...                            ...\n",
       "5957 2021-04-15                      Zoot Suit\n",
       "5958 2020-10-19                           Zozo\n",
       "5960 2020-10-31          Zumbo's Just Desserts\n",
       "5962 2020-04-25                      الف مبروك\n",
       "5965 2018-02-28                        반드시 잡는다\n",
       "\n",
       "[3943 rows x 2 columns]"
      ]
     },
     "execution_count": 89,
     "metadata": {},
     "output_type": "execute_result"
    }
   ],
   "source": [
    "df[['Date', 'Title']]"
   ]
  },
  {
   "cell_type": "code",
   "execution_count": null,
   "metadata": {},
   "outputs": [],
   "source": []
  },
  {
   "cell_type": "code",
   "execution_count": 90,
   "metadata": {},
   "outputs": [
    {
     "data": {
      "text/plain": [
       "1954.0"
      ]
     },
     "execution_count": 90,
     "metadata": {},
     "output_type": "execute_result"
    }
   ],
   "source": [
    "# Allocating the corresponding earliest release of the movies. \n",
    "(df['release_Date'].min())"
   ]
  },
  {
   "cell_type": "code",
   "execution_count": null,
   "metadata": {},
   "outputs": [],
   "source": []
  },
  {
   "cell_type": "code",
   "execution_count": 91,
   "metadata": {},
   "outputs": [
    {
     "data": {
      "text/html": [
       "<div>\n",
       "<style scoped>\n",
       "    .dataframe tbody tr th:only-of-type {\n",
       "        vertical-align: middle;\n",
       "    }\n",
       "\n",
       "    .dataframe tbody tr th {\n",
       "        vertical-align: top;\n",
       "    }\n",
       "\n",
       "    .dataframe thead th {\n",
       "        text-align: right;\n",
       "    }\n",
       "</style>\n",
       "<table border=\"1\" class=\"dataframe\">\n",
       "  <thead>\n",
       "    <tr style=\"text-align: right;\">\n",
       "      <th></th>\n",
       "      <th>Show Id</th>\n",
       "      <th>Title</th>\n",
       "      <th>Description</th>\n",
       "      <th>Genres</th>\n",
       "      <th>release_Date</th>\n",
       "      <th>ratings</th>\n",
       "      <th>duration</th>\n",
       "      <th>Imdb_Score</th>\n",
       "      <th>Content_Type</th>\n",
       "      <th>Date_Added</th>\n",
       "      <th>Date</th>\n",
       "    </tr>\n",
       "  </thead>\n",
       "  <tbody>\n",
       "    <tr>\n",
       "      <th>5411</th>\n",
       "      <td>b6aafb23-24a2-4328-b85e-62795a7beccf</td>\n",
       "      <td>To and From New York</td>\n",
       "      <td>While covering a story in New York City, a Sea...</td>\n",
       "      <td>Dramas, Independent Movies, Thrillers</td>\n",
       "      <td>2006.0</td>\n",
       "      <td>TV-MA</td>\n",
       "      <td>81 min</td>\n",
       "      <td>5.5/10</td>\n",
       "      <td>Movie</td>\n",
       "      <td>January 1, 2008</td>\n",
       "      <td>2008-01-01</td>\n",
       "    </tr>\n",
       "    <tr>\n",
       "      <th>2440</th>\n",
       "      <td>10a9b02d-3d83-4ed2-bf98-882553f9761a</td>\n",
       "      <td>Just Another Love Story</td>\n",
       "      <td>When he causes a car accident that leaves a yo...</td>\n",
       "      <td>Dramas, International Movies</td>\n",
       "      <td>2007.0</td>\n",
       "      <td>TV-MA</td>\n",
       "      <td>104 min</td>\n",
       "      <td>7.1/10</td>\n",
       "      <td>Movie</td>\n",
       "      <td>May 5, 2009</td>\n",
       "      <td>2009-05-05</td>\n",
       "    </tr>\n",
       "    <tr>\n",
       "      <th>4382</th>\n",
       "      <td>dd9b360f-f7b1-401b-8d3a-374692aed35c</td>\n",
       "      <td>Splatter</td>\n",
       "      <td>After committing suicide, a washed-up rocker r...</td>\n",
       "      <td>Horror Movies</td>\n",
       "      <td>2009.0</td>\n",
       "      <td>TV-MA</td>\n",
       "      <td>29 min</td>\n",
       "      <td>2.9/10</td>\n",
       "      <td>Movie</td>\n",
       "      <td>November 18, 2009</td>\n",
       "      <td>2009-11-18</td>\n",
       "    </tr>\n",
       "    <tr>\n",
       "      <th>1526</th>\n",
       "      <td>5ff9c289-5579-40af-937b-bbe81b229851</td>\n",
       "      <td>Even the Rain</td>\n",
       "      <td>While making a film about the incursion of Chr...</td>\n",
       "      <td>Dramas, International Movies</td>\n",
       "      <td>2010.0</td>\n",
       "      <td>TV-MA</td>\n",
       "      <td>103 min</td>\n",
       "      <td>7.3/10</td>\n",
       "      <td>Movie</td>\n",
       "      <td>May 17, 2011</td>\n",
       "      <td>2011-05-17</td>\n",
       "    </tr>\n",
       "    <tr>\n",
       "      <th>2417</th>\n",
       "      <td>434ed003-d3f5-418c-8892-fc79318fa506</td>\n",
       "      <td>Joseph: King of Dreams</td>\n",
       "      <td>With his gift of dream interpretation and his ...</td>\n",
       "      <td>Children &amp; Family Movies, Dramas, Faith &amp; Spir...</td>\n",
       "      <td>2000.0</td>\n",
       "      <td>TV-PG</td>\n",
       "      <td>75 min</td>\n",
       "      <td>6.6/10</td>\n",
       "      <td>Movie</td>\n",
       "      <td>September 27, 2011</td>\n",
       "      <td>2011-09-27</td>\n",
       "    </tr>\n",
       "    <tr>\n",
       "      <th>...</th>\n",
       "      <td>...</td>\n",
       "      <td>...</td>\n",
       "      <td>...</td>\n",
       "      <td>...</td>\n",
       "      <td>...</td>\n",
       "      <td>...</td>\n",
       "      <td>...</td>\n",
       "      <td>...</td>\n",
       "      <td>...</td>\n",
       "      <td>...</td>\n",
       "      <td>...</td>\n",
       "    </tr>\n",
       "    <tr>\n",
       "      <th>5260</th>\n",
       "      <td>6308483e-8d7b-4a8c-b638-fb0674f45a65</td>\n",
       "      <td>The Twilight Saga: Breaking Dawn: Part 1</td>\n",
       "      <td>After a dream wedding, Bella and Edward enter ...</td>\n",
       "      <td>Dramas, Romantic Movies</td>\n",
       "      <td>2011.0</td>\n",
       "      <td>PG-13</td>\n",
       "      <td>117 min</td>\n",
       "      <td>5.1/10</td>\n",
       "      <td>Movie</td>\n",
       "      <td>July 16, 2021</td>\n",
       "      <td>2021-07-16</td>\n",
       "    </tr>\n",
       "    <tr>\n",
       "      <th>5262</th>\n",
       "      <td>4cd1dfaa-c764-47be-9c8b-9d0e81931f79</td>\n",
       "      <td>The Twilight Saga: Eclipse</td>\n",
       "      <td>With a bloodthirsty enemy on a quest for reven...</td>\n",
       "      <td>Dramas, Romantic Movies</td>\n",
       "      <td>2010.0</td>\n",
       "      <td>PG-13</td>\n",
       "      <td>124 min</td>\n",
       "      <td>4.8/10</td>\n",
       "      <td>Movie</td>\n",
       "      <td>July 16, 2021</td>\n",
       "      <td>2021-07-16</td>\n",
       "    </tr>\n",
       "    <tr>\n",
       "      <th>5261</th>\n",
       "      <td>7efc182f-5620-4a21-95a8-fd2012db6cf5</td>\n",
       "      <td>The Twilight Saga: Breaking Dawn: Part 2</td>\n",
       "      <td>In the epic series' final chapter, Bella and E...</td>\n",
       "      <td>Dramas, Romantic Movies</td>\n",
       "      <td>2012.0</td>\n",
       "      <td>PG-13</td>\n",
       "      <td>115 min</td>\n",
       "      <td>5.6/10</td>\n",
       "      <td>Movie</td>\n",
       "      <td>July 16, 2021</td>\n",
       "      <td>2021-07-16</td>\n",
       "    </tr>\n",
       "    <tr>\n",
       "      <th>5263</th>\n",
       "      <td>b171737a-446a-40cc-bc49-2a651ac335be</td>\n",
       "      <td>The Twilight Saga: New Moon</td>\n",
       "      <td>Still reeling from the departure of vampire Ed...</td>\n",
       "      <td>Dramas, Romantic Movies</td>\n",
       "      <td>2009.0</td>\n",
       "      <td>PG-13</td>\n",
       "      <td>131 min</td>\n",
       "      <td>4.8/10</td>\n",
       "      <td>Movie</td>\n",
       "      <td>July 16, 2021</td>\n",
       "      <td>2021-07-16</td>\n",
       "    </tr>\n",
       "    <tr>\n",
       "      <th>5545</th>\n",
       "      <td>ff462656-e705-4385-9dbe-8834386a9df7</td>\n",
       "      <td>Twilight</td>\n",
       "      <td>When Bella Swan moves in with her father, she ...</td>\n",
       "      <td>Action &amp; Adventure, Dramas, Romantic Movies</td>\n",
       "      <td>2008.0</td>\n",
       "      <td>PG-13</td>\n",
       "      <td>122 min</td>\n",
       "      <td>5.0/10</td>\n",
       "      <td>Movie</td>\n",
       "      <td>July 16, 2021</td>\n",
       "      <td>2021-07-16</td>\n",
       "    </tr>\n",
       "  </tbody>\n",
       "</table>\n",
       "<p>3943 rows × 11 columns</p>\n",
       "</div>"
      ],
      "text/plain": [
       "                                   Show Id  \\\n",
       "5411  b6aafb23-24a2-4328-b85e-62795a7beccf   \n",
       "2440  10a9b02d-3d83-4ed2-bf98-882553f9761a   \n",
       "4382  dd9b360f-f7b1-401b-8d3a-374692aed35c   \n",
       "1526  5ff9c289-5579-40af-937b-bbe81b229851   \n",
       "2417  434ed003-d3f5-418c-8892-fc79318fa506   \n",
       "...                                    ...   \n",
       "5260  6308483e-8d7b-4a8c-b638-fb0674f45a65   \n",
       "5262  4cd1dfaa-c764-47be-9c8b-9d0e81931f79   \n",
       "5261  7efc182f-5620-4a21-95a8-fd2012db6cf5   \n",
       "5263  b171737a-446a-40cc-bc49-2a651ac335be   \n",
       "5545  ff462656-e705-4385-9dbe-8834386a9df7   \n",
       "\n",
       "                                         Title  \\\n",
       "5411                      To and From New York   \n",
       "2440                   Just Another Love Story   \n",
       "4382                                  Splatter   \n",
       "1526                             Even the Rain   \n",
       "2417                    Joseph: King of Dreams   \n",
       "...                                        ...   \n",
       "5260  The Twilight Saga: Breaking Dawn: Part 1   \n",
       "5262                The Twilight Saga: Eclipse   \n",
       "5261  The Twilight Saga: Breaking Dawn: Part 2   \n",
       "5263               The Twilight Saga: New Moon   \n",
       "5545                                  Twilight   \n",
       "\n",
       "                                            Description  \\\n",
       "5411  While covering a story in New York City, a Sea...   \n",
       "2440  When he causes a car accident that leaves a yo...   \n",
       "4382  After committing suicide, a washed-up rocker r...   \n",
       "1526  While making a film about the incursion of Chr...   \n",
       "2417  With his gift of dream interpretation and his ...   \n",
       "...                                                 ...   \n",
       "5260  After a dream wedding, Bella and Edward enter ...   \n",
       "5262  With a bloodthirsty enemy on a quest for reven...   \n",
       "5261  In the epic series' final chapter, Bella and E...   \n",
       "5263  Still reeling from the departure of vampire Ed...   \n",
       "5545  When Bella Swan moves in with her father, she ...   \n",
       "\n",
       "                                                 Genres  release_Date ratings  \\\n",
       "5411              Dramas, Independent Movies, Thrillers        2006.0   TV-MA   \n",
       "2440                       Dramas, International Movies        2007.0   TV-MA   \n",
       "4382                                      Horror Movies        2009.0   TV-MA   \n",
       "1526                       Dramas, International Movies        2010.0   TV-MA   \n",
       "2417  Children & Family Movies, Dramas, Faith & Spir...        2000.0   TV-PG   \n",
       "...                                                 ...           ...     ...   \n",
       "5260                            Dramas, Romantic Movies        2011.0   PG-13   \n",
       "5262                            Dramas, Romantic Movies        2010.0   PG-13   \n",
       "5261                            Dramas, Romantic Movies        2012.0   PG-13   \n",
       "5263                            Dramas, Romantic Movies        2009.0   PG-13   \n",
       "5545        Action & Adventure, Dramas, Romantic Movies        2008.0   PG-13   \n",
       "\n",
       "     duration Imdb_Score Content_Type          Date_Added       Date  \n",
       "5411   81 min     5.5/10        Movie     January 1, 2008 2008-01-01  \n",
       "2440  104 min     7.1/10        Movie         May 5, 2009 2009-05-05  \n",
       "4382   29 min     2.9/10        Movie   November 18, 2009 2009-11-18  \n",
       "1526  103 min     7.3/10        Movie        May 17, 2011 2011-05-17  \n",
       "2417   75 min     6.6/10        Movie  September 27, 2011 2011-09-27  \n",
       "...       ...        ...          ...                 ...        ...  \n",
       "5260  117 min     5.1/10        Movie       July 16, 2021 2021-07-16  \n",
       "5262  124 min     4.8/10        Movie       July 16, 2021 2021-07-16  \n",
       "5261  115 min     5.6/10        Movie       July 16, 2021 2021-07-16  \n",
       "5263  131 min     4.8/10        Movie       July 16, 2021 2021-07-16  \n",
       "5545  122 min     5.0/10        Movie       July 16, 2021 2021-07-16  \n",
       "\n",
       "[3943 rows x 11 columns]"
      ]
     },
     "execution_count": 91,
     "metadata": {},
     "output_type": "execute_result"
    }
   ],
   "source": [
    "#Date dataset specifically the “Date” column in utilisjng [ sort_values() ]\n",
    "#function from the earliest to lastest release dates.\n",
    "\n",
    "df.sort_values(by='Date')"
   ]
  },
  {
   "cell_type": "code",
   "execution_count": null,
   "metadata": {},
   "outputs": [],
   "source": []
  },
  {
   "cell_type": "code",
   "execution_count": null,
   "metadata": {},
   "outputs": [],
   "source": []
  },
  {
   "cell_type": "code",
   "execution_count": 92,
   "metadata": {},
   "outputs": [],
   "source": [
    "# Create bins for each decade through \n",
    "bins = [ 1980, 1990, 2000, 2010, 2020, 2030]\n",
    "names = [ '1980s', '1990s', '2000s', '2010s','2020s']\n",
    "\n",
    "# Create decade column \n",
    "df['decade'] = pd.cut(df['release_Date'], bins, labels=names)"
   ]
  },
  {
   "cell_type": "code",
   "execution_count": null,
   "metadata": {},
   "outputs": [],
   "source": []
  },
  {
   "cell_type": "code",
   "execution_count": 93,
   "metadata": {},
   "outputs": [
    {
     "data": {
      "image/png": "[encoded data removed]",
      "text/plain": [
       "<Figure size 540x360 with 1 Axes>"
      ]
     },
     "metadata": {
      "needs_background": "light"
     },
     "output_type": "display_data"
    }
   ],
   "source": [
    "# Plot number of movies released per decade\n",
    "# Use Seaborn kind = 'count' to do the counting.\n",
    "sns.catplot(x = 'decade', kind = 'count', palette = 'Greens', data = df, aspect = 1.5)\n",
    "plt.ylabel('Number of Movies', fontsize=12)\n",
    "plt.xlabel('decade', fontsize=12)\n",
    "plt.title('Number Of Movies Released Per Decade', fontsize = 12)\n",
    "plt.show()"
   ]
  },
  {
   "cell_type": "markdown",
   "metadata": {},
   "source": [
    "\n",
    "\t**Diagrammatic representation[: Histogram showcasing the following Number of the Movies Release/Produced throughout the six respectable decades from the 1980s -2020s.** \n",
    "\n",
    "\t**From the representation above, there is expeditious increase in the production from the 2000s whereby (< 100) official production of movie were generated to 2010s yielding  (> 3500) official movie production were generated respectively. This therefore emphasis that there is excessive demand for movie production throughout the following decades, denoting (80.0%) increase for production and ongoing from the public.It must be noted the acceerating demand in viewreship respectively from early 1970s towards 2000s , noticeably gradual increase i viewership and exponentially spike in 2010 and onwards**\n",
    "\n",
    "\n",
    "\n",
    "\t**From the beginning of year 2020, there weren’t as much productivity of movie releases due to detrimental issue/factors [COVID Restrictions] which hindered its progressive activity for movie release.**"
   ]
  },
  {
   "cell_type": "code",
   "execution_count": 94,
   "metadata": {},
   "outputs": [],
   "source": [
    "def clean_Data_Ex1(text):\n",
    "    \n",
    "    text = text.lower()\n",
    "    # Generate lowercase text\n",
    "    text = re.sub(r'@[A-Za-z0-9]+', ' ', text)\n",
    "    return text"
   ]
  },
  {
   "cell_type": "markdown",
   "metadata": {},
   "source": []
  },
  {
   "cell_type": "code",
   "execution_count": 95,
   "metadata": {},
   "outputs": [
    {
     "data": {
      "image/png": "[encoded data removed]",
      "text/plain": [
       "<Figure size 432x288 with 1 Axes>"
      ]
     },
     "metadata": {
      "needs_background": "light"
     },
     "output_type": "display_data"
    },
    {
     "name": "stdout",
     "output_type": "stream",
     "text": [
      "Max No.of Movies Relesed = 606\n",
      "Date_Added = 2018.0\n"
     ]
    },
    {
     "data": {
      "text/plain": [
       "count     62.000000\n",
       "mean      63.596774\n",
       "std      140.695749\n",
       "min        1.000000\n",
       "25%        2.250000\n",
       "50%        8.500000\n",
       "75%       37.000000\n",
       "max      606.000000\n",
       "Name: Title, dtype: float64"
      ]
     },
     "execution_count": 95,
     "metadata": {},
     "output_type": "execute_result"
    }
   ],
   "source": [
    "##4. Descriptive Analytics and Visualization\n",
    "##[Release Date implementation; Year]\n",
    "# Determine out which Year has the highest number of Movie releases\n",
    "\n",
    "#Ploting a Graph with No.of Movies each Year corresponding to its Year\n",
    "\n",
    "df['Date_Added'] = df['Title'].str.extract('.*\\((.*)\\).*',expand = False)\n",
    "\n",
    "plt.plot(df.groupby('Date_Added').Title.count())\n",
    "plt.show()\n",
    "a=df.groupby('release_Date').Title.count()\n",
    "print('Max No.of Movies Relesed =',a.max())\n",
    "for x in a.index:\n",
    "    if a[x] == a.max():\n",
    "        print('Date_Added =',x)\n",
    "a.describe()"
   ]
  },
  {
   "cell_type": "code",
   "execution_count": null,
   "metadata": {},
   "outputs": [],
   "source": []
  },
  {
   "cell_type": "markdown",
   "metadata": {},
   "source": [
    "## Virtualisation"
   ]
  },
  {
   "cell_type": "code",
   "execution_count": null,
   "metadata": {},
   "outputs": [],
   "source": []
  },
  {
   "cell_type": "markdown",
   "metadata": {},
   "source": [
    "**Distribution of TV shows and Movies respectively**"
   ]
  },
  {
   "cell_type": "code",
   "execution_count": 96,
   "metadata": {},
   "outputs": [
    {
     "data": {
      "text/plain": [
       "<AxesSubplot:title={'center':'Content Type on Netflix'}, ylabel='Content_Type'>"
      ]
     },
     "execution_count": 96,
     "metadata": {},
     "output_type": "execute_result"
    },
    {
     "data": {
      "image/png": "[encoded data removed]",
      "text/plain": [
       "<Figure size 720x1440 with 1 Axes>"
      ]
     },
     "metadata": {},
     "output_type": "display_data"
    }
   ],
   "source": [
    "contentType_count = df['Content_Type'].value_counts()\n",
    "contentType_count.plot(kind='pie', autopct='%1.1f%%', legend=True, explode=(0, 0.1), \n",
    "                        title = \"Content Type on Netflix\", colors=[\"red\", \"blue\"],\n",
    "                        figsize=(10,20))"
   ]
  },
  {
   "cell_type": "code",
   "execution_count": null,
   "metadata": {},
   "outputs": [],
   "source": []
  },
  {
   "cell_type": "code",
   "execution_count": 97,
   "metadata": {},
   "outputs": [
    {
     "name": "stdout",
     "output_type": "stream",
     "text": [
      "Yearly Distribution of the following Netflix Shows\n"
     ]
    },
    {
     "data": {
      "text/plain": [
       "<AxesSubplot:title={'center':'Follwoing Years with the Corespoundings Netflix Movies and Shows'}>"
      ]
     },
     "execution_count": 97,
     "metadata": {},
     "output_type": "execute_result"
    },
    {
     "data": {
      "image/png": "[encoded data removed]",
      "text/plain": [
       "<Figure size 864x288 with 1 Axes>"
      ]
     },
     "metadata": {
      "needs_background": "light"
     },
     "output_type": "display_data"
    }
   ],
   "source": [
    "print(\"Yearly Distribution of the following Netflix Shows\")\n",
    "## SORTING BY ASCENDING ORDER;\n",
    "year_no_of_shows= df[\"release_Date\"].value_counts().sort_values(ascending=False) \n",
    "plt.figure(figsize=(12,4))\n",
    "year_no_of_shows.plot(title='Follwoing Years with the Corespoundings Netflix Movies and Shows',kind=\"bar\")"
   ]
  },
  {
   "cell_type": "markdown",
   "metadata": {},
   "source": [
    "  The Following four years presents the most number of relaseses of content {various distinct categorical genres} published/stream by Netflix:\n",
    "  \n",
    "- 2019\n",
    "- 2020\n",
    "- 2018\n",
    "- 2017\n",
    " \n",
    " -**Furthermore , it must be highlighted that there striking noticeable drastic increase in amount of viewership over  the extensive years from early 2000s to present 20200, whereby in recent previous years from 2016 onwards (2017- 640, 2018- 920 , 2019- 940, 2020- 950) has been paradigm shift in relations to amounts of viewship respectively.**"
   ]
  },
  {
   "cell_type": "code",
   "execution_count": null,
   "metadata": {},
   "outputs": [],
   "source": []
  },
  {
   "cell_type": "code",
   "execution_count": 98,
   "metadata": {},
   "outputs": [
    {
     "data": {
      "text/plain": [
       "Text(0, 0.5, 'Count of Movie/ TV Show')"
      ]
     },
     "execution_count": 98,
     "metadata": {},
     "output_type": "execute_result"
    },
    {
     "data": {
      "image/png": "[encoded data removed]",
      "text/plain": [
       "<Figure size 1440x720 with 1 Axes>"
      ]
     },
     "metadata": {
      "needs_background": "light"
     },
     "output_type": "display_data"
    }
   ],
   "source": [
    "df['release_Date'] = df['release_Date'].round().astype(int)\n",
    "content_added = df.groupby([\"Content_Type\",\"release_Date\"])[\"release_Date\"].count().unstack('Content_Type')\n",
    "content_added = content_added.sort_values(ascending=True, by='release_Date')\n",
    "content_added.plot(kind='bar',color=[\"#221f1f\",\"#800080\"],figsize=(20, 10), title = \"Following Release Year\").set_ylabel(\"Count of Movie/ TV Show\")"
   ]
  },
  {
   "cell_type": "code",
   "execution_count": null,
   "metadata": {},
   "outputs": [],
   "source": []
  },
  {
   "cell_type": "code",
   "execution_count": null,
   "metadata": {},
   "outputs": [],
   "source": []
  },
  {
   "cell_type": "code",
   "execution_count": 99,
   "metadata": {},
   "outputs": [
    {
     "name": "stderr",
     "output_type": "stream",
     "text": [
      "C:\\Users\\Ricky Dindial\\anaconda3\\lib\\site-packages\\seaborn\\distributions.py:2551: FutureWarning: `distplot` is a deprecated function and will be removed in a future version. Please adapt your code to use either `displot` (a figure-level function with similar flexibility) or `histplot` (an axes-level function for histograms).\n",
      "  warnings.warn(msg, FutureWarning)\n"
     ]
    },
    {
     "data": {
      "image/png": "[encoded data removed]",
      "text/plain": [
       "<Figure size 1296x720 with 1 Axes>"
      ]
     },
     "metadata": {
      "needs_background": "light"
     },
     "output_type": "display_data"
    }
   ],
   "source": [
    "plt.figure(figsize=(18,10))\n",
    "sns.distplot(df['release_Date'], bins=40, color='#0000FF')\n",
    "plt.title('Average Number of shows released', fontsize=16)\n",
    "plt.show()"
   ]
  },
  {
   "cell_type": "code",
   "execution_count": null,
   "metadata": {},
   "outputs": [],
   "source": []
  },
  {
   "cell_type": "code",
   "execution_count": null,
   "metadata": {},
   "outputs": [],
   "source": []
  },
  {
   "cell_type": "markdown",
   "metadata": {},
   "source": [
    "## Analysing most frequent range of IDMB Scores"
   ]
  },
  {
   "cell_type": "code",
   "execution_count": 103,
   "metadata": {},
   "outputs": [
    {
     "data": {
      "text/plain": [
       "(array([ 0,  1,  2,  3,  4,  5,  6,  7,  8,  9, 10, 11, 12, 13, 14, 15, 16,\n",
       "        17, 18, 19, 20, 21, 22, 23, 24, 25, 26, 27, 28, 29, 30, 31, 32, 33,\n",
       "        34, 35, 36, 37, 38, 39, 40, 41, 42, 43, 44, 45, 46, 47, 48, 49, 50,\n",
       "        51, 52, 53, 54, 55, 56, 57, 58, 59, 60, 61, 62, 63, 64, 65, 66, 67,\n",
       "        68, 69, 70, 71, 72, 73, 74, 75, 76, 77]),\n",
       " [Text(0, 0, '9.4/10'),\n",
       "  Text(1, 0, '9.3/10'),\n",
       "  Text(2, 0, '9.2/10'),\n",
       "  Text(3, 0, '9.1/10'),\n",
       "  Text(4, 0, '9.0/10'),\n",
       "  Text(5, 0, '8.9/10'),\n",
       "  Text(6, 0, '8.8/10'),\n",
       "  Text(7, 0, '8.7/10'),\n",
       "  Text(8, 0, '8.6/10'),\n",
       "  Text(9, 0, '8.5/10'),\n",
       "  Text(10, 0, '8.4/10'),\n",
       "  Text(11, 0, '8.3/10'),\n",
       "  Text(12, 0, '8.2/10'),\n",
       "  Text(13, 0, '8.1/10'),\n",
       "  Text(14, 0, '8.0/10'),\n",
       "  Text(15, 0, '7.9/10'),\n",
       "  Text(16, 0, '7.8/10'),\n",
       "  Text(17, 0, '7.7/10'),\n",
       "  Text(18, 0, '7.6/10'),\n",
       "  Text(19, 0, '7.5/10'),\n",
       "  Text(20, 0, '7.4/10'),\n",
       "  Text(21, 0, '7.3/10'),\n",
       "  Text(22, 0, '7.2/10'),\n",
       "  Text(23, 0, '7.1/10'),\n",
       "  Text(24, 0, '7.0/10'),\n",
       "  Text(25, 0, '6.9/10'),\n",
       "  Text(26, 0, '6.8/10'),\n",
       "  Text(27, 0, '6.7/10'),\n",
       "  Text(28, 0, '6.6/10'),\n",
       "  Text(29, 0, '6.5/10'),\n",
       "  Text(30, 0, '6.4/10'),\n",
       "  Text(31, 0, '6.3/10'),\n",
       "  Text(32, 0, '6.2/10'),\n",
       "  Text(33, 0, '6.1/10'),\n",
       "  Text(34, 0, '6.0/10'),\n",
       "  Text(35, 0, '5.9/10'),\n",
       "  Text(36, 0, '5.8/10'),\n",
       "  Text(37, 0, '5.7/10'),\n",
       "  Text(38, 0, '5.6/10'),\n",
       "  Text(39, 0, '5.5/10'),\n",
       "  Text(40, 0, '5.4/10'),\n",
       "  Text(41, 0, '5.3/10'),\n",
       "  Text(42, 0, '5.2/10'),\n",
       "  Text(43, 0, '5.1/10'),\n",
       "  Text(44, 0, '5.0/10'),\n",
       "  Text(45, 0, '4.9/10'),\n",
       "  Text(46, 0, '4.8/10'),\n",
       "  Text(47, 0, '4.7/10'),\n",
       "  Text(48, 0, '4.6/10'),\n",
       "  Text(49, 0, '4.5/10'),\n",
       "  Text(50, 0, '4.4/10'),\n",
       "  Text(51, 0, '4.3/10'),\n",
       "  Text(52, 0, '4.2/10'),\n",
       "  Text(53, 0, '4.1/10'),\n",
       "  Text(54, 0, '4.0/10'),\n",
       "  Text(55, 0, '3.9/10'),\n",
       "  Text(56, 0, '3.8/10'),\n",
       "  Text(57, 0, '3.7/10'),\n",
       "  Text(58, 0, '3.6/10'),\n",
       "  Text(59, 0, '3.5/10'),\n",
       "  Text(60, 0, '3.4/10'),\n",
       "  Text(61, 0, '3.3/10'),\n",
       "  Text(62, 0, '3.2/10'),\n",
       "  Text(63, 0, '3.1/10'),\n",
       "  Text(64, 0, '3.0/10'),\n",
       "  Text(65, 0, '2.9/10'),\n",
       "  Text(66, 0, '2.8/10'),\n",
       "  Text(67, 0, '2.7/10'),\n",
       "  Text(68, 0, '2.6/10'),\n",
       "  Text(69, 0, '2.5/10'),\n",
       "  Text(70, 0, '2.4/10'),\n",
       "  Text(71, 0, '2.3/10'),\n",
       "  Text(72, 0, '2.2/10'),\n",
       "  Text(73, 0, '2.1/10'),\n",
       "  Text(74, 0, '1.9/10'),\n",
       "  Text(75, 0, '1.8/10'),\n",
       "  Text(76, 0, '1.7/10'),\n",
       "  Text(77, 0, '1.3/10')])"
      ]
     },
     "execution_count": 103,
     "metadata": {},
     "output_type": "execute_result"
    },
    {
     "data": {
      "image/png": "[encoded data removed]",
      "text/plain": [
       "<Figure size 1800x720 with 1 Axes>"
      ]
     },
     "metadata": {
      "needs_background": "light"
     },
     "output_type": "display_data"
    }
   ],
   "source": [
    "Imdb_Score=df.groupby(\"Imdb_Score\")['Title'].count().reset_index().sort_values(by='Imdb_Score',ascending=False).reset_index(drop=True)\n",
    "plt.figure(figsize=(25,10))\n",
    "sns.barplot(x='Imdb_Score',y='Title', data=Imdb_Score)\n",
    "plt.xticks(rotation=90)"
   ]
  },
  {
   "cell_type": "code",
   "execution_count": null,
   "metadata": {},
   "outputs": [],
   "source": []
  },
  {
   "cell_type": "code",
   "execution_count": null,
   "metadata": {},
   "outputs": [],
   "source": []
  },
  {
   "cell_type": "markdown",
   "metadata": {},
   "source": [
    "## How is the Rating distribution?"
   ]
  },
  {
   "cell_type": "code",
   "execution_count": null,
   "metadata": {},
   "outputs": [],
   "source": []
  },
  {
   "cell_type": "code",
   "execution_count": 28,
   "metadata": {},
   "outputs": [
    {
     "name": "stdout",
     "output_type": "stream",
     "text": [
      "TV-MA    1638\n",
      "TV-14     983\n",
      "R         370\n",
      "TV-PG     295\n",
      "PG-13     218\n",
      "PG        118\n",
      "TV-Y7     117\n",
      "TV-Y      106\n",
      "TV-G       83\n",
      "G          14\n",
      "NC-17       1\n",
      "Name: ratings, dtype: int64\n"
     ]
    }
   ],
   "source": [
    "freq_Distr = df['ratings'].value_counts()\n",
    "print(freq_Distr)"
   ]
  },
  {
   "cell_type": "code",
   "execution_count": null,
   "metadata": {},
   "outputs": [],
   "source": []
  },
  {
   "cell_type": "code",
   "execution_count": null,
   "metadata": {},
   "outputs": [],
   "source": []
  },
  {
   "cell_type": "markdown",
   "metadata": {},
   "source": [
    "**Distribution of the rating for the following TV shows and Movies respectively over the extensive period ( Year release-1950s , 2000s and currently 2020)**"
   ]
  },
  {
   "cell_type": "code",
   "execution_count": null,
   "metadata": {},
   "outputs": [],
   "source": []
  },
  {
   "cell_type": "code",
   "execution_count": 29,
   "metadata": {},
   "outputs": [
    {
     "data": {
      "image/png": "[encoded data removed]",
      "text/plain": [
       "<Figure size 864x864 with 1 Axes>"
      ]
     },
     "metadata": {},
     "output_type": "display_data"
    }
   ],
   "source": [
    "plt.figure(figsize=(12,12))\n",
    "\n",
    "df.ratings.value_counts().plot(kind='pie',autopct='%1.1f%%')\n",
    "plt.title('The following Number of Appearances in NetflixData dataset')\n",
    "plt.show()"
   ]
  },
  {
   "cell_type": "markdown",
   "metadata": {},
   "source": [
    "The following predomiant 'ratings' in the dataset from our viewers:\n",
    " - TV-MA\n",
    " - TV-14\n",
    " - TV-PG\n",
    " - R\n"
   ]
  },
  {
   "cell_type": "code",
   "execution_count": null,
   "metadata": {},
   "outputs": [],
   "source": []
  },
  {
   "cell_type": "code",
   "execution_count": 30,
   "metadata": {},
   "outputs": [
    {
     "data": {
      "text/plain": [
       "<AxesSubplot:xlabel='ratings', ylabel='count'>"
      ]
     },
     "execution_count": 30,
     "metadata": {},
     "output_type": "execute_result"
    },
    {
     "data": {
      "image/png": "[encoded data removed]",
      "text/plain": [
       "<Figure size 1440x576 with 1 Axes>"
      ]
     },
     "metadata": {
      "needs_background": "light"
     },
     "output_type": "display_data"
    }
   ],
   "source": [
    "plt.figure(figsize=(20,8))\n",
    "sns.countplot(x=\"ratings\", data=df)"
   ]
  },
  {
   "cell_type": "code",
   "execution_count": null,
   "metadata": {},
   "outputs": [],
   "source": []
  },
  {
   "cell_type": "code",
   "execution_count": null,
   "metadata": {},
   "outputs": [],
   "source": []
  },
  {
   "cell_type": "markdown",
   "metadata": {},
   "source": [
    "## Year-wise Ratings"
   ]
  },
  {
   "cell_type": "code",
   "execution_count": 31,
   "metadata": {},
   "outputs": [
    {
     "name": "stdout",
     "output_type": "stream",
     "text": [
      "The Following  Ratings and their correspounding event occurence in every year:\n"
     ]
    },
    {
     "data": {
      "text/plain": [
       "release_Date  ratings\n",
       "1954          TV-14       1\n",
       "              TV-G        1\n",
       "1956          TV-14       1\n",
       "1958          TV-14       1\n",
       "1959          TV-14       1\n",
       "                         ..\n",
       "2021          TV-G        4\n",
       "              TV-MA      89\n",
       "              TV-PG      14\n",
       "              TV-Y        9\n",
       "              TV-Y7      11\n",
       "Length: 289, dtype: int64"
      ]
     },
     "execution_count": 31,
     "metadata": {},
     "output_type": "execute_result"
    }
   ],
   "source": [
    "print('The Following  Ratings and their correspounding event occurence in every year:')\n",
    "df.groupby((['release_Date', 'ratings'])).size()"
   ]
  },
  {
   "cell_type": "code",
   "execution_count": null,
   "metadata": {},
   "outputs": [],
   "source": []
  },
  {
   "cell_type": "markdown",
   "metadata": {},
   "source": [
    "## Genres"
   ]
  },
  {
   "cell_type": "code",
   "execution_count": null,
   "metadata": {},
   "outputs": [],
   "source": []
  },
  {
   "cell_type": "code",
   "execution_count": 32,
   "metadata": {},
   "outputs": [
    {
     "data": {
      "text/plain": [
       "<AxesSubplot:ylabel='Genres'>"
      ]
     },
     "execution_count": 32,
     "metadata": {},
     "output_type": "execute_result"
    },
    {
     "data": {
      "image/png": "[encoded data removed]",
      "text/plain": [
       "<Figure size 720x720 with 1 Axes>"
      ]
     },
     "metadata": {
      "needs_background": "light"
     },
     "output_type": "display_data"
    }
   ],
   "source": [
    "genres = \", \".join(df['Genres']).split(\", \")\n",
    "genres\n",
    "\n",
    "from collections import Counter\n",
    "cnt = Counter()\n",
    "for genre in genres:\n",
    "    cnt[genre] += 1\n",
    "\n",
    "topGenres = cnt.most_common(20)\n",
    "df_topGenres = pd.DataFrame (topGenres, columns = ['Genres','Genres Count'])\n",
    "df_topGenres.sort_values(ascending=True, by='Genres Count', inplace=True)\n",
    "df_topGenres.plot.barh(x='Genres',color=[\"red\",\"blue\"],width=0.7,legend=False, figsize=(10, 10))"
   ]
  },
  {
   "cell_type": "code",
   "execution_count": null,
   "metadata": {},
   "outputs": [],
   "source": []
  },
  {
   "cell_type": "markdown",
   "metadata": {},
   "source": [
    "## Time Series Analysis\n",
    "\n",
    "**Investigational analysis was undertaken whereby we explored the and ardously foxus on the key elements (various dataype fields:n rekease year, title, Cast, Duraton, Description ).Dynmaically, we instrinsically explored and meticulously explored the following datatype filds that all contributes to the optimization of a suitable recommended distribution o Rating for TV shoes and Movies respectively projecting towards an overall refined reinvigorated entertainment preoduct nationwide .**\n",
    "\n",
    "\n",
    "Tasks:\n",
    "1. Source your data\n",
    "2. Wrangle your data\n",
    "3. Exploratory Data Analysis\n",
    "4. Trends and seasonality in time series data\n",
    "    * Identifying Trends"
   ]
  },
  {
   "cell_type": "code",
   "execution_count": null,
   "metadata": {},
   "outputs": [],
   "source": []
  },
  {
   "cell_type": "code",
   "execution_count": 33,
   "metadata": {},
   "outputs": [],
   "source": [
    "df.set_index('Date',inplace=True)"
   ]
  },
  {
   "cell_type": "code",
   "execution_count": 34,
   "metadata": {},
   "outputs": [
    {
     "data": {
      "text/html": [
       "<div>\n",
       "<style scoped>\n",
       "    .dataframe tbody tr th:only-of-type {\n",
       "        vertical-align: middle;\n",
       "    }\n",
       "\n",
       "    .dataframe tbody tr th {\n",
       "        vertical-align: top;\n",
       "    }\n",
       "\n",
       "    .dataframe thead th {\n",
       "        text-align: right;\n",
       "    }\n",
       "</style>\n",
       "<table border=\"1\" class=\"dataframe\">\n",
       "  <thead>\n",
       "    <tr style=\"text-align: right;\">\n",
       "      <th></th>\n",
       "      <th>Show Id</th>\n",
       "      <th>Title</th>\n",
       "      <th>Description</th>\n",
       "      <th>Genres</th>\n",
       "      <th>release_Date</th>\n",
       "      <th>ratings</th>\n",
       "      <th>duration</th>\n",
       "      <th>Imdb_Score</th>\n",
       "      <th>Content_Type</th>\n",
       "      <th>Date_Added</th>\n",
       "      <th>decade</th>\n",
       "    </tr>\n",
       "    <tr>\n",
       "      <th>Date</th>\n",
       "      <th></th>\n",
       "      <th></th>\n",
       "      <th></th>\n",
       "      <th></th>\n",
       "      <th></th>\n",
       "      <th></th>\n",
       "      <th></th>\n",
       "      <th></th>\n",
       "      <th></th>\n",
       "      <th></th>\n",
       "      <th></th>\n",
       "    </tr>\n",
       "  </thead>\n",
       "  <tbody>\n",
       "    <tr>\n",
       "      <th>2020-09-08</th>\n",
       "      <td>e2ef4e91-fb25-42ab-b485-be8e3b23dedb</td>\n",
       "      <td>#Alive</td>\n",
       "      <td>As a grisly virus rampages a city, a lone man ...</td>\n",
       "      <td>Horror Movies, International Movies, Thrillers</td>\n",
       "      <td>2020</td>\n",
       "      <td>TV-MA</td>\n",
       "      <td>99 min</td>\n",
       "      <td>6.2/10</td>\n",
       "      <td>Movie</td>\n",
       "      <td>NaN</td>\n",
       "      <td>2010s</td>\n",
       "    </tr>\n",
       "    <tr>\n",
       "      <th>2020-07-01</th>\n",
       "      <td>b01b73b7-81f6-47a7-86d8-acb63080d525</td>\n",
       "      <td>#AnneFrank - Parallel Stories</td>\n",
       "      <td>Through her diary, Anne Frank's story is retol...</td>\n",
       "      <td>Documentaries, International Movies</td>\n",
       "      <td>2019</td>\n",
       "      <td>TV-14</td>\n",
       "      <td>95 min</td>\n",
       "      <td>6.4/10</td>\n",
       "      <td>Movie</td>\n",
       "      <td>NaN</td>\n",
       "      <td>2010s</td>\n",
       "    </tr>\n",
       "    <tr>\n",
       "      <th>2020-05-21</th>\n",
       "      <td>c293788a-41f7-49a3-a7fc-005ea33bce2b</td>\n",
       "      <td>#FriendButMarried</td>\n",
       "      <td>Pining for his high school crush for years, a ...</td>\n",
       "      <td>Dramas, International Movies, Romantic Movies</td>\n",
       "      <td>2018</td>\n",
       "      <td>TV-G</td>\n",
       "      <td>102 min</td>\n",
       "      <td>7.0/10</td>\n",
       "      <td>Movie</td>\n",
       "      <td>NaN</td>\n",
       "      <td>2010s</td>\n",
       "    </tr>\n",
       "    <tr>\n",
       "      <th>2020-06-28</th>\n",
       "      <td>0555e67e-f624-4a05-93e4-55c117d0056d</td>\n",
       "      <td>#FriendButMarried 2</td>\n",
       "      <td>As Ayu and Ditto finally transition from best ...</td>\n",
       "      <td>Dramas, International Movies, Romantic Movies</td>\n",
       "      <td>2020</td>\n",
       "      <td>TV-G</td>\n",
       "      <td>104 min</td>\n",
       "      <td>7.0/10</td>\n",
       "      <td>Movie</td>\n",
       "      <td>NaN</td>\n",
       "      <td>2010s</td>\n",
       "    </tr>\n",
       "    <tr>\n",
       "      <th>2017-09-08</th>\n",
       "      <td>c844460f-6178-4f87-929e-80816c74ca35</td>\n",
       "      <td>#realityhigh</td>\n",
       "      <td>When nerdy high schooler Dani finally attracts...</td>\n",
       "      <td>Comedies</td>\n",
       "      <td>2017</td>\n",
       "      <td>TV-14</td>\n",
       "      <td>99 min</td>\n",
       "      <td>5.1/10</td>\n",
       "      <td>Movie</td>\n",
       "      <td>NaN</td>\n",
       "      <td>2010s</td>\n",
       "    </tr>\n",
       "    <tr>\n",
       "      <th>2021-06-21</th>\n",
       "      <td>6da2fc83-1546-4e9d-bf2e-9b472a059c18</td>\n",
       "      <td>#Selfie</td>\n",
       "      <td>Two days before their final exams, three teen ...</td>\n",
       "      <td>Comedies, Dramas, International Movies</td>\n",
       "      <td>2014</td>\n",
       "      <td>TV-MA</td>\n",
       "      <td>125 min</td>\n",
       "      <td>5.8/10</td>\n",
       "      <td>Movie</td>\n",
       "      <td>NaN</td>\n",
       "      <td>2010s</td>\n",
       "    </tr>\n",
       "    <tr>\n",
       "      <th>2021-06-21</th>\n",
       "      <td>2aa7f08b-0321-4398-baa9-4a138f8cb9e9</td>\n",
       "      <td>#Selfie 69</td>\n",
       "      <td>After a painful breakup, a trio of party-lovin...</td>\n",
       "      <td>Comedies, Dramas, International Movies</td>\n",
       "      <td>2016</td>\n",
       "      <td>TV-MA</td>\n",
       "      <td>119 min</td>\n",
       "      <td>6.0/10</td>\n",
       "      <td>Movie</td>\n",
       "      <td>NaN</td>\n",
       "      <td>2010s</td>\n",
       "    </tr>\n",
       "    <tr>\n",
       "      <th>2019-10-18</th>\n",
       "      <td>ea94d1e2-dfb5-4fb0-b941-ca4b1ade98c1</td>\n",
       "      <td>10 Days in Sun City</td>\n",
       "      <td>After his girlfriend wins the Miss Nigeria pag...</td>\n",
       "      <td>Comedies, International Movies, Romantic Movies</td>\n",
       "      <td>2017</td>\n",
       "      <td>TV-14</td>\n",
       "      <td>87 min</td>\n",
       "      <td>5.1/10</td>\n",
       "      <td>Movie</td>\n",
       "      <td>NaN</td>\n",
       "      <td>2010s</td>\n",
       "    </tr>\n",
       "    <tr>\n",
       "      <th>2017-07-01</th>\n",
       "      <td>eb2818f5-d01b-46fe-8797-931a767d5831</td>\n",
       "      <td>10 jours en or</td>\n",
       "      <td>When a carefree bachelor is unexpectedly left ...</td>\n",
       "      <td>Comedies, Dramas, International Movies</td>\n",
       "      <td>2012</td>\n",
       "      <td>TV-14</td>\n",
       "      <td>97 min</td>\n",
       "      <td>6.1/10</td>\n",
       "      <td>Movie</td>\n",
       "      <td>NaN</td>\n",
       "      <td>2010s</td>\n",
       "    </tr>\n",
       "    <tr>\n",
       "      <th>2017-03-10</th>\n",
       "      <td>94f39a7c-7d6e-47bc-9dc2-3db2c81c0e73</td>\n",
       "      <td>100 Meters</td>\n",
       "      <td>A man who is diagnosed with multiple sclerosis...</td>\n",
       "      <td>Dramas, International Movies, Sports Movies</td>\n",
       "      <td>2016</td>\n",
       "      <td>TV-MA</td>\n",
       "      <td>109 min</td>\n",
       "      <td>7.6/10</td>\n",
       "      <td>Movie</td>\n",
       "      <td>NaN</td>\n",
       "      <td>2010s</td>\n",
       "    </tr>\n",
       "  </tbody>\n",
       "</table>\n",
       "</div>"
      ],
      "text/plain": [
       "                                         Show Id  \\\n",
       "Date                                               \n",
       "2020-09-08  e2ef4e91-fb25-42ab-b485-be8e3b23dedb   \n",
       "2020-07-01  b01b73b7-81f6-47a7-86d8-acb63080d525   \n",
       "2020-05-21  c293788a-41f7-49a3-a7fc-005ea33bce2b   \n",
       "2020-06-28  0555e67e-f624-4a05-93e4-55c117d0056d   \n",
       "2017-09-08  c844460f-6178-4f87-929e-80816c74ca35   \n",
       "2021-06-21  6da2fc83-1546-4e9d-bf2e-9b472a059c18   \n",
       "2021-06-21  2aa7f08b-0321-4398-baa9-4a138f8cb9e9   \n",
       "2019-10-18  ea94d1e2-dfb5-4fb0-b941-ca4b1ade98c1   \n",
       "2017-07-01  eb2818f5-d01b-46fe-8797-931a767d5831   \n",
       "2017-03-10  94f39a7c-7d6e-47bc-9dc2-3db2c81c0e73   \n",
       "\n",
       "                                    Title  \\\n",
       "Date                                        \n",
       "2020-09-08                         #Alive   \n",
       "2020-07-01  #AnneFrank - Parallel Stories   \n",
       "2020-05-21              #FriendButMarried   \n",
       "2020-06-28            #FriendButMarried 2   \n",
       "2017-09-08                   #realityhigh   \n",
       "2021-06-21                        #Selfie   \n",
       "2021-06-21                     #Selfie 69   \n",
       "2019-10-18            10 Days in Sun City   \n",
       "2017-07-01                 10 jours en or   \n",
       "2017-03-10                     100 Meters   \n",
       "\n",
       "                                                  Description  \\\n",
       "Date                                                            \n",
       "2020-09-08  As a grisly virus rampages a city, a lone man ...   \n",
       "2020-07-01  Through her diary, Anne Frank's story is retol...   \n",
       "2020-05-21  Pining for his high school crush for years, a ...   \n",
       "2020-06-28  As Ayu and Ditto finally transition from best ...   \n",
       "2017-09-08  When nerdy high schooler Dani finally attracts...   \n",
       "2021-06-21  Two days before their final exams, three teen ...   \n",
       "2021-06-21  After a painful breakup, a trio of party-lovin...   \n",
       "2019-10-18  After his girlfriend wins the Miss Nigeria pag...   \n",
       "2017-07-01  When a carefree bachelor is unexpectedly left ...   \n",
       "2017-03-10  A man who is diagnosed with multiple sclerosis...   \n",
       "\n",
       "                                                     Genres  release_Date  \\\n",
       "Date                                                                        \n",
       "2020-09-08   Horror Movies, International Movies, Thrillers          2020   \n",
       "2020-07-01              Documentaries, International Movies          2019   \n",
       "2020-05-21    Dramas, International Movies, Romantic Movies          2018   \n",
       "2020-06-28    Dramas, International Movies, Romantic Movies          2020   \n",
       "2017-09-08                                         Comedies          2017   \n",
       "2021-06-21           Comedies, Dramas, International Movies          2014   \n",
       "2021-06-21           Comedies, Dramas, International Movies          2016   \n",
       "2019-10-18  Comedies, International Movies, Romantic Movies          2017   \n",
       "2017-07-01           Comedies, Dramas, International Movies          2012   \n",
       "2017-03-10      Dramas, International Movies, Sports Movies          2016   \n",
       "\n",
       "           ratings duration Imdb_Score Content_Type Date_Added decade  \n",
       "Date                                                                   \n",
       "2020-09-08   TV-MA   99 min     6.2/10        Movie        NaN  2010s  \n",
       "2020-07-01   TV-14   95 min     6.4/10        Movie        NaN  2010s  \n",
       "2020-05-21    TV-G  102 min     7.0/10        Movie        NaN  2010s  \n",
       "2020-06-28    TV-G  104 min     7.0/10        Movie        NaN  2010s  \n",
       "2017-09-08   TV-14   99 min     5.1/10        Movie        NaN  2010s  \n",
       "2021-06-21   TV-MA  125 min     5.8/10        Movie        NaN  2010s  \n",
       "2021-06-21   TV-MA  119 min     6.0/10        Movie        NaN  2010s  \n",
       "2019-10-18   TV-14   87 min     5.1/10        Movie        NaN  2010s  \n",
       "2017-07-01   TV-14   97 min     6.1/10        Movie        NaN  2010s  \n",
       "2017-03-10   TV-MA  109 min     7.6/10        Movie        NaN  2010s  "
      ]
     },
     "execution_count": 34,
     "metadata": {},
     "output_type": "execute_result"
    }
   ],
   "source": [
    "df.head(10)"
   ]
  },
  {
   "cell_type": "code",
   "execution_count": null,
   "metadata": {},
   "outputs": [],
   "source": []
  },
  {
   "cell_type": "markdown",
   "metadata": {},
   "source": [
    "## Exploratory Data Analysis (EDA)"
   ]
  },
  {
   "cell_type": "markdown",
   "metadata": {},
   "source": [
    "#### Plotting the data for Imdb Score"
   ]
  },
  {
   "cell_type": "code",
   "execution_count": 48,
   "metadata": {},
   "outputs": [],
   "source": [
    "df['Imdb_Score'] = df['Imdb_Score'].str.replace(' ', '+').apply(eval)"
   ]
  },
  {
   "cell_type": "code",
   "execution_count": 50,
   "metadata": {},
   "outputs": [],
   "source": [
    "df['Imdb_Score'] = df['Imdb_Score'] * 10"
   ]
  },
  {
   "cell_type": "code",
   "execution_count": 51,
   "metadata": {},
   "outputs": [
    {
     "data": {
      "text/html": [
       "<div>\n",
       "<style scoped>\n",
       "    .dataframe tbody tr th:only-of-type {\n",
       "        vertical-align: middle;\n",
       "    }\n",
       "\n",
       "    .dataframe tbody tr th {\n",
       "        vertical-align: top;\n",
       "    }\n",
       "\n",
       "    .dataframe thead th {\n",
       "        text-align: right;\n",
       "    }\n",
       "</style>\n",
       "<table border=\"1\" class=\"dataframe\">\n",
       "  <thead>\n",
       "    <tr style=\"text-align: right;\">\n",
       "      <th></th>\n",
       "      <th>Show Id</th>\n",
       "      <th>Title</th>\n",
       "      <th>Description</th>\n",
       "      <th>Genres</th>\n",
       "      <th>release_Date</th>\n",
       "      <th>ratings</th>\n",
       "      <th>duration</th>\n",
       "      <th>Imdb_Score</th>\n",
       "      <th>Content_Type</th>\n",
       "      <th>Date_Added</th>\n",
       "      <th>decade</th>\n",
       "    </tr>\n",
       "    <tr>\n",
       "      <th>Date</th>\n",
       "      <th></th>\n",
       "      <th></th>\n",
       "      <th></th>\n",
       "      <th></th>\n",
       "      <th></th>\n",
       "      <th></th>\n",
       "      <th></th>\n",
       "      <th></th>\n",
       "      <th></th>\n",
       "      <th></th>\n",
       "      <th></th>\n",
       "    </tr>\n",
       "  </thead>\n",
       "  <tbody>\n",
       "    <tr>\n",
       "      <th>2020-09-08</th>\n",
       "      <td>e2ef4e91-fb25-42ab-b485-be8e3b23dedb</td>\n",
       "      <td>#Alive</td>\n",
       "      <td>As a grisly virus rampages a city, a lone man ...</td>\n",
       "      <td>Horror Movies, International Movies, Thrillers</td>\n",
       "      <td>2020</td>\n",
       "      <td>TV-MA</td>\n",
       "      <td>99 min</td>\n",
       "      <td>6.2</td>\n",
       "      <td>Movie</td>\n",
       "      <td>NaN</td>\n",
       "      <td>2010s</td>\n",
       "    </tr>\n",
       "    <tr>\n",
       "      <th>2020-07-01</th>\n",
       "      <td>b01b73b7-81f6-47a7-86d8-acb63080d525</td>\n",
       "      <td>#AnneFrank - Parallel Stories</td>\n",
       "      <td>Through her diary, Anne Frank's story is retol...</td>\n",
       "      <td>Documentaries, International Movies</td>\n",
       "      <td>2019</td>\n",
       "      <td>TV-14</td>\n",
       "      <td>95 min</td>\n",
       "      <td>6.4</td>\n",
       "      <td>Movie</td>\n",
       "      <td>NaN</td>\n",
       "      <td>2010s</td>\n",
       "    </tr>\n",
       "    <tr>\n",
       "      <th>2020-05-21</th>\n",
       "      <td>c293788a-41f7-49a3-a7fc-005ea33bce2b</td>\n",
       "      <td>#FriendButMarried</td>\n",
       "      <td>Pining for his high school crush for years, a ...</td>\n",
       "      <td>Dramas, International Movies, Romantic Movies</td>\n",
       "      <td>2018</td>\n",
       "      <td>TV-G</td>\n",
       "      <td>102 min</td>\n",
       "      <td>7.0</td>\n",
       "      <td>Movie</td>\n",
       "      <td>NaN</td>\n",
       "      <td>2010s</td>\n",
       "    </tr>\n",
       "    <tr>\n",
       "      <th>2020-06-28</th>\n",
       "      <td>0555e67e-f624-4a05-93e4-55c117d0056d</td>\n",
       "      <td>#FriendButMarried 2</td>\n",
       "      <td>As Ayu and Ditto finally transition from best ...</td>\n",
       "      <td>Dramas, International Movies, Romantic Movies</td>\n",
       "      <td>2020</td>\n",
       "      <td>TV-G</td>\n",
       "      <td>104 min</td>\n",
       "      <td>7.0</td>\n",
       "      <td>Movie</td>\n",
       "      <td>NaN</td>\n",
       "      <td>2010s</td>\n",
       "    </tr>\n",
       "    <tr>\n",
       "      <th>2017-09-08</th>\n",
       "      <td>c844460f-6178-4f87-929e-80816c74ca35</td>\n",
       "      <td>#realityhigh</td>\n",
       "      <td>When nerdy high schooler Dani finally attracts...</td>\n",
       "      <td>Comedies</td>\n",
       "      <td>2017</td>\n",
       "      <td>TV-14</td>\n",
       "      <td>99 min</td>\n",
       "      <td>5.1</td>\n",
       "      <td>Movie</td>\n",
       "      <td>NaN</td>\n",
       "      <td>2010s</td>\n",
       "    </tr>\n",
       "    <tr>\n",
       "      <th>2021-06-21</th>\n",
       "      <td>6da2fc83-1546-4e9d-bf2e-9b472a059c18</td>\n",
       "      <td>#Selfie</td>\n",
       "      <td>Two days before their final exams, three teen ...</td>\n",
       "      <td>Comedies, Dramas, International Movies</td>\n",
       "      <td>2014</td>\n",
       "      <td>TV-MA</td>\n",
       "      <td>125 min</td>\n",
       "      <td>5.8</td>\n",
       "      <td>Movie</td>\n",
       "      <td>NaN</td>\n",
       "      <td>2010s</td>\n",
       "    </tr>\n",
       "    <tr>\n",
       "      <th>2021-06-21</th>\n",
       "      <td>2aa7f08b-0321-4398-baa9-4a138f8cb9e9</td>\n",
       "      <td>#Selfie 69</td>\n",
       "      <td>After a painful breakup, a trio of party-lovin...</td>\n",
       "      <td>Comedies, Dramas, International Movies</td>\n",
       "      <td>2016</td>\n",
       "      <td>TV-MA</td>\n",
       "      <td>119 min</td>\n",
       "      <td>6.0</td>\n",
       "      <td>Movie</td>\n",
       "      <td>NaN</td>\n",
       "      <td>2010s</td>\n",
       "    </tr>\n",
       "    <tr>\n",
       "      <th>2019-10-18</th>\n",
       "      <td>ea94d1e2-dfb5-4fb0-b941-ca4b1ade98c1</td>\n",
       "      <td>10 Days in Sun City</td>\n",
       "      <td>After his girlfriend wins the Miss Nigeria pag...</td>\n",
       "      <td>Comedies, International Movies, Romantic Movies</td>\n",
       "      <td>2017</td>\n",
       "      <td>TV-14</td>\n",
       "      <td>87 min</td>\n",
       "      <td>5.1</td>\n",
       "      <td>Movie</td>\n",
       "      <td>NaN</td>\n",
       "      <td>2010s</td>\n",
       "    </tr>\n",
       "    <tr>\n",
       "      <th>2017-07-01</th>\n",
       "      <td>eb2818f5-d01b-46fe-8797-931a767d5831</td>\n",
       "      <td>10 jours en or</td>\n",
       "      <td>When a carefree bachelor is unexpectedly left ...</td>\n",
       "      <td>Comedies, Dramas, International Movies</td>\n",
       "      <td>2012</td>\n",
       "      <td>TV-14</td>\n",
       "      <td>97 min</td>\n",
       "      <td>6.1</td>\n",
       "      <td>Movie</td>\n",
       "      <td>NaN</td>\n",
       "      <td>2010s</td>\n",
       "    </tr>\n",
       "    <tr>\n",
       "      <th>2017-03-10</th>\n",
       "      <td>94f39a7c-7d6e-47bc-9dc2-3db2c81c0e73</td>\n",
       "      <td>100 Meters</td>\n",
       "      <td>A man who is diagnosed with multiple sclerosis...</td>\n",
       "      <td>Dramas, International Movies, Sports Movies</td>\n",
       "      <td>2016</td>\n",
       "      <td>TV-MA</td>\n",
       "      <td>109 min</td>\n",
       "      <td>7.6</td>\n",
       "      <td>Movie</td>\n",
       "      <td>NaN</td>\n",
       "      <td>2010s</td>\n",
       "    </tr>\n",
       "  </tbody>\n",
       "</table>\n",
       "</div>"
      ],
      "text/plain": [
       "                                         Show Id  \\\n",
       "Date                                               \n",
       "2020-09-08  e2ef4e91-fb25-42ab-b485-be8e3b23dedb   \n",
       "2020-07-01  b01b73b7-81f6-47a7-86d8-acb63080d525   \n",
       "2020-05-21  c293788a-41f7-49a3-a7fc-005ea33bce2b   \n",
       "2020-06-28  0555e67e-f624-4a05-93e4-55c117d0056d   \n",
       "2017-09-08  c844460f-6178-4f87-929e-80816c74ca35   \n",
       "2021-06-21  6da2fc83-1546-4e9d-bf2e-9b472a059c18   \n",
       "2021-06-21  2aa7f08b-0321-4398-baa9-4a138f8cb9e9   \n",
       "2019-10-18  ea94d1e2-dfb5-4fb0-b941-ca4b1ade98c1   \n",
       "2017-07-01  eb2818f5-d01b-46fe-8797-931a767d5831   \n",
       "2017-03-10  94f39a7c-7d6e-47bc-9dc2-3db2c81c0e73   \n",
       "\n",
       "                                    Title  \\\n",
       "Date                                        \n",
       "2020-09-08                         #Alive   \n",
       "2020-07-01  #AnneFrank - Parallel Stories   \n",
       "2020-05-21              #FriendButMarried   \n",
       "2020-06-28            #FriendButMarried 2   \n",
       "2017-09-08                   #realityhigh   \n",
       "2021-06-21                        #Selfie   \n",
       "2021-06-21                     #Selfie 69   \n",
       "2019-10-18            10 Days in Sun City   \n",
       "2017-07-01                 10 jours en or   \n",
       "2017-03-10                     100 Meters   \n",
       "\n",
       "                                                  Description  \\\n",
       "Date                                                            \n",
       "2020-09-08  As a grisly virus rampages a city, a lone man ...   \n",
       "2020-07-01  Through her diary, Anne Frank's story is retol...   \n",
       "2020-05-21  Pining for his high school crush for years, a ...   \n",
       "2020-06-28  As Ayu and Ditto finally transition from best ...   \n",
       "2017-09-08  When nerdy high schooler Dani finally attracts...   \n",
       "2021-06-21  Two days before their final exams, three teen ...   \n",
       "2021-06-21  After a painful breakup, a trio of party-lovin...   \n",
       "2019-10-18  After his girlfriend wins the Miss Nigeria pag...   \n",
       "2017-07-01  When a carefree bachelor is unexpectedly left ...   \n",
       "2017-03-10  A man who is diagnosed with multiple sclerosis...   \n",
       "\n",
       "                                                     Genres  release_Date  \\\n",
       "Date                                                                        \n",
       "2020-09-08   Horror Movies, International Movies, Thrillers          2020   \n",
       "2020-07-01              Documentaries, International Movies          2019   \n",
       "2020-05-21    Dramas, International Movies, Romantic Movies          2018   \n",
       "2020-06-28    Dramas, International Movies, Romantic Movies          2020   \n",
       "2017-09-08                                         Comedies          2017   \n",
       "2021-06-21           Comedies, Dramas, International Movies          2014   \n",
       "2021-06-21           Comedies, Dramas, International Movies          2016   \n",
       "2019-10-18  Comedies, International Movies, Romantic Movies          2017   \n",
       "2017-07-01           Comedies, Dramas, International Movies          2012   \n",
       "2017-03-10      Dramas, International Movies, Sports Movies          2016   \n",
       "\n",
       "           ratings duration  Imdb_Score Content_Type Date_Added decade  \n",
       "Date                                                                    \n",
       "2020-09-08   TV-MA   99 min         6.2        Movie        NaN  2010s  \n",
       "2020-07-01   TV-14   95 min         6.4        Movie        NaN  2010s  \n",
       "2020-05-21    TV-G  102 min         7.0        Movie        NaN  2010s  \n",
       "2020-06-28    TV-G  104 min         7.0        Movie        NaN  2010s  \n",
       "2017-09-08   TV-14   99 min         5.1        Movie        NaN  2010s  \n",
       "2021-06-21   TV-MA  125 min         5.8        Movie        NaN  2010s  \n",
       "2021-06-21   TV-MA  119 min         6.0        Movie        NaN  2010s  \n",
       "2019-10-18   TV-14   87 min         5.1        Movie        NaN  2010s  \n",
       "2017-07-01   TV-14   97 min         6.1        Movie        NaN  2010s  \n",
       "2017-03-10   TV-MA  109 min         7.6        Movie        NaN  2010s  "
      ]
     },
     "execution_count": 51,
     "metadata": {},
     "output_type": "execute_result"
    }
   ],
   "source": [
    "df.head(10)"
   ]
  },
  {
   "cell_type": "code",
   "execution_count": 52,
   "metadata": {},
   "outputs": [
    {
     "data": {
      "image/png": "[encoded data removed]",
      "text/plain": [
       "<Figure size 1440x720 with 1 Axes>"
      ]
     },
     "metadata": {
      "needs_background": "light"
     },
     "output_type": "display_data"
    }
   ],
   "source": [
    "df[['Imdb_Score']].plot(figsize=(20,10), linewidth=5, fontsize=20)\n",
    "plt.xlabel('Year', fontsize=20);"
   ]
  },
  {
   "cell_type": "markdown",
   "metadata": {},
   "source": [
    "#### Identifying the Trends using rolling average"
   ]
  },
  {
   "cell_type": "code",
   "execution_count": 58,
   "metadata": {},
   "outputs": [
    {
     "data": {
      "text/plain": [
       "Text(0.5, 0, 'Year')"
      ]
     },
     "execution_count": 58,
     "metadata": {},
     "output_type": "execute_result"
    },
    {
     "data": {
      "image/png": "[encoded data removed]",
      "text/plain": [
       "<Figure size 1440x720 with 1 Axes>"
      ]
     },
     "metadata": {
      "needs_background": "light"
     },
     "output_type": "display_data"
    }
   ],
   "source": [
    "score = df[['Imdb_Score']]\n",
    "score.rolling(12).mean().plot(figsize=(20,10), linewidth=5, fontsize=20)\n",
    "plt.xlabel('Year', fontsize=20)"
   ]
  },
  {
   "cell_type": "markdown",
   "metadata": {},
   "source": [
    "#### First-order differencing"
   ]
  },
  {
   "cell_type": "code",
   "execution_count": 59,
   "metadata": {},
   "outputs": [
    {
     "data": {
      "text/plain": [
       "Text(0.5, 0, 'Year')"
      ]
     },
     "execution_count": 59,
     "metadata": {},
     "output_type": "execute_result"
    },
    {
     "data": {
      "image/png": "[encoded data removed]",
      "text/plain": [
       "<Figure size 1440x720 with 1 Axes>"
      ]
     },
     "metadata": {
      "needs_background": "light"
     },
     "output_type": "display_data"
    }
   ],
   "source": [
    "score.diff().plot(figsize=(20,10), linewidth=5, fontsize=20)\n",
    "plt.xlabel('Year', fontsize=20)"
   ]
  },
  {
   "cell_type": "markdown",
   "metadata": {},
   "source": [
    "Since much of the trend has been removed, it can be seen that around summer time there is a peak in the ratings of these netflix shows since during these times attract more audience since viewers are mainly at home."
   ]
  },
  {
   "cell_type": "code",
   "execution_count": null,
   "metadata": {},
   "outputs": [],
   "source": []
  }
 ],
 "metadata": {
  "kernelspec": {
   "display_name": "Python 3",
   "language": "python",
   "name": "python3"
  },
  "language_info": {
   "codemirror_mode": {
    "name": "ipython",
    "version": 3
   },
   "file_extension": ".py",
   "mimetype": "text/x-python",
   "name": "python",
   "nbconvert_exporter": "python",
   "pygments_lexer": "ipython3",
   "version": "3.8.5"
  }
 },
 "nbformat": 4,
 "nbformat_minor": 5
}
