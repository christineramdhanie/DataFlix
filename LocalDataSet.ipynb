{
 "cells": [
  {
   "cell_type": "markdown",
   "id": "b35ac66d",
   "metadata": {},
   "source": [
    "## DataFlix\n",
    "### Celeste Seegobin - 816019646\n",
    "### Christine Ramdhanie - 816018588\n",
    "### Ricky Dindial - - 816022023\n",
    "### Videsh Jagai - 816014860"
   ]
  },
  {
   "cell_type": "code",
   "execution_count": 81,
   "id": "2c4d8995",
   "metadata": {},
   "outputs": [],
   "source": [
    "import numpy as np\n",
    "import pandas as pd\n",
    "from matplotlib import pyplot as plt \n",
    "import seaborn as sns\n",
    "from sklearn.preprocessing import OneHotEncoder\n",
    "import matplotlib.colors as mcolors\n",
    "import matplotlib.patches as mpatch\n",
    "import matplotlib.pyplot as plt"
   ]
  },
  {
   "cell_type": "code",
   "execution_count": 82,
   "id": "ab247211",
   "metadata": {},
   "outputs": [
    {
     "data": {
      "text/html": [
       "<div>\n",
       "<style scoped>\n",
       "    .dataframe tbody tr th:only-of-type {\n",
       "        vertical-align: middle;\n",
       "    }\n",
       "\n",
       "    .dataframe tbody tr th {\n",
       "        vertical-align: top;\n",
       "    }\n",
       "\n",
       "    .dataframe thead th {\n",
       "        text-align: right;\n",
       "    }\n",
       "</style>\n",
       "<table border=\"1\" class=\"dataframe\">\n",
       "  <thead>\n",
       "    <tr style=\"text-align: right;\">\n",
       "      <th></th>\n",
       "      <th>Unnamed: 0</th>\n",
       "      <th>Gender</th>\n",
       "      <th>Age Group</th>\n",
       "      <th>Often_Use</th>\n",
       "      <th>Fav_Genres</th>\n",
       "      <th>Preference</th>\n",
       "      <th>Inaccurate_Rating</th>\n",
       "      <th>Rating</th>\n",
       "      <th>Prefered_Rating</th>\n",
       "      <th>Accuracy</th>\n",
       "      <th>Recommendations</th>\n",
       "    </tr>\n",
       "  </thead>\n",
       "  <tbody>\n",
       "    <tr>\n",
       "      <th>0</th>\n",
       "      <td>1</td>\n",
       "      <td>Male</td>\n",
       "      <td>31+</td>\n",
       "      <td>Rarely</td>\n",
       "      <td>Sci-Fi &amp; Fantasy, Sports, Comedies, Dramas</td>\n",
       "      <td>Thumbs Up &amp; Down Rating</td>\n",
       "      <td>1</td>\n",
       "      <td>Not Aplicable</td>\n",
       "      <td>Not Aplicable</td>\n",
       "      <td>3</td>\n",
       "      <td>No complaints</td>\n",
       "    </tr>\n",
       "    <tr>\n",
       "      <th>1</th>\n",
       "      <td>2</td>\n",
       "      <td>Male</td>\n",
       "      <td>26-30</td>\n",
       "      <td>Daily</td>\n",
       "      <td>Anime, Sci-Fi &amp; Fantasy, Action &amp; Adventure</td>\n",
       "      <td>1-5 Star Rating</td>\n",
       "      <td>1</td>\n",
       "      <td>Not Aplicable</td>\n",
       "      <td>Not Aplicable</td>\n",
       "      <td>4</td>\n",
       "      <td>It's good</td>\n",
       "    </tr>\n",
       "    <tr>\n",
       "      <th>2</th>\n",
       "      <td>3</td>\n",
       "      <td>Female</td>\n",
       "      <td>16-20</td>\n",
       "      <td>Daily</td>\n",
       "      <td>Romantic, Anime, Classic</td>\n",
       "      <td>Thumbs Up &amp; Down Rating</td>\n",
       "      <td>2</td>\n",
       "      <td>Not Aplicable</td>\n",
       "      <td>Not Aplicable</td>\n",
       "      <td>5</td>\n",
       "      <td>It's great</td>\n",
       "    </tr>\n",
       "    <tr>\n",
       "      <th>3</th>\n",
       "      <td>4</td>\n",
       "      <td>Female</td>\n",
       "      <td>21-24</td>\n",
       "      <td>3-5 times a week</td>\n",
       "      <td>Action &amp; Adventure, Comedies</td>\n",
       "      <td>Thumbs Up &amp; Down Rating</td>\n",
       "      <td>3</td>\n",
       "      <td>TV-14</td>\n",
       "      <td>TV-PG</td>\n",
       "      <td>5</td>\n",
       "      <td>More Comedies</td>\n",
       "    </tr>\n",
       "    <tr>\n",
       "      <th>4</th>\n",
       "      <td>5</td>\n",
       "      <td>Male</td>\n",
       "      <td>21-25</td>\n",
       "      <td>3-5 times a week</td>\n",
       "      <td>Romantic, Anime, Classic, Action &amp; Adventure</td>\n",
       "      <td>Thumbs Up &amp; Down Rating</td>\n",
       "      <td>1</td>\n",
       "      <td>Not Aplicable</td>\n",
       "      <td>Not Aplicable</td>\n",
       "      <td>5</td>\n",
       "      <td>Recommendations are good</td>\n",
       "    </tr>\n",
       "    <tr>\n",
       "      <th>...</th>\n",
       "      <td>...</td>\n",
       "      <td>...</td>\n",
       "      <td>...</td>\n",
       "      <td>...</td>\n",
       "      <td>...</td>\n",
       "      <td>...</td>\n",
       "      <td>...</td>\n",
       "      <td>...</td>\n",
       "      <td>...</td>\n",
       "      <td>...</td>\n",
       "      <td>...</td>\n",
       "    </tr>\n",
       "    <tr>\n",
       "      <th>95</th>\n",
       "      <td>96</td>\n",
       "      <td>Male</td>\n",
       "      <td>16-21</td>\n",
       "      <td>3-5 times a week</td>\n",
       "      <td>Anime, Action &amp; Adventure</td>\n",
       "      <td>Thumbs Up &amp; Down Rating</td>\n",
       "      <td>1</td>\n",
       "      <td>Not Aplicable</td>\n",
       "      <td>Not Aplicable</td>\n",
       "      <td>4</td>\n",
       "      <td>A wider variety of movies and shows</td>\n",
       "    </tr>\n",
       "    <tr>\n",
       "      <th>96</th>\n",
       "      <td>97</td>\n",
       "      <td>Female</td>\n",
       "      <td>21-25</td>\n",
       "      <td>Daily</td>\n",
       "      <td>Anime, Sci-Fi &amp; Fantasy</td>\n",
       "      <td>Thumbs Up &amp; Down Rating</td>\n",
       "      <td>3</td>\n",
       "      <td>NC-17</td>\n",
       "      <td>R</td>\n",
       "      <td>5</td>\n",
       "      <td>Would like more genres</td>\n",
       "    </tr>\n",
       "    <tr>\n",
       "      <th>97</th>\n",
       "      <td>98</td>\n",
       "      <td>Female</td>\n",
       "      <td>26-30</td>\n",
       "      <td>Daily</td>\n",
       "      <td>Sci-fi &amp; Fantasy, Comedies, Dramas</td>\n",
       "      <td>Thumbs Up &amp; Down Rating</td>\n",
       "      <td>4</td>\n",
       "      <td>NC-17</td>\n",
       "      <td>TV-MA</td>\n",
       "      <td>4</td>\n",
       "      <td>Everything is alright</td>\n",
       "    </tr>\n",
       "    <tr>\n",
       "      <th>98</th>\n",
       "      <td>99</td>\n",
       "      <td>Male</td>\n",
       "      <td>31+</td>\n",
       "      <td>Rarely</td>\n",
       "      <td>Sports, Children &amp; Family, Dramas</td>\n",
       "      <td>1-5 Star Rating</td>\n",
       "      <td>5</td>\n",
       "      <td>NC-17</td>\n",
       "      <td>TV-MA</td>\n",
       "      <td>3</td>\n",
       "      <td>Nothing really</td>\n",
       "    </tr>\n",
       "    <tr>\n",
       "      <th>99</th>\n",
       "      <td>100</td>\n",
       "      <td>Male</td>\n",
       "      <td>31+</td>\n",
       "      <td>3-5 times a week</td>\n",
       "      <td>Documentaries, Horror, Thriller, Comedies</td>\n",
       "      <td>1-5 Star Rating</td>\n",
       "      <td>5</td>\n",
       "      <td>NC-17</td>\n",
       "      <td>TV-MA</td>\n",
       "      <td>4</td>\n",
       "      <td>Ratings are off</td>\n",
       "    </tr>\n",
       "  </tbody>\n",
       "</table>\n",
       "<p>100 rows × 11 columns</p>\n",
       "</div>"
      ],
      "text/plain": [
       "    Unnamed: 0   Gender Age Group          Often_Use  \\\n",
       "0            1     Male        31+            Rarely   \n",
       "1            2     Male      26-30            Daily    \n",
       "2            3  Female       16-20            Daily    \n",
       "3            4  Female       21-24  3-5 times a week   \n",
       "4            5     Male      21-25  3-5 times a week   \n",
       "..         ...      ...        ...               ...   \n",
       "95          96     Male      16-21  3-5 times a week   \n",
       "96          97  Female       21-25            Daily    \n",
       "97          98  Female       26-30            Daily    \n",
       "98          99     Male        31+            Rarely   \n",
       "99         100     Male        31+  3-5 times a week   \n",
       "\n",
       "                                       Fav_Genres               Preference  \\\n",
       "0      Sci-Fi & Fantasy, Sports, Comedies, Dramas  Thumbs Up & Down Rating   \n",
       "1    Anime, Sci-Fi & Fantasy, Action & Adventure          1-5 Star Rating    \n",
       "2                        Romantic, Anime, Classic  Thumbs Up & Down Rating   \n",
       "3                    Action & Adventure, Comedies  Thumbs Up & Down Rating   \n",
       "4   Romantic, Anime, Classic, Action & Adventure   Thumbs Up & Down Rating   \n",
       "..                                            ...                      ...   \n",
       "95                     Anime, Action & Adventure   Thumbs Up & Down Rating   \n",
       "96                        Anime, Sci-Fi & Fantasy  Thumbs Up & Down Rating   \n",
       "97             Sci-fi & Fantasy, Comedies, Dramas  Thumbs Up & Down Rating   \n",
       "98              Sports, Children & Family, Dramas         1-5 Star Rating    \n",
       "99      Documentaries, Horror, Thriller, Comedies         1-5 Star Rating    \n",
       "\n",
       "    Inaccurate_Rating          Rating Prefered_Rating  Accuracy  \\\n",
       "0                   1  Not Aplicable   Not Aplicable          3   \n",
       "1                   1  Not Aplicable   Not Aplicable          4   \n",
       "2                   2  Not Aplicable   Not Aplicable          5   \n",
       "3                   3           TV-14           TV-PG         5   \n",
       "4                   1  Not Aplicable   Not Aplicable          5   \n",
       "..                ...             ...             ...       ...   \n",
       "95                  1  Not Aplicable   Not Aplicable          4   \n",
       "96                  3           NC-17               R         5   \n",
       "97                  4           NC-17           TV-MA         4   \n",
       "98                  5           NC-17           TV-MA         3   \n",
       "99                  5           NC-17           TV-MA         4   \n",
       "\n",
       "                         Recommendations  \n",
       "0                          No complaints  \n",
       "1                             It's good   \n",
       "2                            It's great   \n",
       "3                          More Comedies  \n",
       "4              Recommendations are good   \n",
       "..                                   ...  \n",
       "95  A wider variety of movies and shows   \n",
       "96               Would like more genres   \n",
       "97                Everything is alright   \n",
       "98                        Nothing really  \n",
       "99                       Ratings are off  \n",
       "\n",
       "[100 rows x 11 columns]"
      ]
     },
     "execution_count": 82,
     "metadata": {},
     "output_type": "execute_result"
    }
   ],
   "source": [
    "df = pd.read_csv('LocalDataset.csv', encoding=('ISO-8859-1'))\n",
    "df"
   ]
  },
  {
   "cell_type": "code",
   "execution_count": 83,
   "id": "aa163553",
   "metadata": {},
   "outputs": [
    {
     "data": {
      "text/plain": [
       "(100, 11)"
      ]
     },
     "execution_count": 83,
     "metadata": {},
     "output_type": "execute_result"
    }
   ],
   "source": [
    "df.shape"
   ]
  },
  {
   "cell_type": "code",
   "execution_count": 84,
   "id": "a297719b",
   "metadata": {},
   "outputs": [
    {
     "data": {
      "text/plain": [
       "Unnamed: 0            int64\n",
       "Gender               object\n",
       "Age Group            object\n",
       "Often_Use            object\n",
       "Fav_Genres           object\n",
       "Preference           object\n",
       "Inaccurate_Rating     int64\n",
       "Rating               object\n",
       "Prefered_Rating      object\n",
       "Accuracy              int64\n",
       "Recommendations      object\n",
       "dtype: object"
      ]
     },
     "execution_count": 84,
     "metadata": {},
     "output_type": "execute_result"
    }
   ],
   "source": [
    "df.dtypes"
   ]
  },
  {
   "cell_type": "code",
   "execution_count": 85,
   "id": "6e9a39c0",
   "metadata": {},
   "outputs": [
    {
     "name": "stdout",
     "output_type": "stream",
     "text": [
      "<class 'pandas.core.frame.DataFrame'>\n",
      "RangeIndex: 100 entries, 0 to 99\n",
      "Data columns (total 11 columns):\n",
      " #   Column             Non-Null Count  Dtype \n",
      "---  ------             --------------  ----- \n",
      " 0   Unnamed: 0         100 non-null    int64 \n",
      " 1   Gender             100 non-null    object\n",
      " 2   Age Group          100 non-null    object\n",
      " 3   Often_Use          100 non-null    object\n",
      " 4   Fav_Genres         100 non-null    object\n",
      " 5   Preference         100 non-null    object\n",
      " 6   Inaccurate_Rating  100 non-null    int64 \n",
      " 7   Rating             100 non-null    object\n",
      " 8   Prefered_Rating    100 non-null    object\n",
      " 9   Accuracy           100 non-null    int64 \n",
      " 10  Recommendations    100 non-null    object\n",
      "dtypes: int64(3), object(8)\n",
      "memory usage: 8.7+ KB\n"
     ]
    }
   ],
   "source": [
    "df.info()"
   ]
  },
  {
   "cell_type": "code",
   "execution_count": 86,
   "id": "fff903ac",
   "metadata": {},
   "outputs": [
    {
     "data": {
      "text/html": [
       "<div>\n",
       "<style scoped>\n",
       "    .dataframe tbody tr th:only-of-type {\n",
       "        vertical-align: middle;\n",
       "    }\n",
       "\n",
       "    .dataframe tbody tr th {\n",
       "        vertical-align: top;\n",
       "    }\n",
       "\n",
       "    .dataframe thead th {\n",
       "        text-align: right;\n",
       "    }\n",
       "</style>\n",
       "<table border=\"1\" class=\"dataframe\">\n",
       "  <thead>\n",
       "    <tr style=\"text-align: right;\">\n",
       "      <th></th>\n",
       "      <th>Unnamed: 0</th>\n",
       "      <th>Inaccurate_Rating</th>\n",
       "      <th>Accuracy</th>\n",
       "    </tr>\n",
       "  </thead>\n",
       "  <tbody>\n",
       "    <tr>\n",
       "      <th>count</th>\n",
       "      <td>100.000000</td>\n",
       "      <td>100.000000</td>\n",
       "      <td>100.000000</td>\n",
       "    </tr>\n",
       "    <tr>\n",
       "      <th>mean</th>\n",
       "      <td>50.500000</td>\n",
       "      <td>3.140000</td>\n",
       "      <td>3.480000</td>\n",
       "    </tr>\n",
       "    <tr>\n",
       "      <th>std</th>\n",
       "      <td>29.011492</td>\n",
       "      <td>1.570048</td>\n",
       "      <td>1.234848</td>\n",
       "    </tr>\n",
       "    <tr>\n",
       "      <th>min</th>\n",
       "      <td>1.000000</td>\n",
       "      <td>1.000000</td>\n",
       "      <td>1.000000</td>\n",
       "    </tr>\n",
       "    <tr>\n",
       "      <th>25%</th>\n",
       "      <td>25.750000</td>\n",
       "      <td>2.000000</td>\n",
       "      <td>3.000000</td>\n",
       "    </tr>\n",
       "    <tr>\n",
       "      <th>50%</th>\n",
       "      <td>50.500000</td>\n",
       "      <td>3.000000</td>\n",
       "      <td>4.000000</td>\n",
       "    </tr>\n",
       "    <tr>\n",
       "      <th>75%</th>\n",
       "      <td>75.250000</td>\n",
       "      <td>5.000000</td>\n",
       "      <td>4.250000</td>\n",
       "    </tr>\n",
       "    <tr>\n",
       "      <th>max</th>\n",
       "      <td>100.000000</td>\n",
       "      <td>5.000000</td>\n",
       "      <td>5.000000</td>\n",
       "    </tr>\n",
       "  </tbody>\n",
       "</table>\n",
       "</div>"
      ],
      "text/plain": [
       "       Unnamed: 0  Inaccurate_Rating    Accuracy\n",
       "count  100.000000         100.000000  100.000000\n",
       "mean    50.500000           3.140000    3.480000\n",
       "std     29.011492           1.570048    1.234848\n",
       "min      1.000000           1.000000    1.000000\n",
       "25%     25.750000           2.000000    3.000000\n",
       "50%     50.500000           3.000000    4.000000\n",
       "75%     75.250000           5.000000    4.250000\n",
       "max    100.000000           5.000000    5.000000"
      ]
     },
     "execution_count": 86,
     "metadata": {},
     "output_type": "execute_result"
    }
   ],
   "source": [
    "df.describe()"
   ]
  },
  {
   "cell_type": "code",
   "execution_count": 87,
   "id": "ed9e2fbc",
   "metadata": {},
   "outputs": [
    {
     "data": {
      "text/plain": [
       "Unnamed: 0           0\n",
       "Gender               0\n",
       "Age Group            0\n",
       "Often_Use            0\n",
       "Fav_Genres           0\n",
       "Preference           0\n",
       "Inaccurate_Rating    0\n",
       "Rating               0\n",
       "Prefered_Rating      0\n",
       "Accuracy             0\n",
       "Recommendations      0\n",
       "dtype: int64"
      ]
     },
     "execution_count": 87,
     "metadata": {},
     "output_type": "execute_result"
    }
   ],
   "source": [
    "df.isnull().sum()"
   ]
  },
  {
   "cell_type": "markdown",
   "id": "190231f3",
   "metadata": {},
   "source": [
    "##### Here the Genres were displayed "
   ]
  },
  {
   "cell_type": "code",
   "execution_count": 88,
   "id": "09da1602",
   "metadata": {},
   "outputs": [
    {
     "data": {
      "text/plain": [
       "array(['Sci-Fi & Fantasy, Sports, Comedies, Dramas',\n",
       "       'Anime, Sci-Fi & Fantasy, Action & Adventure ',\n",
       "       'Romantic, Anime, Classic', 'Action & Adventure, Comedies',\n",
       "       'Romantic, Anime, Classic, Action & Adventure ',\n",
       "       'Sci-fi & Fantasy, Comedies, Dramas',\n",
       "       'Sports, Children & Family, Dramas',\n",
       "       'Documentaries, Horror, Thriller, Comedies',\n",
       "       'Sci-Fi & Fantasy, Horror', 'Sports, Comedies',\n",
       "       'Comedies, Classic, Romantic, Sci-Fi & Fantasy, Horror',\n",
       "       'Comedies', 'Drama, Romantic', 'Sports', 'Romantic, Comedies',\n",
       "       'Dramas, Romantic', 'Sports, Action & Adventure',\n",
       "       'Romantic, Comedies, Drama', 'Horror, Documentaries ',\n",
       "       'Documentaries', 'Documentaries, Romance', 'Romance ',\n",
       "       'Comedies, Romance', 'Anime, Action & Adventure ',\n",
       "       'Anime, Sci-Fi & Fantasy'], dtype=object)"
      ]
     },
     "execution_count": 88,
     "metadata": {},
     "output_type": "execute_result"
    }
   ],
   "source": [
    "df[\"Fav_Genres\"].unique()"
   ]
  },
  {
   "cell_type": "markdown",
   "id": "bc3d50a0",
   "metadata": {},
   "source": [
    "##### One Hot Encoder was used to further categorize the field "
   ]
  },
  {
   "cell_type": "code",
   "execution_count": 89,
   "id": "ba40ce89",
   "metadata": {},
   "outputs": [],
   "source": [
    "ohe = OneHotEncoder()"
   ]
  },
  {
   "cell_type": "code",
   "execution_count": 90,
   "id": "f5a9978c",
   "metadata": {},
   "outputs": [
    {
     "name": "stdout",
     "output_type": "stream",
     "text": [
      "OneHotEncoder()\n"
     ]
    }
   ],
   "source": [
    "print(ohe)"
   ]
  },
  {
   "cell_type": "code",
   "execution_count": 91,
   "id": "e75fd18b",
   "metadata": {},
   "outputs": [
    {
     "data": {
      "text/plain": [
       "array([[0., 0., 0., ..., 0., 0., 0.],\n",
       "       [0., 0., 0., ..., 0., 0., 0.],\n",
       "       [0., 0., 0., ..., 0., 0., 0.],\n",
       "       ...,\n",
       "       [0., 0., 0., ..., 0., 0., 0.],\n",
       "       [0., 0., 0., ..., 0., 1., 0.],\n",
       "       [0., 0., 0., ..., 0., 0., 0.]])"
      ]
     },
     "execution_count": 91,
     "metadata": {},
     "output_type": "execute_result"
    }
   ],
   "source": [
    "ohe.fit_transform(df[[\"Fav_Genres\"]]).toarray()"
   ]
  },
  {
   "cell_type": "code",
   "execution_count": 92,
   "id": "cb73e3a5",
   "metadata": {},
   "outputs": [],
   "source": [
    "feature_array = ohe.fit_transform(df[[\"Fav_Genres\"]]).toarray()"
   ]
  },
  {
   "cell_type": "code",
   "execution_count": 93,
   "id": "53f3eea5",
   "metadata": {},
   "outputs": [
    {
     "data": {
      "text/plain": [
       "[array(['Action & Adventure, Comedies', 'Anime, Action & Adventure ',\n",
       "        'Anime, Sci-Fi & Fantasy',\n",
       "        'Anime, Sci-Fi & Fantasy, Action & Adventure ', 'Comedies',\n",
       "        'Comedies, Classic, Romantic, Sci-Fi & Fantasy, Horror',\n",
       "        'Comedies, Romance', 'Documentaries',\n",
       "        'Documentaries, Horror, Thriller, Comedies',\n",
       "        'Documentaries, Romance', 'Drama, Romantic', 'Dramas, Romantic',\n",
       "        'Horror, Documentaries ', 'Romance ', 'Romantic, Anime, Classic',\n",
       "        'Romantic, Anime, Classic, Action & Adventure ',\n",
       "        'Romantic, Comedies', 'Romantic, Comedies, Drama',\n",
       "        'Sci-Fi & Fantasy, Horror',\n",
       "        'Sci-Fi & Fantasy, Sports, Comedies, Dramas',\n",
       "        'Sci-fi & Fantasy, Comedies, Dramas', 'Sports',\n",
       "        'Sports, Action & Adventure', 'Sports, Children & Family, Dramas',\n",
       "        'Sports, Comedies'], dtype=object)]"
      ]
     },
     "execution_count": 93,
     "metadata": {},
     "output_type": "execute_result"
    }
   ],
   "source": [
    "ohe.categories_"
   ]
  },
  {
   "cell_type": "code",
   "execution_count": 94,
   "id": "73124bd7",
   "metadata": {},
   "outputs": [],
   "source": [
    "feature_labels = ohe.categories_"
   ]
  },
  {
   "cell_type": "code",
   "execution_count": 95,
   "id": "e50ee89f",
   "metadata": {},
   "outputs": [
    {
     "data": {
      "text/plain": [
       "array(['Action & Adventure, Comedies', 'Anime, Action & Adventure ',\n",
       "       'Anime, Sci-Fi & Fantasy',\n",
       "       'Anime, Sci-Fi & Fantasy, Action & Adventure ', 'Comedies',\n",
       "       'Comedies, Classic, Romantic, Sci-Fi & Fantasy, Horror',\n",
       "       'Comedies, Romance', 'Documentaries',\n",
       "       'Documentaries, Horror, Thriller, Comedies',\n",
       "       'Documentaries, Romance', 'Drama, Romantic', 'Dramas, Romantic',\n",
       "       'Horror, Documentaries ', 'Romance ', 'Romantic, Anime, Classic',\n",
       "       'Romantic, Anime, Classic, Action & Adventure ',\n",
       "       'Romantic, Comedies', 'Romantic, Comedies, Drama',\n",
       "       'Sci-Fi & Fantasy, Horror',\n",
       "       'Sci-Fi & Fantasy, Sports, Comedies, Dramas',\n",
       "       'Sci-fi & Fantasy, Comedies, Dramas', 'Sports',\n",
       "       'Sports, Action & Adventure', 'Sports, Children & Family, Dramas',\n",
       "       'Sports, Comedies'], dtype=object)"
      ]
     },
     "execution_count": 95,
     "metadata": {},
     "output_type": "execute_result"
    }
   ],
   "source": [
    "np.array(feature_labels).ravel()"
   ]
  },
  {
   "cell_type": "code",
   "execution_count": 96,
   "id": "6ec9a97e",
   "metadata": {},
   "outputs": [
    {
     "name": "stdout",
     "output_type": "stream",
     "text": [
      "[array(['Action & Adventure, Comedies', 'Anime, Action & Adventure ',\n",
      "       'Anime, Sci-Fi & Fantasy',\n",
      "       'Anime, Sci-Fi & Fantasy, Action & Adventure ', 'Comedies',\n",
      "       'Comedies, Classic, Romantic, Sci-Fi & Fantasy, Horror',\n",
      "       'Comedies, Romance', 'Documentaries',\n",
      "       'Documentaries, Horror, Thriller, Comedies',\n",
      "       'Documentaries, Romance', 'Drama, Romantic', 'Dramas, Romantic',\n",
      "       'Horror, Documentaries ', 'Romance ', 'Romantic, Anime, Classic',\n",
      "       'Romantic, Anime, Classic, Action & Adventure ',\n",
      "       'Romantic, Comedies', 'Romantic, Comedies, Drama',\n",
      "       'Sci-Fi & Fantasy, Horror',\n",
      "       'Sci-Fi & Fantasy, Sports, Comedies, Dramas',\n",
      "       'Sci-fi & Fantasy, Comedies, Dramas', 'Sports',\n",
      "       'Sports, Action & Adventure', 'Sports, Children & Family, Dramas',\n",
      "       'Sports, Comedies'], dtype=object)]\n"
     ]
    }
   ],
   "source": [
    "print(feature_labels)"
   ]
  },
  {
   "cell_type": "code",
   "execution_count": 97,
   "id": "aac93e76",
   "metadata": {},
   "outputs": [
    {
     "data": {
      "text/html": [
       "<div>\n",
       "<style scoped>\n",
       "    .dataframe tbody tr th:only-of-type {\n",
       "        vertical-align: middle;\n",
       "    }\n",
       "\n",
       "    .dataframe tbody tr th {\n",
       "        vertical-align: top;\n",
       "    }\n",
       "\n",
       "    .dataframe thead tr th {\n",
       "        text-align: left;\n",
       "    }\n",
       "</style>\n",
       "<table border=\"1\" class=\"dataframe\">\n",
       "  <thead>\n",
       "    <tr>\n",
       "      <th></th>\n",
       "      <th>Action &amp; Adventure, Comedies</th>\n",
       "      <th>Anime, Action &amp; Adventure</th>\n",
       "      <th>Anime, Sci-Fi &amp; Fantasy</th>\n",
       "      <th>Anime, Sci-Fi &amp; Fantasy, Action &amp; Adventure</th>\n",
       "      <th>Comedies</th>\n",
       "      <th>Comedies, Classic, Romantic, Sci-Fi &amp; Fantasy, Horror</th>\n",
       "      <th>Comedies, Romance</th>\n",
       "      <th>Documentaries</th>\n",
       "      <th>Documentaries, Horror, Thriller, Comedies</th>\n",
       "      <th>Documentaries, Romance</th>\n",
       "      <th>...</th>\n",
       "      <th>Romantic, Anime, Classic, Action &amp; Adventure</th>\n",
       "      <th>Romantic, Comedies</th>\n",
       "      <th>Romantic, Comedies, Drama</th>\n",
       "      <th>Sci-Fi &amp; Fantasy, Horror</th>\n",
       "      <th>Sci-Fi &amp; Fantasy, Sports, Comedies, Dramas</th>\n",
       "      <th>Sci-fi &amp; Fantasy, Comedies, Dramas</th>\n",
       "      <th>Sports</th>\n",
       "      <th>Sports, Action &amp; Adventure</th>\n",
       "      <th>Sports, Children &amp; Family, Dramas</th>\n",
       "      <th>Sports, Comedies</th>\n",
       "    </tr>\n",
       "  </thead>\n",
       "  <tbody>\n",
       "    <tr>\n",
       "      <th>0</th>\n",
       "      <td>0.0</td>\n",
       "      <td>0.0</td>\n",
       "      <td>0.0</td>\n",
       "      <td>0.0</td>\n",
       "      <td>0.0</td>\n",
       "      <td>0.0</td>\n",
       "      <td>0.0</td>\n",
       "      <td>0.0</td>\n",
       "      <td>0.0</td>\n",
       "      <td>0.0</td>\n",
       "      <td>...</td>\n",
       "      <td>0.0</td>\n",
       "      <td>0.0</td>\n",
       "      <td>0.0</td>\n",
       "      <td>0.0</td>\n",
       "      <td>1.0</td>\n",
       "      <td>0.0</td>\n",
       "      <td>0.0</td>\n",
       "      <td>0.0</td>\n",
       "      <td>0.0</td>\n",
       "      <td>0.0</td>\n",
       "    </tr>\n",
       "    <tr>\n",
       "      <th>1</th>\n",
       "      <td>0.0</td>\n",
       "      <td>0.0</td>\n",
       "      <td>0.0</td>\n",
       "      <td>1.0</td>\n",
       "      <td>0.0</td>\n",
       "      <td>0.0</td>\n",
       "      <td>0.0</td>\n",
       "      <td>0.0</td>\n",
       "      <td>0.0</td>\n",
       "      <td>0.0</td>\n",
       "      <td>...</td>\n",
       "      <td>0.0</td>\n",
       "      <td>0.0</td>\n",
       "      <td>0.0</td>\n",
       "      <td>0.0</td>\n",
       "      <td>0.0</td>\n",
       "      <td>0.0</td>\n",
       "      <td>0.0</td>\n",
       "      <td>0.0</td>\n",
       "      <td>0.0</td>\n",
       "      <td>0.0</td>\n",
       "    </tr>\n",
       "    <tr>\n",
       "      <th>2</th>\n",
       "      <td>0.0</td>\n",
       "      <td>0.0</td>\n",
       "      <td>0.0</td>\n",
       "      <td>0.0</td>\n",
       "      <td>0.0</td>\n",
       "      <td>0.0</td>\n",
       "      <td>0.0</td>\n",
       "      <td>0.0</td>\n",
       "      <td>0.0</td>\n",
       "      <td>0.0</td>\n",
       "      <td>...</td>\n",
       "      <td>0.0</td>\n",
       "      <td>0.0</td>\n",
       "      <td>0.0</td>\n",
       "      <td>0.0</td>\n",
       "      <td>0.0</td>\n",
       "      <td>0.0</td>\n",
       "      <td>0.0</td>\n",
       "      <td>0.0</td>\n",
       "      <td>0.0</td>\n",
       "      <td>0.0</td>\n",
       "    </tr>\n",
       "    <tr>\n",
       "      <th>3</th>\n",
       "      <td>1.0</td>\n",
       "      <td>0.0</td>\n",
       "      <td>0.0</td>\n",
       "      <td>0.0</td>\n",
       "      <td>0.0</td>\n",
       "      <td>0.0</td>\n",
       "      <td>0.0</td>\n",
       "      <td>0.0</td>\n",
       "      <td>0.0</td>\n",
       "      <td>0.0</td>\n",
       "      <td>...</td>\n",
       "      <td>0.0</td>\n",
       "      <td>0.0</td>\n",
       "      <td>0.0</td>\n",
       "      <td>0.0</td>\n",
       "      <td>0.0</td>\n",
       "      <td>0.0</td>\n",
       "      <td>0.0</td>\n",
       "      <td>0.0</td>\n",
       "      <td>0.0</td>\n",
       "      <td>0.0</td>\n",
       "    </tr>\n",
       "    <tr>\n",
       "      <th>4</th>\n",
       "      <td>0.0</td>\n",
       "      <td>0.0</td>\n",
       "      <td>0.0</td>\n",
       "      <td>0.0</td>\n",
       "      <td>0.0</td>\n",
       "      <td>0.0</td>\n",
       "      <td>0.0</td>\n",
       "      <td>0.0</td>\n",
       "      <td>0.0</td>\n",
       "      <td>0.0</td>\n",
       "      <td>...</td>\n",
       "      <td>1.0</td>\n",
       "      <td>0.0</td>\n",
       "      <td>0.0</td>\n",
       "      <td>0.0</td>\n",
       "      <td>0.0</td>\n",
       "      <td>0.0</td>\n",
       "      <td>0.0</td>\n",
       "      <td>0.0</td>\n",
       "      <td>0.0</td>\n",
       "      <td>0.0</td>\n",
       "    </tr>\n",
       "    <tr>\n",
       "      <th>...</th>\n",
       "      <td>...</td>\n",
       "      <td>...</td>\n",
       "      <td>...</td>\n",
       "      <td>...</td>\n",
       "      <td>...</td>\n",
       "      <td>...</td>\n",
       "      <td>...</td>\n",
       "      <td>...</td>\n",
       "      <td>...</td>\n",
       "      <td>...</td>\n",
       "      <td>...</td>\n",
       "      <td>...</td>\n",
       "      <td>...</td>\n",
       "      <td>...</td>\n",
       "      <td>...</td>\n",
       "      <td>...</td>\n",
       "      <td>...</td>\n",
       "      <td>...</td>\n",
       "      <td>...</td>\n",
       "      <td>...</td>\n",
       "      <td>...</td>\n",
       "    </tr>\n",
       "    <tr>\n",
       "      <th>95</th>\n",
       "      <td>0.0</td>\n",
       "      <td>1.0</td>\n",
       "      <td>0.0</td>\n",
       "      <td>0.0</td>\n",
       "      <td>0.0</td>\n",
       "      <td>0.0</td>\n",
       "      <td>0.0</td>\n",
       "      <td>0.0</td>\n",
       "      <td>0.0</td>\n",
       "      <td>0.0</td>\n",
       "      <td>...</td>\n",
       "      <td>0.0</td>\n",
       "      <td>0.0</td>\n",
       "      <td>0.0</td>\n",
       "      <td>0.0</td>\n",
       "      <td>0.0</td>\n",
       "      <td>0.0</td>\n",
       "      <td>0.0</td>\n",
       "      <td>0.0</td>\n",
       "      <td>0.0</td>\n",
       "      <td>0.0</td>\n",
       "    </tr>\n",
       "    <tr>\n",
       "      <th>96</th>\n",
       "      <td>0.0</td>\n",
       "      <td>0.0</td>\n",
       "      <td>1.0</td>\n",
       "      <td>0.0</td>\n",
       "      <td>0.0</td>\n",
       "      <td>0.0</td>\n",
       "      <td>0.0</td>\n",
       "      <td>0.0</td>\n",
       "      <td>0.0</td>\n",
       "      <td>0.0</td>\n",
       "      <td>...</td>\n",
       "      <td>0.0</td>\n",
       "      <td>0.0</td>\n",
       "      <td>0.0</td>\n",
       "      <td>0.0</td>\n",
       "      <td>0.0</td>\n",
       "      <td>0.0</td>\n",
       "      <td>0.0</td>\n",
       "      <td>0.0</td>\n",
       "      <td>0.0</td>\n",
       "      <td>0.0</td>\n",
       "    </tr>\n",
       "    <tr>\n",
       "      <th>97</th>\n",
       "      <td>0.0</td>\n",
       "      <td>0.0</td>\n",
       "      <td>0.0</td>\n",
       "      <td>0.0</td>\n",
       "      <td>0.0</td>\n",
       "      <td>0.0</td>\n",
       "      <td>0.0</td>\n",
       "      <td>0.0</td>\n",
       "      <td>0.0</td>\n",
       "      <td>0.0</td>\n",
       "      <td>...</td>\n",
       "      <td>0.0</td>\n",
       "      <td>0.0</td>\n",
       "      <td>0.0</td>\n",
       "      <td>0.0</td>\n",
       "      <td>0.0</td>\n",
       "      <td>1.0</td>\n",
       "      <td>0.0</td>\n",
       "      <td>0.0</td>\n",
       "      <td>0.0</td>\n",
       "      <td>0.0</td>\n",
       "    </tr>\n",
       "    <tr>\n",
       "      <th>98</th>\n",
       "      <td>0.0</td>\n",
       "      <td>0.0</td>\n",
       "      <td>0.0</td>\n",
       "      <td>0.0</td>\n",
       "      <td>0.0</td>\n",
       "      <td>0.0</td>\n",
       "      <td>0.0</td>\n",
       "      <td>0.0</td>\n",
       "      <td>0.0</td>\n",
       "      <td>0.0</td>\n",
       "      <td>...</td>\n",
       "      <td>0.0</td>\n",
       "      <td>0.0</td>\n",
       "      <td>0.0</td>\n",
       "      <td>0.0</td>\n",
       "      <td>0.0</td>\n",
       "      <td>0.0</td>\n",
       "      <td>0.0</td>\n",
       "      <td>0.0</td>\n",
       "      <td>1.0</td>\n",
       "      <td>0.0</td>\n",
       "    </tr>\n",
       "    <tr>\n",
       "      <th>99</th>\n",
       "      <td>0.0</td>\n",
       "      <td>0.0</td>\n",
       "      <td>0.0</td>\n",
       "      <td>0.0</td>\n",
       "      <td>0.0</td>\n",
       "      <td>0.0</td>\n",
       "      <td>0.0</td>\n",
       "      <td>0.0</td>\n",
       "      <td>1.0</td>\n",
       "      <td>0.0</td>\n",
       "      <td>...</td>\n",
       "      <td>0.0</td>\n",
       "      <td>0.0</td>\n",
       "      <td>0.0</td>\n",
       "      <td>0.0</td>\n",
       "      <td>0.0</td>\n",
       "      <td>0.0</td>\n",
       "      <td>0.0</td>\n",
       "      <td>0.0</td>\n",
       "      <td>0.0</td>\n",
       "      <td>0.0</td>\n",
       "    </tr>\n",
       "  </tbody>\n",
       "</table>\n",
       "<p>100 rows × 25 columns</p>\n",
       "</div>"
      ],
      "text/plain": [
       "   Action & Adventure, Comedies Anime, Action & Adventure   \\\n",
       "0                           0.0                        0.0   \n",
       "1                           0.0                        0.0   \n",
       "2                           0.0                        0.0   \n",
       "3                           1.0                        0.0   \n",
       "4                           0.0                        0.0   \n",
       "..                          ...                        ...   \n",
       "95                          0.0                        1.0   \n",
       "96                          0.0                        0.0   \n",
       "97                          0.0                        0.0   \n",
       "98                          0.0                        0.0   \n",
       "99                          0.0                        0.0   \n",
       "\n",
       "   Anime, Sci-Fi & Fantasy Anime, Sci-Fi & Fantasy, Action & Adventure   \\\n",
       "0                      0.0                                          0.0   \n",
       "1                      0.0                                          1.0   \n",
       "2                      0.0                                          0.0   \n",
       "3                      0.0                                          0.0   \n",
       "4                      0.0                                          0.0   \n",
       "..                     ...                                          ...   \n",
       "95                     0.0                                          0.0   \n",
       "96                     1.0                                          0.0   \n",
       "97                     0.0                                          0.0   \n",
       "98                     0.0                                          0.0   \n",
       "99                     0.0                                          0.0   \n",
       "\n",
       "   Comedies Comedies, Classic, Romantic, Sci-Fi & Fantasy, Horror  \\\n",
       "0       0.0                                                0.0      \n",
       "1       0.0                                                0.0      \n",
       "2       0.0                                                0.0      \n",
       "3       0.0                                                0.0      \n",
       "4       0.0                                                0.0      \n",
       "..      ...                                                ...      \n",
       "95      0.0                                                0.0      \n",
       "96      0.0                                                0.0      \n",
       "97      0.0                                                0.0      \n",
       "98      0.0                                                0.0      \n",
       "99      0.0                                                0.0      \n",
       "\n",
       "   Comedies, Romance Documentaries Documentaries, Horror, Thriller, Comedies  \\\n",
       "0                0.0           0.0                                       0.0   \n",
       "1                0.0           0.0                                       0.0   \n",
       "2                0.0           0.0                                       0.0   \n",
       "3                0.0           0.0                                       0.0   \n",
       "4                0.0           0.0                                       0.0   \n",
       "..               ...           ...                                       ...   \n",
       "95               0.0           0.0                                       0.0   \n",
       "96               0.0           0.0                                       0.0   \n",
       "97               0.0           0.0                                       0.0   \n",
       "98               0.0           0.0                                       0.0   \n",
       "99               0.0           0.0                                       1.0   \n",
       "\n",
       "   Documentaries, Romance  ... Romantic, Anime, Classic, Action & Adventure   \\\n",
       "0                     0.0  ...                                           0.0   \n",
       "1                     0.0  ...                                           0.0   \n",
       "2                     0.0  ...                                           0.0   \n",
       "3                     0.0  ...                                           0.0   \n",
       "4                     0.0  ...                                           1.0   \n",
       "..                    ...  ...                                           ...   \n",
       "95                    0.0  ...                                           0.0   \n",
       "96                    0.0  ...                                           0.0   \n",
       "97                    0.0  ...                                           0.0   \n",
       "98                    0.0  ...                                           0.0   \n",
       "99                    0.0  ...                                           0.0   \n",
       "\n",
       "   Romantic, Comedies Romantic, Comedies, Drama Sci-Fi & Fantasy, Horror  \\\n",
       "0                 0.0                       0.0                      0.0   \n",
       "1                 0.0                       0.0                      0.0   \n",
       "2                 0.0                       0.0                      0.0   \n",
       "3                 0.0                       0.0                      0.0   \n",
       "4                 0.0                       0.0                      0.0   \n",
       "..                ...                       ...                      ...   \n",
       "95                0.0                       0.0                      0.0   \n",
       "96                0.0                       0.0                      0.0   \n",
       "97                0.0                       0.0                      0.0   \n",
       "98                0.0                       0.0                      0.0   \n",
       "99                0.0                       0.0                      0.0   \n",
       "\n",
       "   Sci-Fi & Fantasy, Sports, Comedies, Dramas  \\\n",
       "0                                         1.0   \n",
       "1                                         0.0   \n",
       "2                                         0.0   \n",
       "3                                         0.0   \n",
       "4                                         0.0   \n",
       "..                                        ...   \n",
       "95                                        0.0   \n",
       "96                                        0.0   \n",
       "97                                        0.0   \n",
       "98                                        0.0   \n",
       "99                                        0.0   \n",
       "\n",
       "   Sci-fi & Fantasy, Comedies, Dramas Sports Sports, Action & Adventure  \\\n",
       "0                                 0.0    0.0                        0.0   \n",
       "1                                 0.0    0.0                        0.0   \n",
       "2                                 0.0    0.0                        0.0   \n",
       "3                                 0.0    0.0                        0.0   \n",
       "4                                 0.0    0.0                        0.0   \n",
       "..                                ...    ...                        ...   \n",
       "95                                0.0    0.0                        0.0   \n",
       "96                                0.0    0.0                        0.0   \n",
       "97                                1.0    0.0                        0.0   \n",
       "98                                0.0    0.0                        0.0   \n",
       "99                                0.0    0.0                        0.0   \n",
       "\n",
       "   Sports, Children & Family, Dramas Sports, Comedies  \n",
       "0                                0.0              0.0  \n",
       "1                                0.0              0.0  \n",
       "2                                0.0              0.0  \n",
       "3                                0.0              0.0  \n",
       "4                                0.0              0.0  \n",
       "..                               ...              ...  \n",
       "95                               0.0              0.0  \n",
       "96                               0.0              0.0  \n",
       "97                               0.0              0.0  \n",
       "98                               1.0              0.0  \n",
       "99                               0.0              0.0  \n",
       "\n",
       "[100 rows x 25 columns]"
      ]
     },
     "execution_count": 97,
     "metadata": {},
     "output_type": "execute_result"
    }
   ],
   "source": [
    "pd.DataFrame(feature_array, columns = feature_labels)"
   ]
  },
  {
   "cell_type": "code",
   "execution_count": 98,
   "id": "e466292e",
   "metadata": {},
   "outputs": [],
   "source": [
    "features = pd.DataFrame(feature_array, columns = feature_labels)"
   ]
  },
  {
   "cell_type": "code",
   "execution_count": 99,
   "id": "3cd52b79",
   "metadata": {},
   "outputs": [
    {
     "name": "stdout",
     "output_type": "stream",
     "text": [
      "   Action & Adventure, Comedies Anime, Action & Adventure   \\\n",
      "0                           0.0                        0.0   \n",
      "1                           0.0                        0.0   \n",
      "2                           0.0                        0.0   \n",
      "3                           1.0                        0.0   \n",
      "4                           0.0                        0.0   \n",
      "..                          ...                        ...   \n",
      "95                          0.0                        1.0   \n",
      "96                          0.0                        0.0   \n",
      "97                          0.0                        0.0   \n",
      "98                          0.0                        0.0   \n",
      "99                          0.0                        0.0   \n",
      "\n",
      "   Anime, Sci-Fi & Fantasy Anime, Sci-Fi & Fantasy, Action & Adventure   \\\n",
      "0                      0.0                                          0.0   \n",
      "1                      0.0                                          1.0   \n",
      "2                      0.0                                          0.0   \n",
      "3                      0.0                                          0.0   \n",
      "4                      0.0                                          0.0   \n",
      "..                     ...                                          ...   \n",
      "95                     0.0                                          0.0   \n",
      "96                     1.0                                          0.0   \n",
      "97                     0.0                                          0.0   \n",
      "98                     0.0                                          0.0   \n",
      "99                     0.0                                          0.0   \n",
      "\n",
      "   Comedies Comedies, Classic, Romantic, Sci-Fi & Fantasy, Horror  \\\n",
      "0       0.0                                                0.0      \n",
      "1       0.0                                                0.0      \n",
      "2       0.0                                                0.0      \n",
      "3       0.0                                                0.0      \n",
      "4       0.0                                                0.0      \n",
      "..      ...                                                ...      \n",
      "95      0.0                                                0.0      \n",
      "96      0.0                                                0.0      \n",
      "97      0.0                                                0.0      \n",
      "98      0.0                                                0.0      \n",
      "99      0.0                                                0.0      \n",
      "\n",
      "   Comedies, Romance Documentaries Documentaries, Horror, Thriller, Comedies  \\\n",
      "0                0.0           0.0                                       0.0   \n",
      "1                0.0           0.0                                       0.0   \n",
      "2                0.0           0.0                                       0.0   \n",
      "3                0.0           0.0                                       0.0   \n",
      "4                0.0           0.0                                       0.0   \n",
      "..               ...           ...                                       ...   \n",
      "95               0.0           0.0                                       0.0   \n",
      "96               0.0           0.0                                       0.0   \n",
      "97               0.0           0.0                                       0.0   \n",
      "98               0.0           0.0                                       0.0   \n",
      "99               0.0           0.0                                       1.0   \n",
      "\n",
      "   Documentaries, Romance  ... Romantic, Anime, Classic, Action & Adventure   \\\n",
      "0                     0.0  ...                                           0.0   \n",
      "1                     0.0  ...                                           0.0   \n",
      "2                     0.0  ...                                           0.0   \n",
      "3                     0.0  ...                                           0.0   \n",
      "4                     0.0  ...                                           1.0   \n",
      "..                    ...  ...                                           ...   \n",
      "95                    0.0  ...                                           0.0   \n",
      "96                    0.0  ...                                           0.0   \n",
      "97                    0.0  ...                                           0.0   \n",
      "98                    0.0  ...                                           0.0   \n",
      "99                    0.0  ...                                           0.0   \n",
      "\n",
      "   Romantic, Comedies Romantic, Comedies, Drama Sci-Fi & Fantasy, Horror  \\\n",
      "0                 0.0                       0.0                      0.0   \n",
      "1                 0.0                       0.0                      0.0   \n",
      "2                 0.0                       0.0                      0.0   \n",
      "3                 0.0                       0.0                      0.0   \n",
      "4                 0.0                       0.0                      0.0   \n",
      "..                ...                       ...                      ...   \n",
      "95                0.0                       0.0                      0.0   \n",
      "96                0.0                       0.0                      0.0   \n",
      "97                0.0                       0.0                      0.0   \n",
      "98                0.0                       0.0                      0.0   \n",
      "99                0.0                       0.0                      0.0   \n",
      "\n",
      "   Sci-Fi & Fantasy, Sports, Comedies, Dramas  \\\n",
      "0                                         1.0   \n",
      "1                                         0.0   \n",
      "2                                         0.0   \n",
      "3                                         0.0   \n",
      "4                                         0.0   \n",
      "..                                        ...   \n",
      "95                                        0.0   \n",
      "96                                        0.0   \n",
      "97                                        0.0   \n",
      "98                                        0.0   \n",
      "99                                        0.0   \n",
      "\n",
      "   Sci-fi & Fantasy, Comedies, Dramas Sports Sports, Action & Adventure  \\\n",
      "0                                 0.0    0.0                        0.0   \n",
      "1                                 0.0    0.0                        0.0   \n",
      "2                                 0.0    0.0                        0.0   \n",
      "3                                 0.0    0.0                        0.0   \n",
      "4                                 0.0    0.0                        0.0   \n",
      "..                                ...    ...                        ...   \n",
      "95                                0.0    0.0                        0.0   \n",
      "96                                0.0    0.0                        0.0   \n",
      "97                                1.0    0.0                        0.0   \n",
      "98                                0.0    0.0                        0.0   \n",
      "99                                0.0    0.0                        0.0   \n",
      "\n",
      "   Sports, Children & Family, Dramas Sports, Comedies  \n",
      "0                                0.0              0.0  \n",
      "1                                0.0              0.0  \n",
      "2                                0.0              0.0  \n",
      "3                                0.0              0.0  \n",
      "4                                0.0              0.0  \n",
      "..                               ...              ...  \n",
      "95                               0.0              0.0  \n",
      "96                               0.0              0.0  \n",
      "97                               0.0              0.0  \n",
      "98                               1.0              0.0  \n",
      "99                               0.0              0.0  \n",
      "\n",
      "[100 rows x 25 columns]\n"
     ]
    }
   ],
   "source": [
    "print(features)"
   ]
  },
  {
   "cell_type": "code",
   "execution_count": 100,
   "id": "5d9468d2",
   "metadata": {},
   "outputs": [
    {
     "data": {
      "text/html": [
       "<div>\n",
       "<style scoped>\n",
       "    .dataframe tbody tr th:only-of-type {\n",
       "        vertical-align: middle;\n",
       "    }\n",
       "\n",
       "    .dataframe tbody tr th {\n",
       "        vertical-align: top;\n",
       "    }\n",
       "\n",
       "    .dataframe thead th {\n",
       "        text-align: right;\n",
       "    }\n",
       "</style>\n",
       "<table border=\"1\" class=\"dataframe\">\n",
       "  <thead>\n",
       "    <tr style=\"text-align: right;\">\n",
       "      <th></th>\n",
       "      <th>Unnamed: 0</th>\n",
       "      <th>Gender</th>\n",
       "      <th>Age Group</th>\n",
       "      <th>Often_Use</th>\n",
       "      <th>Fav_Genres</th>\n",
       "      <th>Preference</th>\n",
       "      <th>Inaccurate_Rating</th>\n",
       "      <th>Rating</th>\n",
       "      <th>Prefered_Rating</th>\n",
       "      <th>Accuracy</th>\n",
       "      <th>...</th>\n",
       "      <th>(Romantic, Anime, Classic, Action &amp; Adventure ,)</th>\n",
       "      <th>(Romantic, Comedies,)</th>\n",
       "      <th>(Romantic, Comedies, Drama,)</th>\n",
       "      <th>(Sci-Fi &amp; Fantasy, Horror,)</th>\n",
       "      <th>(Sci-Fi &amp; Fantasy, Sports, Comedies, Dramas,)</th>\n",
       "      <th>(Sci-fi &amp; Fantasy, Comedies, Dramas,)</th>\n",
       "      <th>(Sports,)</th>\n",
       "      <th>(Sports, Action &amp; Adventure,)</th>\n",
       "      <th>(Sports, Children &amp; Family, Dramas,)</th>\n",
       "      <th>(Sports, Comedies,)</th>\n",
       "    </tr>\n",
       "  </thead>\n",
       "  <tbody>\n",
       "    <tr>\n",
       "      <th>0</th>\n",
       "      <td>1</td>\n",
       "      <td>Male</td>\n",
       "      <td>31+</td>\n",
       "      <td>Rarely</td>\n",
       "      <td>Sci-Fi &amp; Fantasy, Sports, Comedies, Dramas</td>\n",
       "      <td>Thumbs Up &amp; Down Rating</td>\n",
       "      <td>1</td>\n",
       "      <td>Not Aplicable</td>\n",
       "      <td>Not Aplicable</td>\n",
       "      <td>3</td>\n",
       "      <td>...</td>\n",
       "      <td>0.0</td>\n",
       "      <td>0.0</td>\n",
       "      <td>0.0</td>\n",
       "      <td>0.0</td>\n",
       "      <td>1.0</td>\n",
       "      <td>0.0</td>\n",
       "      <td>0.0</td>\n",
       "      <td>0.0</td>\n",
       "      <td>0.0</td>\n",
       "      <td>0.0</td>\n",
       "    </tr>\n",
       "    <tr>\n",
       "      <th>1</th>\n",
       "      <td>2</td>\n",
       "      <td>Male</td>\n",
       "      <td>26-30</td>\n",
       "      <td>Daily</td>\n",
       "      <td>Anime, Sci-Fi &amp; Fantasy, Action &amp; Adventure</td>\n",
       "      <td>1-5 Star Rating</td>\n",
       "      <td>1</td>\n",
       "      <td>Not Aplicable</td>\n",
       "      <td>Not Aplicable</td>\n",
       "      <td>4</td>\n",
       "      <td>...</td>\n",
       "      <td>0.0</td>\n",
       "      <td>0.0</td>\n",
       "      <td>0.0</td>\n",
       "      <td>0.0</td>\n",
       "      <td>0.0</td>\n",
       "      <td>0.0</td>\n",
       "      <td>0.0</td>\n",
       "      <td>0.0</td>\n",
       "      <td>0.0</td>\n",
       "      <td>0.0</td>\n",
       "    </tr>\n",
       "    <tr>\n",
       "      <th>2</th>\n",
       "      <td>3</td>\n",
       "      <td>Female</td>\n",
       "      <td>16-20</td>\n",
       "      <td>Daily</td>\n",
       "      <td>Romantic, Anime, Classic</td>\n",
       "      <td>Thumbs Up &amp; Down Rating</td>\n",
       "      <td>2</td>\n",
       "      <td>Not Aplicable</td>\n",
       "      <td>Not Aplicable</td>\n",
       "      <td>5</td>\n",
       "      <td>...</td>\n",
       "      <td>0.0</td>\n",
       "      <td>0.0</td>\n",
       "      <td>0.0</td>\n",
       "      <td>0.0</td>\n",
       "      <td>0.0</td>\n",
       "      <td>0.0</td>\n",
       "      <td>0.0</td>\n",
       "      <td>0.0</td>\n",
       "      <td>0.0</td>\n",
       "      <td>0.0</td>\n",
       "    </tr>\n",
       "    <tr>\n",
       "      <th>3</th>\n",
       "      <td>4</td>\n",
       "      <td>Female</td>\n",
       "      <td>21-24</td>\n",
       "      <td>3-5 times a week</td>\n",
       "      <td>Action &amp; Adventure, Comedies</td>\n",
       "      <td>Thumbs Up &amp; Down Rating</td>\n",
       "      <td>3</td>\n",
       "      <td>TV-14</td>\n",
       "      <td>TV-PG</td>\n",
       "      <td>5</td>\n",
       "      <td>...</td>\n",
       "      <td>0.0</td>\n",
       "      <td>0.0</td>\n",
       "      <td>0.0</td>\n",
       "      <td>0.0</td>\n",
       "      <td>0.0</td>\n",
       "      <td>0.0</td>\n",
       "      <td>0.0</td>\n",
       "      <td>0.0</td>\n",
       "      <td>0.0</td>\n",
       "      <td>0.0</td>\n",
       "    </tr>\n",
       "    <tr>\n",
       "      <th>4</th>\n",
       "      <td>5</td>\n",
       "      <td>Male</td>\n",
       "      <td>21-25</td>\n",
       "      <td>3-5 times a week</td>\n",
       "      <td>Romantic, Anime, Classic, Action &amp; Adventure</td>\n",
       "      <td>Thumbs Up &amp; Down Rating</td>\n",
       "      <td>1</td>\n",
       "      <td>Not Aplicable</td>\n",
       "      <td>Not Aplicable</td>\n",
       "      <td>5</td>\n",
       "      <td>...</td>\n",
       "      <td>1.0</td>\n",
       "      <td>0.0</td>\n",
       "      <td>0.0</td>\n",
       "      <td>0.0</td>\n",
       "      <td>0.0</td>\n",
       "      <td>0.0</td>\n",
       "      <td>0.0</td>\n",
       "      <td>0.0</td>\n",
       "      <td>0.0</td>\n",
       "      <td>0.0</td>\n",
       "    </tr>\n",
       "    <tr>\n",
       "      <th>...</th>\n",
       "      <td>...</td>\n",
       "      <td>...</td>\n",
       "      <td>...</td>\n",
       "      <td>...</td>\n",
       "      <td>...</td>\n",
       "      <td>...</td>\n",
       "      <td>...</td>\n",
       "      <td>...</td>\n",
       "      <td>...</td>\n",
       "      <td>...</td>\n",
       "      <td>...</td>\n",
       "      <td>...</td>\n",
       "      <td>...</td>\n",
       "      <td>...</td>\n",
       "      <td>...</td>\n",
       "      <td>...</td>\n",
       "      <td>...</td>\n",
       "      <td>...</td>\n",
       "      <td>...</td>\n",
       "      <td>...</td>\n",
       "      <td>...</td>\n",
       "    </tr>\n",
       "    <tr>\n",
       "      <th>95</th>\n",
       "      <td>96</td>\n",
       "      <td>Male</td>\n",
       "      <td>16-21</td>\n",
       "      <td>3-5 times a week</td>\n",
       "      <td>Anime, Action &amp; Adventure</td>\n",
       "      <td>Thumbs Up &amp; Down Rating</td>\n",
       "      <td>1</td>\n",
       "      <td>Not Aplicable</td>\n",
       "      <td>Not Aplicable</td>\n",
       "      <td>4</td>\n",
       "      <td>...</td>\n",
       "      <td>0.0</td>\n",
       "      <td>0.0</td>\n",
       "      <td>0.0</td>\n",
       "      <td>0.0</td>\n",
       "      <td>0.0</td>\n",
       "      <td>0.0</td>\n",
       "      <td>0.0</td>\n",
       "      <td>0.0</td>\n",
       "      <td>0.0</td>\n",
       "      <td>0.0</td>\n",
       "    </tr>\n",
       "    <tr>\n",
       "      <th>96</th>\n",
       "      <td>97</td>\n",
       "      <td>Female</td>\n",
       "      <td>21-25</td>\n",
       "      <td>Daily</td>\n",
       "      <td>Anime, Sci-Fi &amp; Fantasy</td>\n",
       "      <td>Thumbs Up &amp; Down Rating</td>\n",
       "      <td>3</td>\n",
       "      <td>NC-17</td>\n",
       "      <td>R</td>\n",
       "      <td>5</td>\n",
       "      <td>...</td>\n",
       "      <td>0.0</td>\n",
       "      <td>0.0</td>\n",
       "      <td>0.0</td>\n",
       "      <td>0.0</td>\n",
       "      <td>0.0</td>\n",
       "      <td>0.0</td>\n",
       "      <td>0.0</td>\n",
       "      <td>0.0</td>\n",
       "      <td>0.0</td>\n",
       "      <td>0.0</td>\n",
       "    </tr>\n",
       "    <tr>\n",
       "      <th>97</th>\n",
       "      <td>98</td>\n",
       "      <td>Female</td>\n",
       "      <td>26-30</td>\n",
       "      <td>Daily</td>\n",
       "      <td>Sci-fi &amp; Fantasy, Comedies, Dramas</td>\n",
       "      <td>Thumbs Up &amp; Down Rating</td>\n",
       "      <td>4</td>\n",
       "      <td>NC-17</td>\n",
       "      <td>TV-MA</td>\n",
       "      <td>4</td>\n",
       "      <td>...</td>\n",
       "      <td>0.0</td>\n",
       "      <td>0.0</td>\n",
       "      <td>0.0</td>\n",
       "      <td>0.0</td>\n",
       "      <td>0.0</td>\n",
       "      <td>1.0</td>\n",
       "      <td>0.0</td>\n",
       "      <td>0.0</td>\n",
       "      <td>0.0</td>\n",
       "      <td>0.0</td>\n",
       "    </tr>\n",
       "    <tr>\n",
       "      <th>98</th>\n",
       "      <td>99</td>\n",
       "      <td>Male</td>\n",
       "      <td>31+</td>\n",
       "      <td>Rarely</td>\n",
       "      <td>Sports, Children &amp; Family, Dramas</td>\n",
       "      <td>1-5 Star Rating</td>\n",
       "      <td>5</td>\n",
       "      <td>NC-17</td>\n",
       "      <td>TV-MA</td>\n",
       "      <td>3</td>\n",
       "      <td>...</td>\n",
       "      <td>0.0</td>\n",
       "      <td>0.0</td>\n",
       "      <td>0.0</td>\n",
       "      <td>0.0</td>\n",
       "      <td>0.0</td>\n",
       "      <td>0.0</td>\n",
       "      <td>0.0</td>\n",
       "      <td>0.0</td>\n",
       "      <td>1.0</td>\n",
       "      <td>0.0</td>\n",
       "    </tr>\n",
       "    <tr>\n",
       "      <th>99</th>\n",
       "      <td>100</td>\n",
       "      <td>Male</td>\n",
       "      <td>31+</td>\n",
       "      <td>3-5 times a week</td>\n",
       "      <td>Documentaries, Horror, Thriller, Comedies</td>\n",
       "      <td>1-5 Star Rating</td>\n",
       "      <td>5</td>\n",
       "      <td>NC-17</td>\n",
       "      <td>TV-MA</td>\n",
       "      <td>4</td>\n",
       "      <td>...</td>\n",
       "      <td>0.0</td>\n",
       "      <td>0.0</td>\n",
       "      <td>0.0</td>\n",
       "      <td>0.0</td>\n",
       "      <td>0.0</td>\n",
       "      <td>0.0</td>\n",
       "      <td>0.0</td>\n",
       "      <td>0.0</td>\n",
       "      <td>0.0</td>\n",
       "      <td>0.0</td>\n",
       "    </tr>\n",
       "  </tbody>\n",
       "</table>\n",
       "<p>100 rows × 36 columns</p>\n",
       "</div>"
      ],
      "text/plain": [
       "    Unnamed: 0   Gender Age Group          Often_Use  \\\n",
       "0            1     Male        31+            Rarely   \n",
       "1            2     Male      26-30            Daily    \n",
       "2            3  Female       16-20            Daily    \n",
       "3            4  Female       21-24  3-5 times a week   \n",
       "4            5     Male      21-25  3-5 times a week   \n",
       "..         ...      ...        ...               ...   \n",
       "95          96     Male      16-21  3-5 times a week   \n",
       "96          97  Female       21-25            Daily    \n",
       "97          98  Female       26-30            Daily    \n",
       "98          99     Male        31+            Rarely   \n",
       "99         100     Male        31+  3-5 times a week   \n",
       "\n",
       "                                       Fav_Genres               Preference  \\\n",
       "0      Sci-Fi & Fantasy, Sports, Comedies, Dramas  Thumbs Up & Down Rating   \n",
       "1    Anime, Sci-Fi & Fantasy, Action & Adventure          1-5 Star Rating    \n",
       "2                        Romantic, Anime, Classic  Thumbs Up & Down Rating   \n",
       "3                    Action & Adventure, Comedies  Thumbs Up & Down Rating   \n",
       "4   Romantic, Anime, Classic, Action & Adventure   Thumbs Up & Down Rating   \n",
       "..                                            ...                      ...   \n",
       "95                     Anime, Action & Adventure   Thumbs Up & Down Rating   \n",
       "96                        Anime, Sci-Fi & Fantasy  Thumbs Up & Down Rating   \n",
       "97             Sci-fi & Fantasy, Comedies, Dramas  Thumbs Up & Down Rating   \n",
       "98              Sports, Children & Family, Dramas         1-5 Star Rating    \n",
       "99      Documentaries, Horror, Thriller, Comedies         1-5 Star Rating    \n",
       "\n",
       "    Inaccurate_Rating          Rating Prefered_Rating  Accuracy  ...  \\\n",
       "0                   1  Not Aplicable   Not Aplicable          3  ...   \n",
       "1                   1  Not Aplicable   Not Aplicable          4  ...   \n",
       "2                   2  Not Aplicable   Not Aplicable          5  ...   \n",
       "3                   3           TV-14           TV-PG         5  ...   \n",
       "4                   1  Not Aplicable   Not Aplicable          5  ...   \n",
       "..                ...             ...             ...       ...  ...   \n",
       "95                  1  Not Aplicable   Not Aplicable          4  ...   \n",
       "96                  3           NC-17               R         5  ...   \n",
       "97                  4           NC-17           TV-MA         4  ...   \n",
       "98                  5           NC-17           TV-MA         3  ...   \n",
       "99                  5           NC-17           TV-MA         4  ...   \n",
       "\n",
       "   (Romantic, Anime, Classic, Action & Adventure ,)  (Romantic, Comedies,)  \\\n",
       "0                                               0.0                    0.0   \n",
       "1                                               0.0                    0.0   \n",
       "2                                               0.0                    0.0   \n",
       "3                                               0.0                    0.0   \n",
       "4                                               1.0                    0.0   \n",
       "..                                              ...                    ...   \n",
       "95                                              0.0                    0.0   \n",
       "96                                              0.0                    0.0   \n",
       "97                                              0.0                    0.0   \n",
       "98                                              0.0                    0.0   \n",
       "99                                              0.0                    0.0   \n",
       "\n",
       "    (Romantic, Comedies, Drama,)  (Sci-Fi & Fantasy, Horror,)  \\\n",
       "0                            0.0                          0.0   \n",
       "1                            0.0                          0.0   \n",
       "2                            0.0                          0.0   \n",
       "3                            0.0                          0.0   \n",
       "4                            0.0                          0.0   \n",
       "..                           ...                          ...   \n",
       "95                           0.0                          0.0   \n",
       "96                           0.0                          0.0   \n",
       "97                           0.0                          0.0   \n",
       "98                           0.0                          0.0   \n",
       "99                           0.0                          0.0   \n",
       "\n",
       "    (Sci-Fi & Fantasy, Sports, Comedies, Dramas,)  \\\n",
       "0                                             1.0   \n",
       "1                                             0.0   \n",
       "2                                             0.0   \n",
       "3                                             0.0   \n",
       "4                                             0.0   \n",
       "..                                            ...   \n",
       "95                                            0.0   \n",
       "96                                            0.0   \n",
       "97                                            0.0   \n",
       "98                                            0.0   \n",
       "99                                            0.0   \n",
       "\n",
       "    (Sci-fi & Fantasy, Comedies, Dramas,)  (Sports,)  \\\n",
       "0                                     0.0        0.0   \n",
       "1                                     0.0        0.0   \n",
       "2                                     0.0        0.0   \n",
       "3                                     0.0        0.0   \n",
       "4                                     0.0        0.0   \n",
       "..                                    ...        ...   \n",
       "95                                    0.0        0.0   \n",
       "96                                    0.0        0.0   \n",
       "97                                    1.0        0.0   \n",
       "98                                    0.0        0.0   \n",
       "99                                    0.0        0.0   \n",
       "\n",
       "    (Sports, Action & Adventure,)  (Sports, Children & Family, Dramas,)  \\\n",
       "0                             0.0                                   0.0   \n",
       "1                             0.0                                   0.0   \n",
       "2                             0.0                                   0.0   \n",
       "3                             0.0                                   0.0   \n",
       "4                             0.0                                   0.0   \n",
       "..                            ...                                   ...   \n",
       "95                            0.0                                   0.0   \n",
       "96                            0.0                                   0.0   \n",
       "97                            0.0                                   0.0   \n",
       "98                            0.0                                   1.0   \n",
       "99                            0.0                                   0.0   \n",
       "\n",
       "    (Sports, Comedies,)  \n",
       "0                   0.0  \n",
       "1                   0.0  \n",
       "2                   0.0  \n",
       "3                   0.0  \n",
       "4                   0.0  \n",
       "..                  ...  \n",
       "95                  0.0  \n",
       "96                  0.0  \n",
       "97                  0.0  \n",
       "98                  0.0  \n",
       "99                  0.0  \n",
       "\n",
       "[100 rows x 36 columns]"
      ]
     },
     "execution_count": 100,
     "metadata": {},
     "output_type": "execute_result"
    }
   ],
   "source": [
    "pd.concat([df, features], axis=1)"
   ]
  },
  {
   "cell_type": "code",
   "execution_count": 101,
   "id": "81d3bd6c",
   "metadata": {},
   "outputs": [
    {
     "data": {
      "text/html": [
       "<div>\n",
       "<style scoped>\n",
       "    .dataframe tbody tr th:only-of-type {\n",
       "        vertical-align: middle;\n",
       "    }\n",
       "\n",
       "    .dataframe tbody tr th {\n",
       "        vertical-align: top;\n",
       "    }\n",
       "\n",
       "    .dataframe thead th {\n",
       "        text-align: right;\n",
       "    }\n",
       "</style>\n",
       "<table border=\"1\" class=\"dataframe\">\n",
       "  <thead>\n",
       "    <tr style=\"text-align: right;\">\n",
       "      <th></th>\n",
       "      <th>Unnamed: 0</th>\n",
       "      <th>Gender</th>\n",
       "      <th>Age Group</th>\n",
       "      <th>Often_Use</th>\n",
       "      <th>Fav_Genres</th>\n",
       "      <th>Preference</th>\n",
       "      <th>Inaccurate_Rating</th>\n",
       "      <th>Rating</th>\n",
       "      <th>Prefered_Rating</th>\n",
       "      <th>Accuracy</th>\n",
       "      <th>...</th>\n",
       "      <th>(Romantic, Anime, Classic, Action &amp; Adventure ,)</th>\n",
       "      <th>(Romantic, Comedies,)</th>\n",
       "      <th>(Romantic, Comedies, Drama,)</th>\n",
       "      <th>(Sci-Fi &amp; Fantasy, Horror,)</th>\n",
       "      <th>(Sci-Fi &amp; Fantasy, Sports, Comedies, Dramas,)</th>\n",
       "      <th>(Sci-fi &amp; Fantasy, Comedies, Dramas,)</th>\n",
       "      <th>(Sports,)</th>\n",
       "      <th>(Sports, Action &amp; Adventure,)</th>\n",
       "      <th>(Sports, Children &amp; Family, Dramas,)</th>\n",
       "      <th>(Sports, Comedies,)</th>\n",
       "    </tr>\n",
       "  </thead>\n",
       "  <tbody>\n",
       "    <tr>\n",
       "      <th>0</th>\n",
       "      <td>1</td>\n",
       "      <td>Male</td>\n",
       "      <td>31+</td>\n",
       "      <td>Rarely</td>\n",
       "      <td>Sci-Fi &amp; Fantasy, Sports, Comedies, Dramas</td>\n",
       "      <td>Thumbs Up &amp; Down Rating</td>\n",
       "      <td>1</td>\n",
       "      <td>Not Aplicable</td>\n",
       "      <td>Not Aplicable</td>\n",
       "      <td>3</td>\n",
       "      <td>...</td>\n",
       "      <td>0.0</td>\n",
       "      <td>0.0</td>\n",
       "      <td>0.0</td>\n",
       "      <td>0.0</td>\n",
       "      <td>1.0</td>\n",
       "      <td>0.0</td>\n",
       "      <td>0.0</td>\n",
       "      <td>0.0</td>\n",
       "      <td>0.0</td>\n",
       "      <td>0.0</td>\n",
       "    </tr>\n",
       "    <tr>\n",
       "      <th>1</th>\n",
       "      <td>2</td>\n",
       "      <td>Male</td>\n",
       "      <td>26-30</td>\n",
       "      <td>Daily</td>\n",
       "      <td>Anime, Sci-Fi &amp; Fantasy, Action &amp; Adventure</td>\n",
       "      <td>1-5 Star Rating</td>\n",
       "      <td>1</td>\n",
       "      <td>Not Aplicable</td>\n",
       "      <td>Not Aplicable</td>\n",
       "      <td>4</td>\n",
       "      <td>...</td>\n",
       "      <td>0.0</td>\n",
       "      <td>0.0</td>\n",
       "      <td>0.0</td>\n",
       "      <td>0.0</td>\n",
       "      <td>0.0</td>\n",
       "      <td>0.0</td>\n",
       "      <td>0.0</td>\n",
       "      <td>0.0</td>\n",
       "      <td>0.0</td>\n",
       "      <td>0.0</td>\n",
       "    </tr>\n",
       "    <tr>\n",
       "      <th>2</th>\n",
       "      <td>3</td>\n",
       "      <td>Female</td>\n",
       "      <td>16-20</td>\n",
       "      <td>Daily</td>\n",
       "      <td>Romantic, Anime, Classic</td>\n",
       "      <td>Thumbs Up &amp; Down Rating</td>\n",
       "      <td>2</td>\n",
       "      <td>Not Aplicable</td>\n",
       "      <td>Not Aplicable</td>\n",
       "      <td>5</td>\n",
       "      <td>...</td>\n",
       "      <td>0.0</td>\n",
       "      <td>0.0</td>\n",
       "      <td>0.0</td>\n",
       "      <td>0.0</td>\n",
       "      <td>0.0</td>\n",
       "      <td>0.0</td>\n",
       "      <td>0.0</td>\n",
       "      <td>0.0</td>\n",
       "      <td>0.0</td>\n",
       "      <td>0.0</td>\n",
       "    </tr>\n",
       "    <tr>\n",
       "      <th>3</th>\n",
       "      <td>4</td>\n",
       "      <td>Female</td>\n",
       "      <td>21-24</td>\n",
       "      <td>3-5 times a week</td>\n",
       "      <td>Action &amp; Adventure, Comedies</td>\n",
       "      <td>Thumbs Up &amp; Down Rating</td>\n",
       "      <td>3</td>\n",
       "      <td>TV-14</td>\n",
       "      <td>TV-PG</td>\n",
       "      <td>5</td>\n",
       "      <td>...</td>\n",
       "      <td>0.0</td>\n",
       "      <td>0.0</td>\n",
       "      <td>0.0</td>\n",
       "      <td>0.0</td>\n",
       "      <td>0.0</td>\n",
       "      <td>0.0</td>\n",
       "      <td>0.0</td>\n",
       "      <td>0.0</td>\n",
       "      <td>0.0</td>\n",
       "      <td>0.0</td>\n",
       "    </tr>\n",
       "    <tr>\n",
       "      <th>4</th>\n",
       "      <td>5</td>\n",
       "      <td>Male</td>\n",
       "      <td>21-25</td>\n",
       "      <td>3-5 times a week</td>\n",
       "      <td>Romantic, Anime, Classic, Action &amp; Adventure</td>\n",
       "      <td>Thumbs Up &amp; Down Rating</td>\n",
       "      <td>1</td>\n",
       "      <td>Not Aplicable</td>\n",
       "      <td>Not Aplicable</td>\n",
       "      <td>5</td>\n",
       "      <td>...</td>\n",
       "      <td>1.0</td>\n",
       "      <td>0.0</td>\n",
       "      <td>0.0</td>\n",
       "      <td>0.0</td>\n",
       "      <td>0.0</td>\n",
       "      <td>0.0</td>\n",
       "      <td>0.0</td>\n",
       "      <td>0.0</td>\n",
       "      <td>0.0</td>\n",
       "      <td>0.0</td>\n",
       "    </tr>\n",
       "  </tbody>\n",
       "</table>\n",
       "<p>5 rows × 36 columns</p>\n",
       "</div>"
      ],
      "text/plain": [
       "   Unnamed: 0   Gender Age Group          Often_Use  \\\n",
       "0           1     Male        31+            Rarely   \n",
       "1           2     Male      26-30            Daily    \n",
       "2           3  Female       16-20            Daily    \n",
       "3           4  Female       21-24  3-5 times a week   \n",
       "4           5     Male      21-25  3-5 times a week   \n",
       "\n",
       "                                      Fav_Genres               Preference  \\\n",
       "0     Sci-Fi & Fantasy, Sports, Comedies, Dramas  Thumbs Up & Down Rating   \n",
       "1   Anime, Sci-Fi & Fantasy, Action & Adventure          1-5 Star Rating    \n",
       "2                       Romantic, Anime, Classic  Thumbs Up & Down Rating   \n",
       "3                   Action & Adventure, Comedies  Thumbs Up & Down Rating   \n",
       "4  Romantic, Anime, Classic, Action & Adventure   Thumbs Up & Down Rating   \n",
       "\n",
       "   Inaccurate_Rating          Rating Prefered_Rating  Accuracy  ...  \\\n",
       "0                  1  Not Aplicable   Not Aplicable          3  ...   \n",
       "1                  1  Not Aplicable   Not Aplicable          4  ...   \n",
       "2                  2  Not Aplicable   Not Aplicable          5  ...   \n",
       "3                  3           TV-14           TV-PG         5  ...   \n",
       "4                  1  Not Aplicable   Not Aplicable          5  ...   \n",
       "\n",
       "  (Romantic, Anime, Classic, Action & Adventure ,)  (Romantic, Comedies,)  \\\n",
       "0                                              0.0                    0.0   \n",
       "1                                              0.0                    0.0   \n",
       "2                                              0.0                    0.0   \n",
       "3                                              0.0                    0.0   \n",
       "4                                              1.0                    0.0   \n",
       "\n",
       "   (Romantic, Comedies, Drama,)  (Sci-Fi & Fantasy, Horror,)  \\\n",
       "0                           0.0                          0.0   \n",
       "1                           0.0                          0.0   \n",
       "2                           0.0                          0.0   \n",
       "3                           0.0                          0.0   \n",
       "4                           0.0                          0.0   \n",
       "\n",
       "   (Sci-Fi & Fantasy, Sports, Comedies, Dramas,)  \\\n",
       "0                                            1.0   \n",
       "1                                            0.0   \n",
       "2                                            0.0   \n",
       "3                                            0.0   \n",
       "4                                            0.0   \n",
       "\n",
       "   (Sci-fi & Fantasy, Comedies, Dramas,)  (Sports,)  \\\n",
       "0                                    0.0        0.0   \n",
       "1                                    0.0        0.0   \n",
       "2                                    0.0        0.0   \n",
       "3                                    0.0        0.0   \n",
       "4                                    0.0        0.0   \n",
       "\n",
       "   (Sports, Action & Adventure,)  (Sports, Children & Family, Dramas,)  \\\n",
       "0                            0.0                                   0.0   \n",
       "1                            0.0                                   0.0   \n",
       "2                            0.0                                   0.0   \n",
       "3                            0.0                                   0.0   \n",
       "4                            0.0                                   0.0   \n",
       "\n",
       "   (Sports, Comedies,)  \n",
       "0                  0.0  \n",
       "1                  0.0  \n",
       "2                  0.0  \n",
       "3                  0.0  \n",
       "4                  0.0  \n",
       "\n",
       "[5 rows x 36 columns]"
      ]
     },
     "execution_count": 101,
     "metadata": {},
     "output_type": "execute_result"
    }
   ],
   "source": [
    "df_new = pd.concat([df, features], axis=1)\n",
    "df_new.head()"
   ]
  },
  {
   "cell_type": "code",
   "execution_count": 102,
   "id": "361dab3d",
   "metadata": {},
   "outputs": [
    {
     "data": {
      "text/plain": [
       "array([37, 32, 18, 10,  3], dtype=int64)"
      ]
     },
     "execution_count": 102,
     "metadata": {},
     "output_type": "execute_result"
    }
   ],
   "source": [
    "df['Rating'].value_counts().unique()"
   ]
  },
  {
   "cell_type": "markdown",
   "id": "6721b4ce",
   "metadata": {},
   "source": [
    "#### Data Visualization"
   ]
  },
  {
   "cell_type": "code",
   "execution_count": 103,
   "id": "a9cc5581",
   "metadata": {},
   "outputs": [
    {
     "data": {
      "text/plain": [
       "<AxesSubplot:xlabel='Rating', ylabel='count'>"
      ]
     },
     "execution_count": 103,
     "metadata": {},
     "output_type": "execute_result"
    },
    {
     "data": {
      "image/png": "[encoded data removed]",
      "text/plain": [
       "<Figure size 864x576 with 1 Axes>"
      ]
     },
     "metadata": {
      "needs_background": "light"
     },
     "output_type": "display_data"
    }
   ],
   "source": [
    "plt.figure(figsize = (12,8))\n",
    "sns.countplot(x='Rating',data = df)"
   ]
  },
  {
   "cell_type": "code",
   "execution_count": 104,
   "id": "771d70a0",
   "metadata": {},
   "outputs": [
    {
     "data": {
      "text/plain": [
       "<AxesSubplot:xlabel='Prefered_Rating', ylabel='count'>"
      ]
     },
     "execution_count": 104,
     "metadata": {},
     "output_type": "execute_result"
    },
    {
     "data": {
      "image/png": "[encoded data removed]",
      "text/plain": [
       "<Figure size 864x576 with 1 Axes>"
      ]
     },
     "metadata": {
      "needs_background": "light"
     },
     "output_type": "display_data"
    }
   ],
   "source": [
    "plt.figure(figsize = (12,8))\n",
    "sns.countplot(x='Prefered_Rating',data = df)"
   ]
  },
  {
   "cell_type": "code",
   "execution_count": 105,
   "id": "15472fa3",
   "metadata": {},
   "outputs": [
    {
     "data": {
      "text/plain": [
       "<AxesSubplot:xlabel='Inaccurate_Rating', ylabel='count'>"
      ]
     },
     "execution_count": 105,
     "metadata": {},
     "output_type": "execute_result"
    },
    {
     "data": {
      "image/png": "[encoded data removed]",
      "text/plain": [
       "<Figure size 864x576 with 1 Axes>"
      ]
     },
     "metadata": {
      "needs_background": "light"
     },
     "output_type": "display_data"
    }
   ],
   "source": [
    "plt.figure(figsize = (12,8))\n",
    "sns.countplot(x='Inaccurate_Rating',data = df)"
   ]
  },
  {
   "cell_type": "code",
   "execution_count": 106,
   "id": "7478c253",
   "metadata": {},
   "outputs": [
    {
     "data": {
      "text/plain": [
       "<AxesSubplot:xlabel='Preference', ylabel='count'>"
      ]
     },
     "execution_count": 106,
     "metadata": {},
     "output_type": "execute_result"
    },
    {
     "data": {
      "image/png": "[encoded data removed]",
      "text/plain": [
       "<Figure size 864x576 with 1 Axes>"
      ]
     },
     "metadata": {
      "needs_background": "light"
     },
     "output_type": "display_data"
    }
   ],
   "source": [
    "plt.figure(figsize = (12,8))\n",
    "sns.countplot(x='Preference',data = df)"
   ]
  },
  {
   "cell_type": "code",
   "execution_count": 107,
   "id": "7a21d2e7",
   "metadata": {},
   "outputs": [
    {
     "data": {
      "text/plain": [
       "<AxesSubplot:xlabel='Rating', ylabel='count'>"
      ]
     },
     "execution_count": 107,
     "metadata": {},
     "output_type": "execute_result"
    },
    {
     "data": {
      "image/png": "[encoded data removed]",
      "text/plain": [
       "<Figure size 864x576 with 1 Axes>"
      ]
     },
     "metadata": {
      "needs_background": "light"
     },
     "output_type": "display_data"
    }
   ],
   "source": [
    "plt.figure(figsize = (12,8))\n",
    "sns.countplot(x='Rating',data = df,hue='Prefered_Rating')"
   ]
  },
  {
   "cell_type": "code",
   "execution_count": 109,
   "id": "eb3b0be1",
   "metadata": {},
   "outputs": [
    {
     "data": {
      "application/vnd.plotly.v1+json": {
       "config": {
        "plotlyServerURL": "https://plot.ly"
       },
       "data": [
        {
         "branchvalues": "total",
         "domain": {
          "x": [
           0,
           1
          ],
          "y": [
           0,
           1
          ]
         },
         "hovertemplate": "labels=%{label}<br>count=%{value}<br>parent=%{parent}<br>id=%{id}<extra></extra>",
         "ids": [
          "3-5 times a week",
          "4-6 times a month",
          "Daily ",
          "Rarely"
         ],
         "labels": [
          "3-5 times a week",
          "4-6 times a month",
          "Daily ",
          "Rarely"
         ],
         "name": "",
         "parents": [
          "",
          "",
          "",
          ""
         ],
         "type": "sunburst",
         "values": [
          3,
          2,
          2,
          3
         ]
        }
       ],
       "layout": {
        "legend": {
         "tracegroupgap": 0
        },
        "margin": {
         "t": 60
        },
        "template": {
         "data": {
          "bar": [
           {
            "error_x": {
             "color": "#2a3f5f"
            },
            "error_y": {
             "color": "#2a3f5f"
            },
            "marker": {
             "line": {
              "color": "#E5ECF6",
              "width": 0.5
             },
             "pattern": {
              "fillmode": "overlay",
              "size": 10,
              "solidity": 0.2
             }
            },
            "type": "bar"
           }
          ],
          "barpolar": [
           {
            "marker": {
             "line": {
              "color": "#E5ECF6",
              "width": 0.5
             },
             "pattern": {
              "fillmode": "overlay",
              "size": 10,
              "solidity": 0.2
             }
            },
            "type": "barpolar"
           }
          ],
          "carpet": [
           {
            "aaxis": {
             "endlinecolor": "#2a3f5f",
             "gridcolor": "white",
             "linecolor": "white",
             "minorgridcolor": "white",
             "startlinecolor": "#2a3f5f"
            },
            "baxis": {
             "endlinecolor": "#2a3f5f",
             "gridcolor": "white",
             "linecolor": "white",
             "minorgridcolor": "white",
             "startlinecolor": "#2a3f5f"
            },
            "type": "carpet"
           }
          ],
          "choropleth": [
           {
            "colorbar": {
             "outlinewidth": 0,
             "ticks": ""
            },
            "type": "choropleth"
           }
          ],
          "contour": [
           {
            "colorbar": {
             "outlinewidth": 0,
             "ticks": ""
            },
            "colorscale": [
             [
              0,
              "#0d0887"
             ],
             [
              0.1111111111111111,
              "#46039f"
             ],
             [
              0.2222222222222222,
              "#7201a8"
             ],
             [
              0.3333333333333333,
              "#9c179e"
             ],
             [
              0.4444444444444444,
              "#bd3786"
             ],
             [
              0.5555555555555556,
              "#d8576b"
             ],
             [
              0.6666666666666666,
              "#ed7953"
             ],
             [
              0.7777777777777778,
              "#fb9f3a"
             ],
             [
              0.8888888888888888,
              "#fdca26"
             ],
             [
              1,
              "#f0f921"
             ]
            ],
            "type": "contour"
           }
          ],
          "contourcarpet": [
           {
            "colorbar": {
             "outlinewidth": 0,
             "ticks": ""
            },
            "type": "contourcarpet"
           }
          ],
          "heatmap": [
           {
            "colorbar": {
             "outlinewidth": 0,
             "ticks": ""
            },
            "colorscale": [
             [
              0,
              "#0d0887"
             ],
             [
              0.1111111111111111,
              "#46039f"
             ],
             [
              0.2222222222222222,
              "#7201a8"
             ],
             [
              0.3333333333333333,
              "#9c179e"
             ],
             [
              0.4444444444444444,
              "#bd3786"
             ],
             [
              0.5555555555555556,
              "#d8576b"
             ],
             [
              0.6666666666666666,
              "#ed7953"
             ],
             [
              0.7777777777777778,
              "#fb9f3a"
             ],
             [
              0.8888888888888888,
              "#fdca26"
             ],
             [
              1,
              "#f0f921"
             ]
            ],
            "type": "heatmap"
           }
          ],
          "heatmapgl": [
           {
            "colorbar": {
             "outlinewidth": 0,
             "ticks": ""
            },
            "colorscale": [
             [
              0,
              "#0d0887"
             ],
             [
              0.1111111111111111,
              "#46039f"
             ],
             [
              0.2222222222222222,
              "#7201a8"
             ],
             [
              0.3333333333333333,
              "#9c179e"
             ],
             [
              0.4444444444444444,
              "#bd3786"
             ],
             [
              0.5555555555555556,
              "#d8576b"
             ],
             [
              0.6666666666666666,
              "#ed7953"
             ],
             [
              0.7777777777777778,
              "#fb9f3a"
             ],
             [
              0.8888888888888888,
              "#fdca26"
             ],
             [
              1,
              "#f0f921"
             ]
            ],
            "type": "heatmapgl"
           }
          ],
          "histogram": [
           {
            "marker": {
             "pattern": {
              "fillmode": "overlay",
              "size": 10,
              "solidity": 0.2
             }
            },
            "type": "histogram"
           }
          ],
          "histogram2d": [
           {
            "colorbar": {
             "outlinewidth": 0,
             "ticks": ""
            },
            "colorscale": [
             [
              0,
              "#0d0887"
             ],
             [
              0.1111111111111111,
              "#46039f"
             ],
             [
              0.2222222222222222,
              "#7201a8"
             ],
             [
              0.3333333333333333,
              "#9c179e"
             ],
             [
              0.4444444444444444,
              "#bd3786"
             ],
             [
              0.5555555555555556,
              "#d8576b"
             ],
             [
              0.6666666666666666,
              "#ed7953"
             ],
             [
              0.7777777777777778,
              "#fb9f3a"
             ],
             [
              0.8888888888888888,
              "#fdca26"
             ],
             [
              1,
              "#f0f921"
             ]
            ],
            "type": "histogram2d"
           }
          ],
          "histogram2dcontour": [
           {
            "colorbar": {
             "outlinewidth": 0,
             "ticks": ""
            },
            "colorscale": [
             [
              0,
              "#0d0887"
             ],
             [
              0.1111111111111111,
              "#46039f"
             ],
             [
              0.2222222222222222,
              "#7201a8"
             ],
             [
              0.3333333333333333,
              "#9c179e"
             ],
             [
              0.4444444444444444,
              "#bd3786"
             ],
             [
              0.5555555555555556,
              "#d8576b"
             ],
             [
              0.6666666666666666,
              "#ed7953"
             ],
             [
              0.7777777777777778,
              "#fb9f3a"
             ],
             [
              0.8888888888888888,
              "#fdca26"
             ],
             [
              1,
              "#f0f921"
             ]
            ],
            "type": "histogram2dcontour"
           }
          ],
          "mesh3d": [
           {
            "colorbar": {
             "outlinewidth": 0,
             "ticks": ""
            },
            "type": "mesh3d"
           }
          ],
          "parcoords": [
           {
            "line": {
             "colorbar": {
              "outlinewidth": 0,
              "ticks": ""
             }
            },
            "type": "parcoords"
           }
          ],
          "pie": [
           {
            "automargin": true,
            "type": "pie"
           }
          ],
          "scatter": [
           {
            "fillpattern": {
             "fillmode": "overlay",
             "size": 10,
             "solidity": 0.2
            },
            "type": "scatter"
           }
          ],
          "scatter3d": [
           {
            "line": {
             "colorbar": {
              "outlinewidth": 0,
              "ticks": ""
             }
            },
            "marker": {
             "colorbar": {
              "outlinewidth": 0,
              "ticks": ""
             }
            },
            "type": "scatter3d"
           }
          ],
          "scattercarpet": [
           {
            "marker": {
             "colorbar": {
              "outlinewidth": 0,
              "ticks": ""
             }
            },
            "type": "scattercarpet"
           }
          ],
          "scattergeo": [
           {
            "marker": {
             "colorbar": {
              "outlinewidth": 0,
              "ticks": ""
             }
            },
            "type": "scattergeo"
           }
          ],
          "scattergl": [
           {
            "marker": {
             "colorbar": {
              "outlinewidth": 0,
              "ticks": ""
             }
            },
            "type": "scattergl"
           }
          ],
          "scattermapbox": [
           {
            "marker": {
             "colorbar": {
              "outlinewidth": 0,
              "ticks": ""
             }
            },
            "type": "scattermapbox"
           }
          ],
          "scatterpolar": [
           {
            "marker": {
             "colorbar": {
              "outlinewidth": 0,
              "ticks": ""
             }
            },
            "type": "scatterpolar"
           }
          ],
          "scatterpolargl": [
           {
            "marker": {
             "colorbar": {
              "outlinewidth": 0,
              "ticks": ""
             }
            },
            "type": "scatterpolargl"
           }
          ],
          "scatterternary": [
           {
            "marker": {
             "colorbar": {
              "outlinewidth": 0,
              "ticks": ""
             }
            },
            "type": "scatterternary"
           }
          ],
          "surface": [
           {
            "colorbar": {
             "outlinewidth": 0,
             "ticks": ""
            },
            "colorscale": [
             [
              0,
              "#0d0887"
             ],
             [
              0.1111111111111111,
              "#46039f"
             ],
             [
              0.2222222222222222,
              "#7201a8"
             ],
             [
              0.3333333333333333,
              "#9c179e"
             ],
             [
              0.4444444444444444,
              "#bd3786"
             ],
             [
              0.5555555555555556,
              "#d8576b"
             ],
             [
              0.6666666666666666,
              "#ed7953"
             ],
             [
              0.7777777777777778,
              "#fb9f3a"
             ],
             [
              0.8888888888888888,
              "#fdca26"
             ],
             [
              1,
              "#f0f921"
             ]
            ],
            "type": "surface"
           }
          ],
          "table": [
           {
            "cells": {
             "fill": {
              "color": "#EBF0F8"
             },
             "line": {
              "color": "white"
             }
            },
            "header": {
             "fill": {
              "color": "#C8D4E3"
             },
             "line": {
              "color": "white"
             }
            },
            "type": "table"
           }
          ]
         },
         "layout": {
          "annotationdefaults": {
           "arrowcolor": "#2a3f5f",
           "arrowhead": 0,
           "arrowwidth": 1
          },
          "autotypenumbers": "strict",
          "coloraxis": {
           "colorbar": {
            "outlinewidth": 0,
            "ticks": ""
           }
          },
          "colorscale": {
           "diverging": [
            [
             0,
             "#8e0152"
            ],
            [
             0.1,
             "#c51b7d"
            ],
            [
             0.2,
             "#de77ae"
            ],
            [
             0.3,
             "#f1b6da"
            ],
            [
             0.4,
             "#fde0ef"
            ],
            [
             0.5,
             "#f7f7f7"
            ],
            [
             0.6,
             "#e6f5d0"
            ],
            [
             0.7,
             "#b8e186"
            ],
            [
             0.8,
             "#7fbc41"
            ],
            [
             0.9,
             "#4d9221"
            ],
            [
             1,
             "#276419"
            ]
           ],
           "sequential": [
            [
             0,
             "#0d0887"
            ],
            [
             0.1111111111111111,
             "#46039f"
            ],
            [
             0.2222222222222222,
             "#7201a8"
            ],
            [
             0.3333333333333333,
             "#9c179e"
            ],
            [
             0.4444444444444444,
             "#bd3786"
            ],
            [
             0.5555555555555556,
             "#d8576b"
            ],
            [
             0.6666666666666666,
             "#ed7953"
            ],
            [
             0.7777777777777778,
             "#fb9f3a"
            ],
            [
             0.8888888888888888,
             "#fdca26"
            ],
            [
             1,
             "#f0f921"
            ]
           ],
           "sequentialminus": [
            [
             0,
             "#0d0887"
            ],
            [
             0.1111111111111111,
             "#46039f"
            ],
            [
             0.2222222222222222,
             "#7201a8"
            ],
            [
             0.3333333333333333,
             "#9c179e"
            ],
            [
             0.4444444444444444,
             "#bd3786"
            ],
            [
             0.5555555555555556,
             "#d8576b"
            ],
            [
             0.6666666666666666,
             "#ed7953"
            ],
            [
             0.7777777777777778,
             "#fb9f3a"
            ],
            [
             0.8888888888888888,
             "#fdca26"
            ],
            [
             1,
             "#f0f921"
            ]
           ]
          },
          "colorway": [
           "#636efa",
           "#EF553B",
           "#00cc96",
           "#ab63fa",
           "#FFA15A",
           "#19d3f3",
           "#FF6692",
           "#B6E880",
           "#FF97FF",
           "#FECB52"
          ],
          "font": {
           "color": "#2a3f5f"
          },
          "geo": {
           "bgcolor": "white",
           "lakecolor": "white",
           "landcolor": "#E5ECF6",
           "showlakes": true,
           "showland": true,
           "subunitcolor": "white"
          },
          "hoverlabel": {
           "align": "left"
          },
          "hovermode": "closest",
          "mapbox": {
           "style": "light"
          },
          "paper_bgcolor": "white",
          "plot_bgcolor": "#E5ECF6",
          "polar": {
           "angularaxis": {
            "gridcolor": "white",
            "linecolor": "white",
            "ticks": ""
           },
           "bgcolor": "#E5ECF6",
           "radialaxis": {
            "gridcolor": "white",
            "linecolor": "white",
            "ticks": ""
           }
          },
          "scene": {
           "xaxis": {
            "backgroundcolor": "#E5ECF6",
            "gridcolor": "white",
            "gridwidth": 2,
            "linecolor": "white",
            "showbackground": true,
            "ticks": "",
            "zerolinecolor": "white"
           },
           "yaxis": {
            "backgroundcolor": "#E5ECF6",
            "gridcolor": "white",
            "gridwidth": 2,
            "linecolor": "white",
            "showbackground": true,
            "ticks": "",
            "zerolinecolor": "white"
           },
           "zaxis": {
            "backgroundcolor": "#E5ECF6",
            "gridcolor": "white",
            "gridwidth": 2,
            "linecolor": "white",
            "showbackground": true,
            "ticks": "",
            "zerolinecolor": "white"
           }
          },
          "shapedefaults": {
           "line": {
            "color": "#2a3f5f"
           }
          },
          "ternary": {
           "aaxis": {
            "gridcolor": "white",
            "linecolor": "white",
            "ticks": ""
           },
           "baxis": {
            "gridcolor": "white",
            "linecolor": "white",
            "ticks": ""
           },
           "bgcolor": "#E5ECF6",
           "caxis": {
            "gridcolor": "white",
            "linecolor": "white",
            "ticks": ""
           }
          },
          "title": {
           "x": 0.05
          },
          "xaxis": {
           "automargin": true,
           "gridcolor": "white",
           "linecolor": "white",
           "ticks": "",
           "title": {
            "standoff": 15
           },
           "zerolinecolor": "white",
           "zerolinewidth": 2
          },
          "yaxis": {
           "automargin": true,
           "gridcolor": "white",
           "linecolor": "white",
           "ticks": "",
           "title": {
            "standoff": 15
           },
           "zerolinecolor": "white",
           "zerolinewidth": 2
          }
         }
        }
       }
      },
      "text/html": [
       "<div>                            <div id=\"4bac4e97-ac90-4b77-8946-ad654eddde23\" class=\"plotly-graph-div\" style=\"height:525px; width:100%;\"></div>            <script type=\"text/javascript\">                require([\"plotly\"], function(Plotly) {                    window.PLOTLYENV=window.PLOTLYENV || {};                                    if (document.getElementById(\"4bac4e97-ac90-4b77-8946-ad654eddde23\")) {                    Plotly.newPlot(                        \"4bac4e97-ac90-4b77-8946-ad654eddde23\",                        [{\"branchvalues\":\"total\",\"domain\":{\"x\":[0.0,1.0],\"y\":[0.0,1.0]},\"hovertemplate\":\"labels=%{label}<br>count=%{value}<br>parent=%{parent}<br>id=%{id}<extra></extra>\",\"ids\":[\"3-5 times a week\",\"4-6 times a month\",\"Daily \",\"Rarely\"],\"labels\":[\"3-5 times a week\",\"4-6 times a month\",\"Daily \",\"Rarely\"],\"name\":\"\",\"parents\":[\"\",\"\",\"\",\"\"],\"values\":[3,2,2,3],\"type\":\"sunburst\"}],                        {\"template\":{\"data\":{\"histogram2dcontour\":[{\"type\":\"histogram2dcontour\",\"colorbar\":{\"outlinewidth\":0,\"ticks\":\"\"},\"colorscale\":[[0.0,\"#0d0887\"],[0.1111111111111111,\"#46039f\"],[0.2222222222222222,\"#7201a8\"],[0.3333333333333333,\"#9c179e\"],[0.4444444444444444,\"#bd3786\"],[0.5555555555555556,\"#d8576b\"],[0.6666666666666666,\"#ed7953\"],[0.7777777777777778,\"#fb9f3a\"],[0.8888888888888888,\"#fdca26\"],[1.0,\"#f0f921\"]]}],\"choropleth\":[{\"type\":\"choropleth\",\"colorbar\":{\"outlinewidth\":0,\"ticks\":\"\"}}],\"histogram2d\":[{\"type\":\"histogram2d\",\"colorbar\":{\"outlinewidth\":0,\"ticks\":\"\"},\"colorscale\":[[0.0,\"#0d0887\"],[0.1111111111111111,\"#46039f\"],[0.2222222222222222,\"#7201a8\"],[0.3333333333333333,\"#9c179e\"],[0.4444444444444444,\"#bd3786\"],[0.5555555555555556,\"#d8576b\"],[0.6666666666666666,\"#ed7953\"],[0.7777777777777778,\"#fb9f3a\"],[0.8888888888888888,\"#fdca26\"],[1.0,\"#f0f921\"]]}],\"heatmap\":[{\"type\":\"heatmap\",\"colorbar\":{\"outlinewidth\":0,\"ticks\":\"\"},\"colorscale\":[[0.0,\"#0d0887\"],[0.1111111111111111,\"#46039f\"],[0.2222222222222222,\"#7201a8\"],[0.3333333333333333,\"#9c179e\"],[0.4444444444444444,\"#bd3786\"],[0.5555555555555556,\"#d8576b\"],[0.6666666666666666,\"#ed7953\"],[0.7777777777777778,\"#fb9f3a\"],[0.8888888888888888,\"#fdca26\"],[1.0,\"#f0f921\"]]}],\"heatmapgl\":[{\"type\":\"heatmapgl\",\"colorbar\":{\"outlinewidth\":0,\"ticks\":\"\"},\"colorscale\":[[0.0,\"#0d0887\"],[0.1111111111111111,\"#46039f\"],[0.2222222222222222,\"#7201a8\"],[0.3333333333333333,\"#9c179e\"],[0.4444444444444444,\"#bd3786\"],[0.5555555555555556,\"#d8576b\"],[0.6666666666666666,\"#ed7953\"],[0.7777777777777778,\"#fb9f3a\"],[0.8888888888888888,\"#fdca26\"],[1.0,\"#f0f921\"]]}],\"contourcarpet\":[{\"type\":\"contourcarpet\",\"colorbar\":{\"outlinewidth\":0,\"ticks\":\"\"}}],\"contour\":[{\"type\":\"contour\",\"colorbar\":{\"outlinewidth\":0,\"ticks\":\"\"},\"colorscale\":[[0.0,\"#0d0887\"],[0.1111111111111111,\"#46039f\"],[0.2222222222222222,\"#7201a8\"],[0.3333333333333333,\"#9c179e\"],[0.4444444444444444,\"#bd3786\"],[0.5555555555555556,\"#d8576b\"],[0.6666666666666666,\"#ed7953\"],[0.7777777777777778,\"#fb9f3a\"],[0.8888888888888888,\"#fdca26\"],[1.0,\"#f0f921\"]]}],\"surface\":[{\"type\":\"surface\",\"colorbar\":{\"outlinewidth\":0,\"ticks\":\"\"},\"colorscale\":[[0.0,\"#0d0887\"],[0.1111111111111111,\"#46039f\"],[0.2222222222222222,\"#7201a8\"],[0.3333333333333333,\"#9c179e\"],[0.4444444444444444,\"#bd3786\"],[0.5555555555555556,\"#d8576b\"],[0.6666666666666666,\"#ed7953\"],[0.7777777777777778,\"#fb9f3a\"],[0.8888888888888888,\"#fdca26\"],[1.0,\"#f0f921\"]]}],\"mesh3d\":[{\"type\":\"mesh3d\",\"colorbar\":{\"outlinewidth\":0,\"ticks\":\"\"}}],\"scatter\":[{\"fillpattern\":{\"fillmode\":\"overlay\",\"size\":10,\"solidity\":0.2},\"type\":\"scatter\"}],\"parcoords\":[{\"type\":\"parcoords\",\"line\":{\"colorbar\":{\"outlinewidth\":0,\"ticks\":\"\"}}}],\"scatterpolargl\":[{\"type\":\"scatterpolargl\",\"marker\":{\"colorbar\":{\"outlinewidth\":0,\"ticks\":\"\"}}}],\"bar\":[{\"error_x\":{\"color\":\"#2a3f5f\"},\"error_y\":{\"color\":\"#2a3f5f\"},\"marker\":{\"line\":{\"color\":\"#E5ECF6\",\"width\":0.5},\"pattern\":{\"fillmode\":\"overlay\",\"size\":10,\"solidity\":0.2}},\"type\":\"bar\"}],\"scattergeo\":[{\"type\":\"scattergeo\",\"marker\":{\"colorbar\":{\"outlinewidth\":0,\"ticks\":\"\"}}}],\"scatterpolar\":[{\"type\":\"scatterpolar\",\"marker\":{\"colorbar\":{\"outlinewidth\":0,\"ticks\":\"\"}}}],\"histogram\":[{\"marker\":{\"pattern\":{\"fillmode\":\"overlay\",\"size\":10,\"solidity\":0.2}},\"type\":\"histogram\"}],\"scattergl\":[{\"type\":\"scattergl\",\"marker\":{\"colorbar\":{\"outlinewidth\":0,\"ticks\":\"\"}}}],\"scatter3d\":[{\"type\":\"scatter3d\",\"line\":{\"colorbar\":{\"outlinewidth\":0,\"ticks\":\"\"}},\"marker\":{\"colorbar\":{\"outlinewidth\":0,\"ticks\":\"\"}}}],\"scattermapbox\":[{\"type\":\"scattermapbox\",\"marker\":{\"colorbar\":{\"outlinewidth\":0,\"ticks\":\"\"}}}],\"scatterternary\":[{\"type\":\"scatterternary\",\"marker\":{\"colorbar\":{\"outlinewidth\":0,\"ticks\":\"\"}}}],\"scattercarpet\":[{\"type\":\"scattercarpet\",\"marker\":{\"colorbar\":{\"outlinewidth\":0,\"ticks\":\"\"}}}],\"carpet\":[{\"aaxis\":{\"endlinecolor\":\"#2a3f5f\",\"gridcolor\":\"white\",\"linecolor\":\"white\",\"minorgridcolor\":\"white\",\"startlinecolor\":\"#2a3f5f\"},\"baxis\":{\"endlinecolor\":\"#2a3f5f\",\"gridcolor\":\"white\",\"linecolor\":\"white\",\"minorgridcolor\":\"white\",\"startlinecolor\":\"#2a3f5f\"},\"type\":\"carpet\"}],\"table\":[{\"cells\":{\"fill\":{\"color\":\"#EBF0F8\"},\"line\":{\"color\":\"white\"}},\"header\":{\"fill\":{\"color\":\"#C8D4E3\"},\"line\":{\"color\":\"white\"}},\"type\":\"table\"}],\"barpolar\":[{\"marker\":{\"line\":{\"color\":\"#E5ECF6\",\"width\":0.5},\"pattern\":{\"fillmode\":\"overlay\",\"size\":10,\"solidity\":0.2}},\"type\":\"barpolar\"}],\"pie\":[{\"automargin\":true,\"type\":\"pie\"}]},\"layout\":{\"autotypenumbers\":\"strict\",\"colorway\":[\"#636efa\",\"#EF553B\",\"#00cc96\",\"#ab63fa\",\"#FFA15A\",\"#19d3f3\",\"#FF6692\",\"#B6E880\",\"#FF97FF\",\"#FECB52\"],\"font\":{\"color\":\"#2a3f5f\"},\"hovermode\":\"closest\",\"hoverlabel\":{\"align\":\"left\"},\"paper_bgcolor\":\"white\",\"plot_bgcolor\":\"#E5ECF6\",\"polar\":{\"bgcolor\":\"#E5ECF6\",\"angularaxis\":{\"gridcolor\":\"white\",\"linecolor\":\"white\",\"ticks\":\"\"},\"radialaxis\":{\"gridcolor\":\"white\",\"linecolor\":\"white\",\"ticks\":\"\"}},\"ternary\":{\"bgcolor\":\"#E5ECF6\",\"aaxis\":{\"gridcolor\":\"white\",\"linecolor\":\"white\",\"ticks\":\"\"},\"baxis\":{\"gridcolor\":\"white\",\"linecolor\":\"white\",\"ticks\":\"\"},\"caxis\":{\"gridcolor\":\"white\",\"linecolor\":\"white\",\"ticks\":\"\"}},\"coloraxis\":{\"colorbar\":{\"outlinewidth\":0,\"ticks\":\"\"}},\"colorscale\":{\"sequential\":[[0.0,\"#0d0887\"],[0.1111111111111111,\"#46039f\"],[0.2222222222222222,\"#7201a8\"],[0.3333333333333333,\"#9c179e\"],[0.4444444444444444,\"#bd3786\"],[0.5555555555555556,\"#d8576b\"],[0.6666666666666666,\"#ed7953\"],[0.7777777777777778,\"#fb9f3a\"],[0.8888888888888888,\"#fdca26\"],[1.0,\"#f0f921\"]],\"sequentialminus\":[[0.0,\"#0d0887\"],[0.1111111111111111,\"#46039f\"],[0.2222222222222222,\"#7201a8\"],[0.3333333333333333,\"#9c179e\"],[0.4444444444444444,\"#bd3786\"],[0.5555555555555556,\"#d8576b\"],[0.6666666666666666,\"#ed7953\"],[0.7777777777777778,\"#fb9f3a\"],[0.8888888888888888,\"#fdca26\"],[1.0,\"#f0f921\"]],\"diverging\":[[0,\"#8e0152\"],[0.1,\"#c51b7d\"],[0.2,\"#de77ae\"],[0.3,\"#f1b6da\"],[0.4,\"#fde0ef\"],[0.5,\"#f7f7f7\"],[0.6,\"#e6f5d0\"],[0.7,\"#b8e186\"],[0.8,\"#7fbc41\"],[0.9,\"#4d9221\"],[1,\"#276419\"]]},\"xaxis\":{\"gridcolor\":\"white\",\"linecolor\":\"white\",\"ticks\":\"\",\"title\":{\"standoff\":15},\"zerolinecolor\":\"white\",\"automargin\":true,\"zerolinewidth\":2},\"yaxis\":{\"gridcolor\":\"white\",\"linecolor\":\"white\",\"ticks\":\"\",\"title\":{\"standoff\":15},\"zerolinecolor\":\"white\",\"automargin\":true,\"zerolinewidth\":2},\"scene\":{\"xaxis\":{\"backgroundcolor\":\"#E5ECF6\",\"gridcolor\":\"white\",\"linecolor\":\"white\",\"showbackground\":true,\"ticks\":\"\",\"zerolinecolor\":\"white\",\"gridwidth\":2},\"yaxis\":{\"backgroundcolor\":\"#E5ECF6\",\"gridcolor\":\"white\",\"linecolor\":\"white\",\"showbackground\":true,\"ticks\":\"\",\"zerolinecolor\":\"white\",\"gridwidth\":2},\"zaxis\":{\"backgroundcolor\":\"#E5ECF6\",\"gridcolor\":\"white\",\"linecolor\":\"white\",\"showbackground\":true,\"ticks\":\"\",\"zerolinecolor\":\"white\",\"gridwidth\":2}},\"shapedefaults\":{\"line\":{\"color\":\"#2a3f5f\"}},\"annotationdefaults\":{\"arrowcolor\":\"#2a3f5f\",\"arrowhead\":0,\"arrowwidth\":1},\"geo\":{\"bgcolor\":\"white\",\"landcolor\":\"#E5ECF6\",\"subunitcolor\":\"white\",\"showland\":true,\"showlakes\":true,\"lakecolor\":\"white\"},\"title\":{\"x\":0.05},\"mapbox\":{\"style\":\"light\"}}},\"legend\":{\"tracegroupgap\":0},\"margin\":{\"t\":60}},                        {\"responsive\": true}                    ).then(function(){\n",
       "                            \n",
       "var gd = document.getElementById('4bac4e97-ac90-4b77-8946-ad654eddde23');\n",
       "var x = new MutationObserver(function (mutations, observer) {{\n",
       "        var display = window.getComputedStyle(gd).display;\n",
       "        if (!display || display === 'none') {{\n",
       "            console.log([gd, 'removed!']);\n",
       "            Plotly.purge(gd);\n",
       "            observer.disconnect();\n",
       "        }}\n",
       "}});\n",
       "\n",
       "// Listen for the removal of the full notebook cells\n",
       "var notebookContainer = gd.closest('#notebook-container');\n",
       "if (notebookContainer) {{\n",
       "    x.observe(notebookContainer, {childList: true});\n",
       "}}\n",
       "\n",
       "// Listen for the clearing of the current output cell\n",
       "var outputEl = gd.closest('.output');\n",
       "if (outputEl) {{\n",
       "    x.observe(outputEl, {childList: true});\n",
       "}}\n",
       "\n",
       "                        })                };                });            </script>        </div>"
      ]
     },
     "metadata": {},
     "output_type": "display_data"
    }
   ],
   "source": [
    "import plotly.express as px \n",
    "top_rated=df[0:10]\n",
    "fig =px.sunburst(\n",
    "    top_rated,\n",
    "    path=['Often_Use'])\n",
    "fig.show()"
   ]
  },
  {
   "cell_type": "code",
   "execution_count": 110,
   "id": "f6f9c66e",
   "metadata": {},
   "outputs": [
    {
     "data": {
      "text/plain": [
       "Action & Adventure, Comedies                             25\n",
       "Documentaries, Horror, Thriller, Comedies                10\n",
       "Sci-fi & Fantasy, Comedies, Dramas                        9\n",
       "Sports, Children & Family, Dramas                         9\n",
       "Anime, Sci-Fi & Fantasy, Action & Adventure               7\n",
       "Sci-Fi & Fantasy, Sports, Comedies, Dramas                6\n",
       "Comedies, Classic, Romantic, Sci-Fi & Fantasy, Horror     5\n",
       "Romantic, Anime, Classic                                  4\n",
       "Horror, Documentaries                                     4\n",
       "Comedies                                                  2\n",
       "Romance                                                   2\n",
       "Sports, Comedies                                          2\n",
       "Sci-Fi & Fantasy, Horror                                  2\n",
       "Romantic, Anime, Classic, Action & Adventure              2\n",
       "Anime, Action & Adventure                                 1\n",
       "Comedies, Romance                                         1\n",
       "Documentaries, Romance                                    1\n",
       "Documentaries                                             1\n",
       "Drama, Romantic                                           1\n",
       "Romantic, Comedies, Drama                                 1\n",
       "Sports, Action & Adventure                                1\n",
       "Dramas, Romantic                                          1\n",
       "Romantic, Comedies                                        1\n",
       "Sports                                                    1\n",
       "Anime, Sci-Fi & Fantasy                                   1\n",
       "Name: Fav_Genres, dtype: int64"
      ]
     },
     "execution_count": 110,
     "metadata": {},
     "output_type": "execute_result"
    }
   ],
   "source": [
    "df['Fav_Genres'].value_counts()"
   ]
  },
  {
   "cell_type": "code",
   "execution_count": 111,
   "id": "f5741154",
   "metadata": {},
   "outputs": [
    {
     "data": {
      "application/vnd.plotly.v1+json": {
       "config": {
        "plotlyServerURL": "https://plot.ly"
       },
       "data": [
        {
         "branchvalues": "total",
         "domain": {
          "x": [
           0,
           1
          ],
          "y": [
           0,
           1
          ]
         },
         "hovertemplate": "labels=%{label}<br>count=%{value}<br>parent=%{parent}<br>id=%{id}<extra></extra>",
         "ids": [
          "Action & Adventure, Comedies",
          "Anime, Sci-Fi & Fantasy, Action & Adventure ",
          "Documentaries, Horror, Thriller, Comedies",
          "Romantic, Anime, Classic",
          "Romantic, Anime, Classic, Action & Adventure ",
          "Sci-Fi & Fantasy, Sports, Comedies, Dramas",
          "Sci-fi & Fantasy, Comedies, Dramas",
          "Sports, Children & Family, Dramas"
         ],
         "labels": [
          "Action & Adventure, Comedies",
          "Anime, Sci-Fi & Fantasy, Action & Adventure ",
          "Documentaries, Horror, Thriller, Comedies",
          "Romantic, Anime, Classic",
          "Romantic, Anime, Classic, Action & Adventure ",
          "Sci-Fi & Fantasy, Sports, Comedies, Dramas",
          "Sci-fi & Fantasy, Comedies, Dramas",
          "Sports, Children & Family, Dramas"
         ],
         "name": "",
         "parents": [
          "",
          "",
          "",
          "",
          "",
          "",
          "",
          ""
         ],
         "type": "sunburst",
         "values": [
          3,
          1,
          1,
          1,
          1,
          1,
          1,
          1
         ]
        }
       ],
       "layout": {
        "legend": {
         "tracegroupgap": 0
        },
        "margin": {
         "t": 60
        },
        "template": {
         "data": {
          "bar": [
           {
            "error_x": {
             "color": "#2a3f5f"
            },
            "error_y": {
             "color": "#2a3f5f"
            },
            "marker": {
             "line": {
              "color": "#E5ECF6",
              "width": 0.5
             },
             "pattern": {
              "fillmode": "overlay",
              "size": 10,
              "solidity": 0.2
             }
            },
            "type": "bar"
           }
          ],
          "barpolar": [
           {
            "marker": {
             "line": {
              "color": "#E5ECF6",
              "width": 0.5
             },
             "pattern": {
              "fillmode": "overlay",
              "size": 10,
              "solidity": 0.2
             }
            },
            "type": "barpolar"
           }
          ],
          "carpet": [
           {
            "aaxis": {
             "endlinecolor": "#2a3f5f",
             "gridcolor": "white",
             "linecolor": "white",
             "minorgridcolor": "white",
             "startlinecolor": "#2a3f5f"
            },
            "baxis": {
             "endlinecolor": "#2a3f5f",
             "gridcolor": "white",
             "linecolor": "white",
             "minorgridcolor": "white",
             "startlinecolor": "#2a3f5f"
            },
            "type": "carpet"
           }
          ],
          "choropleth": [
           {
            "colorbar": {
             "outlinewidth": 0,
             "ticks": ""
            },
            "type": "choropleth"
           }
          ],
          "contour": [
           {
            "colorbar": {
             "outlinewidth": 0,
             "ticks": ""
            },
            "colorscale": [
             [
              0,
              "#0d0887"
             ],
             [
              0.1111111111111111,
              "#46039f"
             ],
             [
              0.2222222222222222,
              "#7201a8"
             ],
             [
              0.3333333333333333,
              "#9c179e"
             ],
             [
              0.4444444444444444,
              "#bd3786"
             ],
             [
              0.5555555555555556,
              "#d8576b"
             ],
             [
              0.6666666666666666,
              "#ed7953"
             ],
             [
              0.7777777777777778,
              "#fb9f3a"
             ],
             [
              0.8888888888888888,
              "#fdca26"
             ],
             [
              1,
              "#f0f921"
             ]
            ],
            "type": "contour"
           }
          ],
          "contourcarpet": [
           {
            "colorbar": {
             "outlinewidth": 0,
             "ticks": ""
            },
            "type": "contourcarpet"
           }
          ],
          "heatmap": [
           {
            "colorbar": {
             "outlinewidth": 0,
             "ticks": ""
            },
            "colorscale": [
             [
              0,
              "#0d0887"
             ],
             [
              0.1111111111111111,
              "#46039f"
             ],
             [
              0.2222222222222222,
              "#7201a8"
             ],
             [
              0.3333333333333333,
              "#9c179e"
             ],
             [
              0.4444444444444444,
              "#bd3786"
             ],
             [
              0.5555555555555556,
              "#d8576b"
             ],
             [
              0.6666666666666666,
              "#ed7953"
             ],
             [
              0.7777777777777778,
              "#fb9f3a"
             ],
             [
              0.8888888888888888,
              "#fdca26"
             ],
             [
              1,
              "#f0f921"
             ]
            ],
            "type": "heatmap"
           }
          ],
          "heatmapgl": [
           {
            "colorbar": {
             "outlinewidth": 0,
             "ticks": ""
            },
            "colorscale": [
             [
              0,
              "#0d0887"
             ],
             [
              0.1111111111111111,
              "#46039f"
             ],
             [
              0.2222222222222222,
              "#7201a8"
             ],
             [
              0.3333333333333333,
              "#9c179e"
             ],
             [
              0.4444444444444444,
              "#bd3786"
             ],
             [
              0.5555555555555556,
              "#d8576b"
             ],
             [
              0.6666666666666666,
              "#ed7953"
             ],
             [
              0.7777777777777778,
              "#fb9f3a"
             ],
             [
              0.8888888888888888,
              "#fdca26"
             ],
             [
              1,
              "#f0f921"
             ]
            ],
            "type": "heatmapgl"
           }
          ],
          "histogram": [
           {
            "marker": {
             "pattern": {
              "fillmode": "overlay",
              "size": 10,
              "solidity": 0.2
             }
            },
            "type": "histogram"
           }
          ],
          "histogram2d": [
           {
            "colorbar": {
             "outlinewidth": 0,
             "ticks": ""
            },
            "colorscale": [
             [
              0,
              "#0d0887"
             ],
             [
              0.1111111111111111,
              "#46039f"
             ],
             [
              0.2222222222222222,
              "#7201a8"
             ],
             [
              0.3333333333333333,
              "#9c179e"
             ],
             [
              0.4444444444444444,
              "#bd3786"
             ],
             [
              0.5555555555555556,
              "#d8576b"
             ],
             [
              0.6666666666666666,
              "#ed7953"
             ],
             [
              0.7777777777777778,
              "#fb9f3a"
             ],
             [
              0.8888888888888888,
              "#fdca26"
             ],
             [
              1,
              "#f0f921"
             ]
            ],
            "type": "histogram2d"
           }
          ],
          "histogram2dcontour": [
           {
            "colorbar": {
             "outlinewidth": 0,
             "ticks": ""
            },
            "colorscale": [
             [
              0,
              "#0d0887"
             ],
             [
              0.1111111111111111,
              "#46039f"
             ],
             [
              0.2222222222222222,
              "#7201a8"
             ],
             [
              0.3333333333333333,
              "#9c179e"
             ],
             [
              0.4444444444444444,
              "#bd3786"
             ],
             [
              0.5555555555555556,
              "#d8576b"
             ],
             [
              0.6666666666666666,
              "#ed7953"
             ],
             [
              0.7777777777777778,
              "#fb9f3a"
             ],
             [
              0.8888888888888888,
              "#fdca26"
             ],
             [
              1,
              "#f0f921"
             ]
            ],
            "type": "histogram2dcontour"
           }
          ],
          "mesh3d": [
           {
            "colorbar": {
             "outlinewidth": 0,
             "ticks": ""
            },
            "type": "mesh3d"
           }
          ],
          "parcoords": [
           {
            "line": {
             "colorbar": {
              "outlinewidth": 0,
              "ticks": ""
             }
            },
            "type": "parcoords"
           }
          ],
          "pie": [
           {
            "automargin": true,
            "type": "pie"
           }
          ],
          "scatter": [
           {
            "fillpattern": {
             "fillmode": "overlay",
             "size": 10,
             "solidity": 0.2
            },
            "type": "scatter"
           }
          ],
          "scatter3d": [
           {
            "line": {
             "colorbar": {
              "outlinewidth": 0,
              "ticks": ""
             }
            },
            "marker": {
             "colorbar": {
              "outlinewidth": 0,
              "ticks": ""
             }
            },
            "type": "scatter3d"
           }
          ],
          "scattercarpet": [
           {
            "marker": {
             "colorbar": {
              "outlinewidth": 0,
              "ticks": ""
             }
            },
            "type": "scattercarpet"
           }
          ],
          "scattergeo": [
           {
            "marker": {
             "colorbar": {
              "outlinewidth": 0,
              "ticks": ""
             }
            },
            "type": "scattergeo"
           }
          ],
          "scattergl": [
           {
            "marker": {
             "colorbar": {
              "outlinewidth": 0,
              "ticks": ""
             }
            },
            "type": "scattergl"
           }
          ],
          "scattermapbox": [
           {
            "marker": {
             "colorbar": {
              "outlinewidth": 0,
              "ticks": ""
             }
            },
            "type": "scattermapbox"
           }
          ],
          "scatterpolar": [
           {
            "marker": {
             "colorbar": {
              "outlinewidth": 0,
              "ticks": ""
             }
            },
            "type": "scatterpolar"
           }
          ],
          "scatterpolargl": [
           {
            "marker": {
             "colorbar": {
              "outlinewidth": 0,
              "ticks": ""
             }
            },
            "type": "scatterpolargl"
           }
          ],
          "scatterternary": [
           {
            "marker": {
             "colorbar": {
              "outlinewidth": 0,
              "ticks": ""
             }
            },
            "type": "scatterternary"
           }
          ],
          "surface": [
           {
            "colorbar": {
             "outlinewidth": 0,
             "ticks": ""
            },
            "colorscale": [
             [
              0,
              "#0d0887"
             ],
             [
              0.1111111111111111,
              "#46039f"
             ],
             [
              0.2222222222222222,
              "#7201a8"
             ],
             [
              0.3333333333333333,
              "#9c179e"
             ],
             [
              0.4444444444444444,
              "#bd3786"
             ],
             [
              0.5555555555555556,
              "#d8576b"
             ],
             [
              0.6666666666666666,
              "#ed7953"
             ],
             [
              0.7777777777777778,
              "#fb9f3a"
             ],
             [
              0.8888888888888888,
              "#fdca26"
             ],
             [
              1,
              "#f0f921"
             ]
            ],
            "type": "surface"
           }
          ],
          "table": [
           {
            "cells": {
             "fill": {
              "color": "#EBF0F8"
             },
             "line": {
              "color": "white"
             }
            },
            "header": {
             "fill": {
              "color": "#C8D4E3"
             },
             "line": {
              "color": "white"
             }
            },
            "type": "table"
           }
          ]
         },
         "layout": {
          "annotationdefaults": {
           "arrowcolor": "#2a3f5f",
           "arrowhead": 0,
           "arrowwidth": 1
          },
          "autotypenumbers": "strict",
          "coloraxis": {
           "colorbar": {
            "outlinewidth": 0,
            "ticks": ""
           }
          },
          "colorscale": {
           "diverging": [
            [
             0,
             "#8e0152"
            ],
            [
             0.1,
             "#c51b7d"
            ],
            [
             0.2,
             "#de77ae"
            ],
            [
             0.3,
             "#f1b6da"
            ],
            [
             0.4,
             "#fde0ef"
            ],
            [
             0.5,
             "#f7f7f7"
            ],
            [
             0.6,
             "#e6f5d0"
            ],
            [
             0.7,
             "#b8e186"
            ],
            [
             0.8,
             "#7fbc41"
            ],
            [
             0.9,
             "#4d9221"
            ],
            [
             1,
             "#276419"
            ]
           ],
           "sequential": [
            [
             0,
             "#0d0887"
            ],
            [
             0.1111111111111111,
             "#46039f"
            ],
            [
             0.2222222222222222,
             "#7201a8"
            ],
            [
             0.3333333333333333,
             "#9c179e"
            ],
            [
             0.4444444444444444,
             "#bd3786"
            ],
            [
             0.5555555555555556,
             "#d8576b"
            ],
            [
             0.6666666666666666,
             "#ed7953"
            ],
            [
             0.7777777777777778,
             "#fb9f3a"
            ],
            [
             0.8888888888888888,
             "#fdca26"
            ],
            [
             1,
             "#f0f921"
            ]
           ],
           "sequentialminus": [
            [
             0,
             "#0d0887"
            ],
            [
             0.1111111111111111,
             "#46039f"
            ],
            [
             0.2222222222222222,
             "#7201a8"
            ],
            [
             0.3333333333333333,
             "#9c179e"
            ],
            [
             0.4444444444444444,
             "#bd3786"
            ],
            [
             0.5555555555555556,
             "#d8576b"
            ],
            [
             0.6666666666666666,
             "#ed7953"
            ],
            [
             0.7777777777777778,
             "#fb9f3a"
            ],
            [
             0.8888888888888888,
             "#fdca26"
            ],
            [
             1,
             "#f0f921"
            ]
           ]
          },
          "colorway": [
           "#636efa",
           "#EF553B",
           "#00cc96",
           "#ab63fa",
           "#FFA15A",
           "#19d3f3",
           "#FF6692",
           "#B6E880",
           "#FF97FF",
           "#FECB52"
          ],
          "font": {
           "color": "#2a3f5f"
          },
          "geo": {
           "bgcolor": "white",
           "lakecolor": "white",
           "landcolor": "#E5ECF6",
           "showlakes": true,
           "showland": true,
           "subunitcolor": "white"
          },
          "hoverlabel": {
           "align": "left"
          },
          "hovermode": "closest",
          "mapbox": {
           "style": "light"
          },
          "paper_bgcolor": "white",
          "plot_bgcolor": "#E5ECF6",
          "polar": {
           "angularaxis": {
            "gridcolor": "white",
            "linecolor": "white",
            "ticks": ""
           },
           "bgcolor": "#E5ECF6",
           "radialaxis": {
            "gridcolor": "white",
            "linecolor": "white",
            "ticks": ""
           }
          },
          "scene": {
           "xaxis": {
            "backgroundcolor": "#E5ECF6",
            "gridcolor": "white",
            "gridwidth": 2,
            "linecolor": "white",
            "showbackground": true,
            "ticks": "",
            "zerolinecolor": "white"
           },
           "yaxis": {
            "backgroundcolor": "#E5ECF6",
            "gridcolor": "white",
            "gridwidth": 2,
            "linecolor": "white",
            "showbackground": true,
            "ticks": "",
            "zerolinecolor": "white"
           },
           "zaxis": {
            "backgroundcolor": "#E5ECF6",
            "gridcolor": "white",
            "gridwidth": 2,
            "linecolor": "white",
            "showbackground": true,
            "ticks": "",
            "zerolinecolor": "white"
           }
          },
          "shapedefaults": {
           "line": {
            "color": "#2a3f5f"
           }
          },
          "ternary": {
           "aaxis": {
            "gridcolor": "white",
            "linecolor": "white",
            "ticks": ""
           },
           "baxis": {
            "gridcolor": "white",
            "linecolor": "white",
            "ticks": ""
           },
           "bgcolor": "#E5ECF6",
           "caxis": {
            "gridcolor": "white",
            "linecolor": "white",
            "ticks": ""
           }
          },
          "title": {
           "x": 0.05
          },
          "xaxis": {
           "automargin": true,
           "gridcolor": "white",
           "linecolor": "white",
           "ticks": "",
           "title": {
            "standoff": 15
           },
           "zerolinecolor": "white",
           "zerolinewidth": 2
          },
          "yaxis": {
           "automargin": true,
           "gridcolor": "white",
           "linecolor": "white",
           "ticks": "",
           "title": {
            "standoff": 15
           },
           "zerolinecolor": "white",
           "zerolinewidth": 2
          }
         }
        }
       }
      },
      "text/html": [
       "<div>                            <div id=\"b4a6b78f-a4ba-4c26-844d-dbf268b1abb6\" class=\"plotly-graph-div\" style=\"height:525px; width:100%;\"></div>            <script type=\"text/javascript\">                require([\"plotly\"], function(Plotly) {                    window.PLOTLYENV=window.PLOTLYENV || {};                                    if (document.getElementById(\"b4a6b78f-a4ba-4c26-844d-dbf268b1abb6\")) {                    Plotly.newPlot(                        \"b4a6b78f-a4ba-4c26-844d-dbf268b1abb6\",                        [{\"branchvalues\":\"total\",\"domain\":{\"x\":[0.0,1.0],\"y\":[0.0,1.0]},\"hovertemplate\":\"labels=%{label}<br>count=%{value}<br>parent=%{parent}<br>id=%{id}<extra></extra>\",\"ids\":[\"Action & Adventure, Comedies\",\"Anime, Sci-Fi & Fantasy, Action & Adventure \",\"Documentaries, Horror, Thriller, Comedies\",\"Romantic, Anime, Classic\",\"Romantic, Anime, Classic, Action & Adventure \",\"Sci-Fi & Fantasy, Sports, Comedies, Dramas\",\"Sci-fi & Fantasy, Comedies, Dramas\",\"Sports, Children & Family, Dramas\"],\"labels\":[\"Action & Adventure, Comedies\",\"Anime, Sci-Fi & Fantasy, Action & Adventure \",\"Documentaries, Horror, Thriller, Comedies\",\"Romantic, Anime, Classic\",\"Romantic, Anime, Classic, Action & Adventure \",\"Sci-Fi & Fantasy, Sports, Comedies, Dramas\",\"Sci-fi & Fantasy, Comedies, Dramas\",\"Sports, Children & Family, Dramas\"],\"name\":\"\",\"parents\":[\"\",\"\",\"\",\"\",\"\",\"\",\"\",\"\"],\"values\":[3,1,1,1,1,1,1,1],\"type\":\"sunburst\"}],                        {\"template\":{\"data\":{\"histogram2dcontour\":[{\"type\":\"histogram2dcontour\",\"colorbar\":{\"outlinewidth\":0,\"ticks\":\"\"},\"colorscale\":[[0.0,\"#0d0887\"],[0.1111111111111111,\"#46039f\"],[0.2222222222222222,\"#7201a8\"],[0.3333333333333333,\"#9c179e\"],[0.4444444444444444,\"#bd3786\"],[0.5555555555555556,\"#d8576b\"],[0.6666666666666666,\"#ed7953\"],[0.7777777777777778,\"#fb9f3a\"],[0.8888888888888888,\"#fdca26\"],[1.0,\"#f0f921\"]]}],\"choropleth\":[{\"type\":\"choropleth\",\"colorbar\":{\"outlinewidth\":0,\"ticks\":\"\"}}],\"histogram2d\":[{\"type\":\"histogram2d\",\"colorbar\":{\"outlinewidth\":0,\"ticks\":\"\"},\"colorscale\":[[0.0,\"#0d0887\"],[0.1111111111111111,\"#46039f\"],[0.2222222222222222,\"#7201a8\"],[0.3333333333333333,\"#9c179e\"],[0.4444444444444444,\"#bd3786\"],[0.5555555555555556,\"#d8576b\"],[0.6666666666666666,\"#ed7953\"],[0.7777777777777778,\"#fb9f3a\"],[0.8888888888888888,\"#fdca26\"],[1.0,\"#f0f921\"]]}],\"heatmap\":[{\"type\":\"heatmap\",\"colorbar\":{\"outlinewidth\":0,\"ticks\":\"\"},\"colorscale\":[[0.0,\"#0d0887\"],[0.1111111111111111,\"#46039f\"],[0.2222222222222222,\"#7201a8\"],[0.3333333333333333,\"#9c179e\"],[0.4444444444444444,\"#bd3786\"],[0.5555555555555556,\"#d8576b\"],[0.6666666666666666,\"#ed7953\"],[0.7777777777777778,\"#fb9f3a\"],[0.8888888888888888,\"#fdca26\"],[1.0,\"#f0f921\"]]}],\"heatmapgl\":[{\"type\":\"heatmapgl\",\"colorbar\":{\"outlinewidth\":0,\"ticks\":\"\"},\"colorscale\":[[0.0,\"#0d0887\"],[0.1111111111111111,\"#46039f\"],[0.2222222222222222,\"#7201a8\"],[0.3333333333333333,\"#9c179e\"],[0.4444444444444444,\"#bd3786\"],[0.5555555555555556,\"#d8576b\"],[0.6666666666666666,\"#ed7953\"],[0.7777777777777778,\"#fb9f3a\"],[0.8888888888888888,\"#fdca26\"],[1.0,\"#f0f921\"]]}],\"contourcarpet\":[{\"type\":\"contourcarpet\",\"colorbar\":{\"outlinewidth\":0,\"ticks\":\"\"}}],\"contour\":[{\"type\":\"contour\",\"colorbar\":{\"outlinewidth\":0,\"ticks\":\"\"},\"colorscale\":[[0.0,\"#0d0887\"],[0.1111111111111111,\"#46039f\"],[0.2222222222222222,\"#7201a8\"],[0.3333333333333333,\"#9c179e\"],[0.4444444444444444,\"#bd3786\"],[0.5555555555555556,\"#d8576b\"],[0.6666666666666666,\"#ed7953\"],[0.7777777777777778,\"#fb9f3a\"],[0.8888888888888888,\"#fdca26\"],[1.0,\"#f0f921\"]]}],\"surface\":[{\"type\":\"surface\",\"colorbar\":{\"outlinewidth\":0,\"ticks\":\"\"},\"colorscale\":[[0.0,\"#0d0887\"],[0.1111111111111111,\"#46039f\"],[0.2222222222222222,\"#7201a8\"],[0.3333333333333333,\"#9c179e\"],[0.4444444444444444,\"#bd3786\"],[0.5555555555555556,\"#d8576b\"],[0.6666666666666666,\"#ed7953\"],[0.7777777777777778,\"#fb9f3a\"],[0.8888888888888888,\"#fdca26\"],[1.0,\"#f0f921\"]]}],\"mesh3d\":[{\"type\":\"mesh3d\",\"colorbar\":{\"outlinewidth\":0,\"ticks\":\"\"}}],\"scatter\":[{\"fillpattern\":{\"fillmode\":\"overlay\",\"size\":10,\"solidity\":0.2},\"type\":\"scatter\"}],\"parcoords\":[{\"type\":\"parcoords\",\"line\":{\"colorbar\":{\"outlinewidth\":0,\"ticks\":\"\"}}}],\"scatterpolargl\":[{\"type\":\"scatterpolargl\",\"marker\":{\"colorbar\":{\"outlinewidth\":0,\"ticks\":\"\"}}}],\"bar\":[{\"error_x\":{\"color\":\"#2a3f5f\"},\"error_y\":{\"color\":\"#2a3f5f\"},\"marker\":{\"line\":{\"color\":\"#E5ECF6\",\"width\":0.5},\"pattern\":{\"fillmode\":\"overlay\",\"size\":10,\"solidity\":0.2}},\"type\":\"bar\"}],\"scattergeo\":[{\"type\":\"scattergeo\",\"marker\":{\"colorbar\":{\"outlinewidth\":0,\"ticks\":\"\"}}}],\"scatterpolar\":[{\"type\":\"scatterpolar\",\"marker\":{\"colorbar\":{\"outlinewidth\":0,\"ticks\":\"\"}}}],\"histogram\":[{\"marker\":{\"pattern\":{\"fillmode\":\"overlay\",\"size\":10,\"solidity\":0.2}},\"type\":\"histogram\"}],\"scattergl\":[{\"type\":\"scattergl\",\"marker\":{\"colorbar\":{\"outlinewidth\":0,\"ticks\":\"\"}}}],\"scatter3d\":[{\"type\":\"scatter3d\",\"line\":{\"colorbar\":{\"outlinewidth\":0,\"ticks\":\"\"}},\"marker\":{\"colorbar\":{\"outlinewidth\":0,\"ticks\":\"\"}}}],\"scattermapbox\":[{\"type\":\"scattermapbox\",\"marker\":{\"colorbar\":{\"outlinewidth\":0,\"ticks\":\"\"}}}],\"scatterternary\":[{\"type\":\"scatterternary\",\"marker\":{\"colorbar\":{\"outlinewidth\":0,\"ticks\":\"\"}}}],\"scattercarpet\":[{\"type\":\"scattercarpet\",\"marker\":{\"colorbar\":{\"outlinewidth\":0,\"ticks\":\"\"}}}],\"carpet\":[{\"aaxis\":{\"endlinecolor\":\"#2a3f5f\",\"gridcolor\":\"white\",\"linecolor\":\"white\",\"minorgridcolor\":\"white\",\"startlinecolor\":\"#2a3f5f\"},\"baxis\":{\"endlinecolor\":\"#2a3f5f\",\"gridcolor\":\"white\",\"linecolor\":\"white\",\"minorgridcolor\":\"white\",\"startlinecolor\":\"#2a3f5f\"},\"type\":\"carpet\"}],\"table\":[{\"cells\":{\"fill\":{\"color\":\"#EBF0F8\"},\"line\":{\"color\":\"white\"}},\"header\":{\"fill\":{\"color\":\"#C8D4E3\"},\"line\":{\"color\":\"white\"}},\"type\":\"table\"}],\"barpolar\":[{\"marker\":{\"line\":{\"color\":\"#E5ECF6\",\"width\":0.5},\"pattern\":{\"fillmode\":\"overlay\",\"size\":10,\"solidity\":0.2}},\"type\":\"barpolar\"}],\"pie\":[{\"automargin\":true,\"type\":\"pie\"}]},\"layout\":{\"autotypenumbers\":\"strict\",\"colorway\":[\"#636efa\",\"#EF553B\",\"#00cc96\",\"#ab63fa\",\"#FFA15A\",\"#19d3f3\",\"#FF6692\",\"#B6E880\",\"#FF97FF\",\"#FECB52\"],\"font\":{\"color\":\"#2a3f5f\"},\"hovermode\":\"closest\",\"hoverlabel\":{\"align\":\"left\"},\"paper_bgcolor\":\"white\",\"plot_bgcolor\":\"#E5ECF6\",\"polar\":{\"bgcolor\":\"#E5ECF6\",\"angularaxis\":{\"gridcolor\":\"white\",\"linecolor\":\"white\",\"ticks\":\"\"},\"radialaxis\":{\"gridcolor\":\"white\",\"linecolor\":\"white\",\"ticks\":\"\"}},\"ternary\":{\"bgcolor\":\"#E5ECF6\",\"aaxis\":{\"gridcolor\":\"white\",\"linecolor\":\"white\",\"ticks\":\"\"},\"baxis\":{\"gridcolor\":\"white\",\"linecolor\":\"white\",\"ticks\":\"\"},\"caxis\":{\"gridcolor\":\"white\",\"linecolor\":\"white\",\"ticks\":\"\"}},\"coloraxis\":{\"colorbar\":{\"outlinewidth\":0,\"ticks\":\"\"}},\"colorscale\":{\"sequential\":[[0.0,\"#0d0887\"],[0.1111111111111111,\"#46039f\"],[0.2222222222222222,\"#7201a8\"],[0.3333333333333333,\"#9c179e\"],[0.4444444444444444,\"#bd3786\"],[0.5555555555555556,\"#d8576b\"],[0.6666666666666666,\"#ed7953\"],[0.7777777777777778,\"#fb9f3a\"],[0.8888888888888888,\"#fdca26\"],[1.0,\"#f0f921\"]],\"sequentialminus\":[[0.0,\"#0d0887\"],[0.1111111111111111,\"#46039f\"],[0.2222222222222222,\"#7201a8\"],[0.3333333333333333,\"#9c179e\"],[0.4444444444444444,\"#bd3786\"],[0.5555555555555556,\"#d8576b\"],[0.6666666666666666,\"#ed7953\"],[0.7777777777777778,\"#fb9f3a\"],[0.8888888888888888,\"#fdca26\"],[1.0,\"#f0f921\"]],\"diverging\":[[0,\"#8e0152\"],[0.1,\"#c51b7d\"],[0.2,\"#de77ae\"],[0.3,\"#f1b6da\"],[0.4,\"#fde0ef\"],[0.5,\"#f7f7f7\"],[0.6,\"#e6f5d0\"],[0.7,\"#b8e186\"],[0.8,\"#7fbc41\"],[0.9,\"#4d9221\"],[1,\"#276419\"]]},\"xaxis\":{\"gridcolor\":\"white\",\"linecolor\":\"white\",\"ticks\":\"\",\"title\":{\"standoff\":15},\"zerolinecolor\":\"white\",\"automargin\":true,\"zerolinewidth\":2},\"yaxis\":{\"gridcolor\":\"white\",\"linecolor\":\"white\",\"ticks\":\"\",\"title\":{\"standoff\":15},\"zerolinecolor\":\"white\",\"automargin\":true,\"zerolinewidth\":2},\"scene\":{\"xaxis\":{\"backgroundcolor\":\"#E5ECF6\",\"gridcolor\":\"white\",\"linecolor\":\"white\",\"showbackground\":true,\"ticks\":\"\",\"zerolinecolor\":\"white\",\"gridwidth\":2},\"yaxis\":{\"backgroundcolor\":\"#E5ECF6\",\"gridcolor\":\"white\",\"linecolor\":\"white\",\"showbackground\":true,\"ticks\":\"\",\"zerolinecolor\":\"white\",\"gridwidth\":2},\"zaxis\":{\"backgroundcolor\":\"#E5ECF6\",\"gridcolor\":\"white\",\"linecolor\":\"white\",\"showbackground\":true,\"ticks\":\"\",\"zerolinecolor\":\"white\",\"gridwidth\":2}},\"shapedefaults\":{\"line\":{\"color\":\"#2a3f5f\"}},\"annotationdefaults\":{\"arrowcolor\":\"#2a3f5f\",\"arrowhead\":0,\"arrowwidth\":1},\"geo\":{\"bgcolor\":\"white\",\"landcolor\":\"#E5ECF6\",\"subunitcolor\":\"white\",\"showland\":true,\"showlakes\":true,\"lakecolor\":\"white\"},\"title\":{\"x\":0.05},\"mapbox\":{\"style\":\"light\"}}},\"legend\":{\"tracegroupgap\":0},\"margin\":{\"t\":60}},                        {\"responsive\": true}                    ).then(function(){\n",
       "                            \n",
       "var gd = document.getElementById('b4a6b78f-a4ba-4c26-844d-dbf268b1abb6');\n",
       "var x = new MutationObserver(function (mutations, observer) {{\n",
       "        var display = window.getComputedStyle(gd).display;\n",
       "        if (!display || display === 'none') {{\n",
       "            console.log([gd, 'removed!']);\n",
       "            Plotly.purge(gd);\n",
       "            observer.disconnect();\n",
       "        }}\n",
       "}});\n",
       "\n",
       "// Listen for the removal of the full notebook cells\n",
       "var notebookContainer = gd.closest('#notebook-container');\n",
       "if (notebookContainer) {{\n",
       "    x.observe(notebookContainer, {childList: true});\n",
       "}}\n",
       "\n",
       "// Listen for the clearing of the current output cell\n",
       "var outputEl = gd.closest('.output');\n",
       "if (outputEl) {{\n",
       "    x.observe(outputEl, {childList: true});\n",
       "}}\n",
       "\n",
       "                        })                };                });            </script>        </div>"
      ]
     },
     "metadata": {},
     "output_type": "display_data"
    }
   ],
   "source": [
    "import plotly.express as px \n",
    "top_rated=df[0:10]\n",
    "fig =px.sunburst(\n",
    "    top_rated,\n",
    "    path=['Fav_Genres'])\n",
    "fig.show()"
   ]
  },
  {
   "cell_type": "code",
   "execution_count": 112,
   "id": "30c3eb2a",
   "metadata": {},
   "outputs": [
    {
     "data": {
      "application/vnd.plotly.v1+json": {
       "config": {
        "plotlyServerURL": "https://plot.ly"
       },
       "data": [
        {
         "branchvalues": "total",
         "domain": {
          "x": [
           0,
           1
          ],
          "y": [
           0,
           1
          ]
         },
         "hovertemplate": "labels=%{label}<br>count=%{value}<br>parent=%{parent}<br>id=%{id}<extra></extra>",
         "ids": [
          "2",
          "3",
          "4",
          "5"
         ],
         "labels": [
          "2",
          "3",
          "4",
          "5"
         ],
         "name": "",
         "parents": [
          "",
          "",
          "",
          ""
         ],
         "type": "sunburst",
         "values": [
          2,
          3,
          1,
          4
         ]
        }
       ],
       "layout": {
        "legend": {
         "tracegroupgap": 0
        },
        "margin": {
         "t": 60
        },
        "template": {
         "data": {
          "bar": [
           {
            "error_x": {
             "color": "#2a3f5f"
            },
            "error_y": {
             "color": "#2a3f5f"
            },
            "marker": {
             "line": {
              "color": "#E5ECF6",
              "width": 0.5
             },
             "pattern": {
              "fillmode": "overlay",
              "size": 10,
              "solidity": 0.2
             }
            },
            "type": "bar"
           }
          ],
          "barpolar": [
           {
            "marker": {
             "line": {
              "color": "#E5ECF6",
              "width": 0.5
             },
             "pattern": {
              "fillmode": "overlay",
              "size": 10,
              "solidity": 0.2
             }
            },
            "type": "barpolar"
           }
          ],
          "carpet": [
           {
            "aaxis": {
             "endlinecolor": "#2a3f5f",
             "gridcolor": "white",
             "linecolor": "white",
             "minorgridcolor": "white",
             "startlinecolor": "#2a3f5f"
            },
            "baxis": {
             "endlinecolor": "#2a3f5f",
             "gridcolor": "white",
             "linecolor": "white",
             "minorgridcolor": "white",
             "startlinecolor": "#2a3f5f"
            },
            "type": "carpet"
           }
          ],
          "choropleth": [
           {
            "colorbar": {
             "outlinewidth": 0,
             "ticks": ""
            },
            "type": "choropleth"
           }
          ],
          "contour": [
           {
            "colorbar": {
             "outlinewidth": 0,
             "ticks": ""
            },
            "colorscale": [
             [
              0,
              "#0d0887"
             ],
             [
              0.1111111111111111,
              "#46039f"
             ],
             [
              0.2222222222222222,
              "#7201a8"
             ],
             [
              0.3333333333333333,
              "#9c179e"
             ],
             [
              0.4444444444444444,
              "#bd3786"
             ],
             [
              0.5555555555555556,
              "#d8576b"
             ],
             [
              0.6666666666666666,
              "#ed7953"
             ],
             [
              0.7777777777777778,
              "#fb9f3a"
             ],
             [
              0.8888888888888888,
              "#fdca26"
             ],
             [
              1,
              "#f0f921"
             ]
            ],
            "type": "contour"
           }
          ],
          "contourcarpet": [
           {
            "colorbar": {
             "outlinewidth": 0,
             "ticks": ""
            },
            "type": "contourcarpet"
           }
          ],
          "heatmap": [
           {
            "colorbar": {
             "outlinewidth": 0,
             "ticks": ""
            },
            "colorscale": [
             [
              0,
              "#0d0887"
             ],
             [
              0.1111111111111111,
              "#46039f"
             ],
             [
              0.2222222222222222,
              "#7201a8"
             ],
             [
              0.3333333333333333,
              "#9c179e"
             ],
             [
              0.4444444444444444,
              "#bd3786"
             ],
             [
              0.5555555555555556,
              "#d8576b"
             ],
             [
              0.6666666666666666,
              "#ed7953"
             ],
             [
              0.7777777777777778,
              "#fb9f3a"
             ],
             [
              0.8888888888888888,
              "#fdca26"
             ],
             [
              1,
              "#f0f921"
             ]
            ],
            "type": "heatmap"
           }
          ],
          "heatmapgl": [
           {
            "colorbar": {
             "outlinewidth": 0,
             "ticks": ""
            },
            "colorscale": [
             [
              0,
              "#0d0887"
             ],
             [
              0.1111111111111111,
              "#46039f"
             ],
             [
              0.2222222222222222,
              "#7201a8"
             ],
             [
              0.3333333333333333,
              "#9c179e"
             ],
             [
              0.4444444444444444,
              "#bd3786"
             ],
             [
              0.5555555555555556,
              "#d8576b"
             ],
             [
              0.6666666666666666,
              "#ed7953"
             ],
             [
              0.7777777777777778,
              "#fb9f3a"
             ],
             [
              0.8888888888888888,
              "#fdca26"
             ],
             [
              1,
              "#f0f921"
             ]
            ],
            "type": "heatmapgl"
           }
          ],
          "histogram": [
           {
            "marker": {
             "pattern": {
              "fillmode": "overlay",
              "size": 10,
              "solidity": 0.2
             }
            },
            "type": "histogram"
           }
          ],
          "histogram2d": [
           {
            "colorbar": {
             "outlinewidth": 0,
             "ticks": ""
            },
            "colorscale": [
             [
              0,
              "#0d0887"
             ],
             [
              0.1111111111111111,
              "#46039f"
             ],
             [
              0.2222222222222222,
              "#7201a8"
             ],
             [
              0.3333333333333333,
              "#9c179e"
             ],
             [
              0.4444444444444444,
              "#bd3786"
             ],
             [
              0.5555555555555556,
              "#d8576b"
             ],
             [
              0.6666666666666666,
              "#ed7953"
             ],
             [
              0.7777777777777778,
              "#fb9f3a"
             ],
             [
              0.8888888888888888,
              "#fdca26"
             ],
             [
              1,
              "#f0f921"
             ]
            ],
            "type": "histogram2d"
           }
          ],
          "histogram2dcontour": [
           {
            "colorbar": {
             "outlinewidth": 0,
             "ticks": ""
            },
            "colorscale": [
             [
              0,
              "#0d0887"
             ],
             [
              0.1111111111111111,
              "#46039f"
             ],
             [
              0.2222222222222222,
              "#7201a8"
             ],
             [
              0.3333333333333333,
              "#9c179e"
             ],
             [
              0.4444444444444444,
              "#bd3786"
             ],
             [
              0.5555555555555556,
              "#d8576b"
             ],
             [
              0.6666666666666666,
              "#ed7953"
             ],
             [
              0.7777777777777778,
              "#fb9f3a"
             ],
             [
              0.8888888888888888,
              "#fdca26"
             ],
             [
              1,
              "#f0f921"
             ]
            ],
            "type": "histogram2dcontour"
           }
          ],
          "mesh3d": [
           {
            "colorbar": {
             "outlinewidth": 0,
             "ticks": ""
            },
            "type": "mesh3d"
           }
          ],
          "parcoords": [
           {
            "line": {
             "colorbar": {
              "outlinewidth": 0,
              "ticks": ""
             }
            },
            "type": "parcoords"
           }
          ],
          "pie": [
           {
            "automargin": true,
            "type": "pie"
           }
          ],
          "scatter": [
           {
            "fillpattern": {
             "fillmode": "overlay",
             "size": 10,
             "solidity": 0.2
            },
            "type": "scatter"
           }
          ],
          "scatter3d": [
           {
            "line": {
             "colorbar": {
              "outlinewidth": 0,
              "ticks": ""
             }
            },
            "marker": {
             "colorbar": {
              "outlinewidth": 0,
              "ticks": ""
             }
            },
            "type": "scatter3d"
           }
          ],
          "scattercarpet": [
           {
            "marker": {
             "colorbar": {
              "outlinewidth": 0,
              "ticks": ""
             }
            },
            "type": "scattercarpet"
           }
          ],
          "scattergeo": [
           {
            "marker": {
             "colorbar": {
              "outlinewidth": 0,
              "ticks": ""
             }
            },
            "type": "scattergeo"
           }
          ],
          "scattergl": [
           {
            "marker": {
             "colorbar": {
              "outlinewidth": 0,
              "ticks": ""
             }
            },
            "type": "scattergl"
           }
          ],
          "scattermapbox": [
           {
            "marker": {
             "colorbar": {
              "outlinewidth": 0,
              "ticks": ""
             }
            },
            "type": "scattermapbox"
           }
          ],
          "scatterpolar": [
           {
            "marker": {
             "colorbar": {
              "outlinewidth": 0,
              "ticks": ""
             }
            },
            "type": "scatterpolar"
           }
          ],
          "scatterpolargl": [
           {
            "marker": {
             "colorbar": {
              "outlinewidth": 0,
              "ticks": ""
             }
            },
            "type": "scatterpolargl"
           }
          ],
          "scatterternary": [
           {
            "marker": {
             "colorbar": {
              "outlinewidth": 0,
              "ticks": ""
             }
            },
            "type": "scatterternary"
           }
          ],
          "surface": [
           {
            "colorbar": {
             "outlinewidth": 0,
             "ticks": ""
            },
            "colorscale": [
             [
              0,
              "#0d0887"
             ],
             [
              0.1111111111111111,
              "#46039f"
             ],
             [
              0.2222222222222222,
              "#7201a8"
             ],
             [
              0.3333333333333333,
              "#9c179e"
             ],
             [
              0.4444444444444444,
              "#bd3786"
             ],
             [
              0.5555555555555556,
              "#d8576b"
             ],
             [
              0.6666666666666666,
              "#ed7953"
             ],
             [
              0.7777777777777778,
              "#fb9f3a"
             ],
             [
              0.8888888888888888,
              "#fdca26"
             ],
             [
              1,
              "#f0f921"
             ]
            ],
            "type": "surface"
           }
          ],
          "table": [
           {
            "cells": {
             "fill": {
              "color": "#EBF0F8"
             },
             "line": {
              "color": "white"
             }
            },
            "header": {
             "fill": {
              "color": "#C8D4E3"
             },
             "line": {
              "color": "white"
             }
            },
            "type": "table"
           }
          ]
         },
         "layout": {
          "annotationdefaults": {
           "arrowcolor": "#2a3f5f",
           "arrowhead": 0,
           "arrowwidth": 1
          },
          "autotypenumbers": "strict",
          "coloraxis": {
           "colorbar": {
            "outlinewidth": 0,
            "ticks": ""
           }
          },
          "colorscale": {
           "diverging": [
            [
             0,
             "#8e0152"
            ],
            [
             0.1,
             "#c51b7d"
            ],
            [
             0.2,
             "#de77ae"
            ],
            [
             0.3,
             "#f1b6da"
            ],
            [
             0.4,
             "#fde0ef"
            ],
            [
             0.5,
             "#f7f7f7"
            ],
            [
             0.6,
             "#e6f5d0"
            ],
            [
             0.7,
             "#b8e186"
            ],
            [
             0.8,
             "#7fbc41"
            ],
            [
             0.9,
             "#4d9221"
            ],
            [
             1,
             "#276419"
            ]
           ],
           "sequential": [
            [
             0,
             "#0d0887"
            ],
            [
             0.1111111111111111,
             "#46039f"
            ],
            [
             0.2222222222222222,
             "#7201a8"
            ],
            [
             0.3333333333333333,
             "#9c179e"
            ],
            [
             0.4444444444444444,
             "#bd3786"
            ],
            [
             0.5555555555555556,
             "#d8576b"
            ],
            [
             0.6666666666666666,
             "#ed7953"
            ],
            [
             0.7777777777777778,
             "#fb9f3a"
            ],
            [
             0.8888888888888888,
             "#fdca26"
            ],
            [
             1,
             "#f0f921"
            ]
           ],
           "sequentialminus": [
            [
             0,
             "#0d0887"
            ],
            [
             0.1111111111111111,
             "#46039f"
            ],
            [
             0.2222222222222222,
             "#7201a8"
            ],
            [
             0.3333333333333333,
             "#9c179e"
            ],
            [
             0.4444444444444444,
             "#bd3786"
            ],
            [
             0.5555555555555556,
             "#d8576b"
            ],
            [
             0.6666666666666666,
             "#ed7953"
            ],
            [
             0.7777777777777778,
             "#fb9f3a"
            ],
            [
             0.8888888888888888,
             "#fdca26"
            ],
            [
             1,
             "#f0f921"
            ]
           ]
          },
          "colorway": [
           "#636efa",
           "#EF553B",
           "#00cc96",
           "#ab63fa",
           "#FFA15A",
           "#19d3f3",
           "#FF6692",
           "#B6E880",
           "#FF97FF",
           "#FECB52"
          ],
          "font": {
           "color": "#2a3f5f"
          },
          "geo": {
           "bgcolor": "white",
           "lakecolor": "white",
           "landcolor": "#E5ECF6",
           "showlakes": true,
           "showland": true,
           "subunitcolor": "white"
          },
          "hoverlabel": {
           "align": "left"
          },
          "hovermode": "closest",
          "mapbox": {
           "style": "light"
          },
          "paper_bgcolor": "white",
          "plot_bgcolor": "#E5ECF6",
          "polar": {
           "angularaxis": {
            "gridcolor": "white",
            "linecolor": "white",
            "ticks": ""
           },
           "bgcolor": "#E5ECF6",
           "radialaxis": {
            "gridcolor": "white",
            "linecolor": "white",
            "ticks": ""
           }
          },
          "scene": {
           "xaxis": {
            "backgroundcolor": "#E5ECF6",
            "gridcolor": "white",
            "gridwidth": 2,
            "linecolor": "white",
            "showbackground": true,
            "ticks": "",
            "zerolinecolor": "white"
           },
           "yaxis": {
            "backgroundcolor": "#E5ECF6",
            "gridcolor": "white",
            "gridwidth": 2,
            "linecolor": "white",
            "showbackground": true,
            "ticks": "",
            "zerolinecolor": "white"
           },
           "zaxis": {
            "backgroundcolor": "#E5ECF6",
            "gridcolor": "white",
            "gridwidth": 2,
            "linecolor": "white",
            "showbackground": true,
            "ticks": "",
            "zerolinecolor": "white"
           }
          },
          "shapedefaults": {
           "line": {
            "color": "#2a3f5f"
           }
          },
          "ternary": {
           "aaxis": {
            "gridcolor": "white",
            "linecolor": "white",
            "ticks": ""
           },
           "baxis": {
            "gridcolor": "white",
            "linecolor": "white",
            "ticks": ""
           },
           "bgcolor": "#E5ECF6",
           "caxis": {
            "gridcolor": "white",
            "linecolor": "white",
            "ticks": ""
           }
          },
          "title": {
           "x": 0.05
          },
          "xaxis": {
           "automargin": true,
           "gridcolor": "white",
           "linecolor": "white",
           "ticks": "",
           "title": {
            "standoff": 15
           },
           "zerolinecolor": "white",
           "zerolinewidth": 2
          },
          "yaxis": {
           "automargin": true,
           "gridcolor": "white",
           "linecolor": "white",
           "ticks": "",
           "title": {
            "standoff": 15
           },
           "zerolinecolor": "white",
           "zerolinewidth": 2
          }
         }
        }
       }
      },
      "text/html": [
       "<div>                            <div id=\"ec533182-2155-4aa9-9601-ae9334008130\" class=\"plotly-graph-div\" style=\"height:525px; width:100%;\"></div>            <script type=\"text/javascript\">                require([\"plotly\"], function(Plotly) {                    window.PLOTLYENV=window.PLOTLYENV || {};                                    if (document.getElementById(\"ec533182-2155-4aa9-9601-ae9334008130\")) {                    Plotly.newPlot(                        \"ec533182-2155-4aa9-9601-ae9334008130\",                        [{\"branchvalues\":\"total\",\"domain\":{\"x\":[0.0,1.0],\"y\":[0.0,1.0]},\"hovertemplate\":\"labels=%{label}<br>count=%{value}<br>parent=%{parent}<br>id=%{id}<extra></extra>\",\"ids\":[\"2\",\"3\",\"4\",\"5\"],\"labels\":[\"2\",\"3\",\"4\",\"5\"],\"name\":\"\",\"parents\":[\"\",\"\",\"\",\"\"],\"values\":[2,3,1,4],\"type\":\"sunburst\"}],                        {\"template\":{\"data\":{\"histogram2dcontour\":[{\"type\":\"histogram2dcontour\",\"colorbar\":{\"outlinewidth\":0,\"ticks\":\"\"},\"colorscale\":[[0.0,\"#0d0887\"],[0.1111111111111111,\"#46039f\"],[0.2222222222222222,\"#7201a8\"],[0.3333333333333333,\"#9c179e\"],[0.4444444444444444,\"#bd3786\"],[0.5555555555555556,\"#d8576b\"],[0.6666666666666666,\"#ed7953\"],[0.7777777777777778,\"#fb9f3a\"],[0.8888888888888888,\"#fdca26\"],[1.0,\"#f0f921\"]]}],\"choropleth\":[{\"type\":\"choropleth\",\"colorbar\":{\"outlinewidth\":0,\"ticks\":\"\"}}],\"histogram2d\":[{\"type\":\"histogram2d\",\"colorbar\":{\"outlinewidth\":0,\"ticks\":\"\"},\"colorscale\":[[0.0,\"#0d0887\"],[0.1111111111111111,\"#46039f\"],[0.2222222222222222,\"#7201a8\"],[0.3333333333333333,\"#9c179e\"],[0.4444444444444444,\"#bd3786\"],[0.5555555555555556,\"#d8576b\"],[0.6666666666666666,\"#ed7953\"],[0.7777777777777778,\"#fb9f3a\"],[0.8888888888888888,\"#fdca26\"],[1.0,\"#f0f921\"]]}],\"heatmap\":[{\"type\":\"heatmap\",\"colorbar\":{\"outlinewidth\":0,\"ticks\":\"\"},\"colorscale\":[[0.0,\"#0d0887\"],[0.1111111111111111,\"#46039f\"],[0.2222222222222222,\"#7201a8\"],[0.3333333333333333,\"#9c179e\"],[0.4444444444444444,\"#bd3786\"],[0.5555555555555556,\"#d8576b\"],[0.6666666666666666,\"#ed7953\"],[0.7777777777777778,\"#fb9f3a\"],[0.8888888888888888,\"#fdca26\"],[1.0,\"#f0f921\"]]}],\"heatmapgl\":[{\"type\":\"heatmapgl\",\"colorbar\":{\"outlinewidth\":0,\"ticks\":\"\"},\"colorscale\":[[0.0,\"#0d0887\"],[0.1111111111111111,\"#46039f\"],[0.2222222222222222,\"#7201a8\"],[0.3333333333333333,\"#9c179e\"],[0.4444444444444444,\"#bd3786\"],[0.5555555555555556,\"#d8576b\"],[0.6666666666666666,\"#ed7953\"],[0.7777777777777778,\"#fb9f3a\"],[0.8888888888888888,\"#fdca26\"],[1.0,\"#f0f921\"]]}],\"contourcarpet\":[{\"type\":\"contourcarpet\",\"colorbar\":{\"outlinewidth\":0,\"ticks\":\"\"}}],\"contour\":[{\"type\":\"contour\",\"colorbar\":{\"outlinewidth\":0,\"ticks\":\"\"},\"colorscale\":[[0.0,\"#0d0887\"],[0.1111111111111111,\"#46039f\"],[0.2222222222222222,\"#7201a8\"],[0.3333333333333333,\"#9c179e\"],[0.4444444444444444,\"#bd3786\"],[0.5555555555555556,\"#d8576b\"],[0.6666666666666666,\"#ed7953\"],[0.7777777777777778,\"#fb9f3a\"],[0.8888888888888888,\"#fdca26\"],[1.0,\"#f0f921\"]]}],\"surface\":[{\"type\":\"surface\",\"colorbar\":{\"outlinewidth\":0,\"ticks\":\"\"},\"colorscale\":[[0.0,\"#0d0887\"],[0.1111111111111111,\"#46039f\"],[0.2222222222222222,\"#7201a8\"],[0.3333333333333333,\"#9c179e\"],[0.4444444444444444,\"#bd3786\"],[0.5555555555555556,\"#d8576b\"],[0.6666666666666666,\"#ed7953\"],[0.7777777777777778,\"#fb9f3a\"],[0.8888888888888888,\"#fdca26\"],[1.0,\"#f0f921\"]]}],\"mesh3d\":[{\"type\":\"mesh3d\",\"colorbar\":{\"outlinewidth\":0,\"ticks\":\"\"}}],\"scatter\":[{\"fillpattern\":{\"fillmode\":\"overlay\",\"size\":10,\"solidity\":0.2},\"type\":\"scatter\"}],\"parcoords\":[{\"type\":\"parcoords\",\"line\":{\"colorbar\":{\"outlinewidth\":0,\"ticks\":\"\"}}}],\"scatterpolargl\":[{\"type\":\"scatterpolargl\",\"marker\":{\"colorbar\":{\"outlinewidth\":0,\"ticks\":\"\"}}}],\"bar\":[{\"error_x\":{\"color\":\"#2a3f5f\"},\"error_y\":{\"color\":\"#2a3f5f\"},\"marker\":{\"line\":{\"color\":\"#E5ECF6\",\"width\":0.5},\"pattern\":{\"fillmode\":\"overlay\",\"size\":10,\"solidity\":0.2}},\"type\":\"bar\"}],\"scattergeo\":[{\"type\":\"scattergeo\",\"marker\":{\"colorbar\":{\"outlinewidth\":0,\"ticks\":\"\"}}}],\"scatterpolar\":[{\"type\":\"scatterpolar\",\"marker\":{\"colorbar\":{\"outlinewidth\":0,\"ticks\":\"\"}}}],\"histogram\":[{\"marker\":{\"pattern\":{\"fillmode\":\"overlay\",\"size\":10,\"solidity\":0.2}},\"type\":\"histogram\"}],\"scattergl\":[{\"type\":\"scattergl\",\"marker\":{\"colorbar\":{\"outlinewidth\":0,\"ticks\":\"\"}}}],\"scatter3d\":[{\"type\":\"scatter3d\",\"line\":{\"colorbar\":{\"outlinewidth\":0,\"ticks\":\"\"}},\"marker\":{\"colorbar\":{\"outlinewidth\":0,\"ticks\":\"\"}}}],\"scattermapbox\":[{\"type\":\"scattermapbox\",\"marker\":{\"colorbar\":{\"outlinewidth\":0,\"ticks\":\"\"}}}],\"scatterternary\":[{\"type\":\"scatterternary\",\"marker\":{\"colorbar\":{\"outlinewidth\":0,\"ticks\":\"\"}}}],\"scattercarpet\":[{\"type\":\"scattercarpet\",\"marker\":{\"colorbar\":{\"outlinewidth\":0,\"ticks\":\"\"}}}],\"carpet\":[{\"aaxis\":{\"endlinecolor\":\"#2a3f5f\",\"gridcolor\":\"white\",\"linecolor\":\"white\",\"minorgridcolor\":\"white\",\"startlinecolor\":\"#2a3f5f\"},\"baxis\":{\"endlinecolor\":\"#2a3f5f\",\"gridcolor\":\"white\",\"linecolor\":\"white\",\"minorgridcolor\":\"white\",\"startlinecolor\":\"#2a3f5f\"},\"type\":\"carpet\"}],\"table\":[{\"cells\":{\"fill\":{\"color\":\"#EBF0F8\"},\"line\":{\"color\":\"white\"}},\"header\":{\"fill\":{\"color\":\"#C8D4E3\"},\"line\":{\"color\":\"white\"}},\"type\":\"table\"}],\"barpolar\":[{\"marker\":{\"line\":{\"color\":\"#E5ECF6\",\"width\":0.5},\"pattern\":{\"fillmode\":\"overlay\",\"size\":10,\"solidity\":0.2}},\"type\":\"barpolar\"}],\"pie\":[{\"automargin\":true,\"type\":\"pie\"}]},\"layout\":{\"autotypenumbers\":\"strict\",\"colorway\":[\"#636efa\",\"#EF553B\",\"#00cc96\",\"#ab63fa\",\"#FFA15A\",\"#19d3f3\",\"#FF6692\",\"#B6E880\",\"#FF97FF\",\"#FECB52\"],\"font\":{\"color\":\"#2a3f5f\"},\"hovermode\":\"closest\",\"hoverlabel\":{\"align\":\"left\"},\"paper_bgcolor\":\"white\",\"plot_bgcolor\":\"#E5ECF6\",\"polar\":{\"bgcolor\":\"#E5ECF6\",\"angularaxis\":{\"gridcolor\":\"white\",\"linecolor\":\"white\",\"ticks\":\"\"},\"radialaxis\":{\"gridcolor\":\"white\",\"linecolor\":\"white\",\"ticks\":\"\"}},\"ternary\":{\"bgcolor\":\"#E5ECF6\",\"aaxis\":{\"gridcolor\":\"white\",\"linecolor\":\"white\",\"ticks\":\"\"},\"baxis\":{\"gridcolor\":\"white\",\"linecolor\":\"white\",\"ticks\":\"\"},\"caxis\":{\"gridcolor\":\"white\",\"linecolor\":\"white\",\"ticks\":\"\"}},\"coloraxis\":{\"colorbar\":{\"outlinewidth\":0,\"ticks\":\"\"}},\"colorscale\":{\"sequential\":[[0.0,\"#0d0887\"],[0.1111111111111111,\"#46039f\"],[0.2222222222222222,\"#7201a8\"],[0.3333333333333333,\"#9c179e\"],[0.4444444444444444,\"#bd3786\"],[0.5555555555555556,\"#d8576b\"],[0.6666666666666666,\"#ed7953\"],[0.7777777777777778,\"#fb9f3a\"],[0.8888888888888888,\"#fdca26\"],[1.0,\"#f0f921\"]],\"sequentialminus\":[[0.0,\"#0d0887\"],[0.1111111111111111,\"#46039f\"],[0.2222222222222222,\"#7201a8\"],[0.3333333333333333,\"#9c179e\"],[0.4444444444444444,\"#bd3786\"],[0.5555555555555556,\"#d8576b\"],[0.6666666666666666,\"#ed7953\"],[0.7777777777777778,\"#fb9f3a\"],[0.8888888888888888,\"#fdca26\"],[1.0,\"#f0f921\"]],\"diverging\":[[0,\"#8e0152\"],[0.1,\"#c51b7d\"],[0.2,\"#de77ae\"],[0.3,\"#f1b6da\"],[0.4,\"#fde0ef\"],[0.5,\"#f7f7f7\"],[0.6,\"#e6f5d0\"],[0.7,\"#b8e186\"],[0.8,\"#7fbc41\"],[0.9,\"#4d9221\"],[1,\"#276419\"]]},\"xaxis\":{\"gridcolor\":\"white\",\"linecolor\":\"white\",\"ticks\":\"\",\"title\":{\"standoff\":15},\"zerolinecolor\":\"white\",\"automargin\":true,\"zerolinewidth\":2},\"yaxis\":{\"gridcolor\":\"white\",\"linecolor\":\"white\",\"ticks\":\"\",\"title\":{\"standoff\":15},\"zerolinecolor\":\"white\",\"automargin\":true,\"zerolinewidth\":2},\"scene\":{\"xaxis\":{\"backgroundcolor\":\"#E5ECF6\",\"gridcolor\":\"white\",\"linecolor\":\"white\",\"showbackground\":true,\"ticks\":\"\",\"zerolinecolor\":\"white\",\"gridwidth\":2},\"yaxis\":{\"backgroundcolor\":\"#E5ECF6\",\"gridcolor\":\"white\",\"linecolor\":\"white\",\"showbackground\":true,\"ticks\":\"\",\"zerolinecolor\":\"white\",\"gridwidth\":2},\"zaxis\":{\"backgroundcolor\":\"#E5ECF6\",\"gridcolor\":\"white\",\"linecolor\":\"white\",\"showbackground\":true,\"ticks\":\"\",\"zerolinecolor\":\"white\",\"gridwidth\":2}},\"shapedefaults\":{\"line\":{\"color\":\"#2a3f5f\"}},\"annotationdefaults\":{\"arrowcolor\":\"#2a3f5f\",\"arrowhead\":0,\"arrowwidth\":1},\"geo\":{\"bgcolor\":\"white\",\"landcolor\":\"#E5ECF6\",\"subunitcolor\":\"white\",\"showland\":true,\"showlakes\":true,\"lakecolor\":\"white\"},\"title\":{\"x\":0.05},\"mapbox\":{\"style\":\"light\"}}},\"legend\":{\"tracegroupgap\":0},\"margin\":{\"t\":60}},                        {\"responsive\": true}                    ).then(function(){\n",
       "                            \n",
       "var gd = document.getElementById('ec533182-2155-4aa9-9601-ae9334008130');\n",
       "var x = new MutationObserver(function (mutations, observer) {{\n",
       "        var display = window.getComputedStyle(gd).display;\n",
       "        if (!display || display === 'none') {{\n",
       "            console.log([gd, 'removed!']);\n",
       "            Plotly.purge(gd);\n",
       "            observer.disconnect();\n",
       "        }}\n",
       "}});\n",
       "\n",
       "// Listen for the removal of the full notebook cells\n",
       "var notebookContainer = gd.closest('#notebook-container');\n",
       "if (notebookContainer) {{\n",
       "    x.observe(notebookContainer, {childList: true});\n",
       "}}\n",
       "\n",
       "// Listen for the clearing of the current output cell\n",
       "var outputEl = gd.closest('.output');\n",
       "if (outputEl) {{\n",
       "    x.observe(outputEl, {childList: true});\n",
       "}}\n",
       "\n",
       "                        })                };                });            </script>        </div>"
      ]
     },
     "metadata": {},
     "output_type": "display_data"
    }
   ],
   "source": [
    "import plotly.express as px \n",
    "top_rated=df[0:10]\n",
    "fig =px.sunburst(\n",
    "    top_rated,\n",
    "    path=['Accuracy'])\n",
    "fig.show()"
   ]
  },
  {
   "cell_type": "code",
   "execution_count": 121,
   "id": "3d0e5378",
   "metadata": {},
   "outputs": [
    {
     "data": {
      "application/vnd.plotly.v1+json": {
       "config": {
        "plotlyServerURL": "https://plot.ly"
       },
       "data": [
        {
         "branchvalues": "total",
         "domain": {
          "x": [
           0,
           1
          ],
          "y": [
           0,
           1
          ]
         },
         "hovertemplate": "labels=%{label}<br>count=%{value}<br>parent=%{parent}<br>id=%{id}<extra></extra>",
         "ids": [
          "1",
          "2",
          "3",
          "4",
          "5"
         ],
         "labels": [
          "1",
          "2",
          "3",
          "4",
          "5"
         ],
         "name": "",
         "parents": [
          "",
          "",
          "",
          "",
          ""
         ],
         "type": "sunburst",
         "values": [
          5,
          1,
          2,
          1,
          1
         ]
        }
       ],
       "layout": {
        "legend": {
         "tracegroupgap": 0
        },
        "margin": {
         "t": 60
        },
        "template": {
         "data": {
          "bar": [
           {
            "error_x": {
             "color": "#2a3f5f"
            },
            "error_y": {
             "color": "#2a3f5f"
            },
            "marker": {
             "line": {
              "color": "#E5ECF6",
              "width": 0.5
             },
             "pattern": {
              "fillmode": "overlay",
              "size": 10,
              "solidity": 0.2
             }
            },
            "type": "bar"
           }
          ],
          "barpolar": [
           {
            "marker": {
             "line": {
              "color": "#E5ECF6",
              "width": 0.5
             },
             "pattern": {
              "fillmode": "overlay",
              "size": 10,
              "solidity": 0.2
             }
            },
            "type": "barpolar"
           }
          ],
          "carpet": [
           {
            "aaxis": {
             "endlinecolor": "#2a3f5f",
             "gridcolor": "white",
             "linecolor": "white",
             "minorgridcolor": "white",
             "startlinecolor": "#2a3f5f"
            },
            "baxis": {
             "endlinecolor": "#2a3f5f",
             "gridcolor": "white",
             "linecolor": "white",
             "minorgridcolor": "white",
             "startlinecolor": "#2a3f5f"
            },
            "type": "carpet"
           }
          ],
          "choropleth": [
           {
            "colorbar": {
             "outlinewidth": 0,
             "ticks": ""
            },
            "type": "choropleth"
           }
          ],
          "contour": [
           {
            "colorbar": {
             "outlinewidth": 0,
             "ticks": ""
            },
            "colorscale": [
             [
              0,
              "#0d0887"
             ],
             [
              0.1111111111111111,
              "#46039f"
             ],
             [
              0.2222222222222222,
              "#7201a8"
             ],
             [
              0.3333333333333333,
              "#9c179e"
             ],
             [
              0.4444444444444444,
              "#bd3786"
             ],
             [
              0.5555555555555556,
              "#d8576b"
             ],
             [
              0.6666666666666666,
              "#ed7953"
             ],
             [
              0.7777777777777778,
              "#fb9f3a"
             ],
             [
              0.8888888888888888,
              "#fdca26"
             ],
             [
              1,
              "#f0f921"
             ]
            ],
            "type": "contour"
           }
          ],
          "contourcarpet": [
           {
            "colorbar": {
             "outlinewidth": 0,
             "ticks": ""
            },
            "type": "contourcarpet"
           }
          ],
          "heatmap": [
           {
            "colorbar": {
             "outlinewidth": 0,
             "ticks": ""
            },
            "colorscale": [
             [
              0,
              "#0d0887"
             ],
             [
              0.1111111111111111,
              "#46039f"
             ],
             [
              0.2222222222222222,
              "#7201a8"
             ],
             [
              0.3333333333333333,
              "#9c179e"
             ],
             [
              0.4444444444444444,
              "#bd3786"
             ],
             [
              0.5555555555555556,
              "#d8576b"
             ],
             [
              0.6666666666666666,
              "#ed7953"
             ],
             [
              0.7777777777777778,
              "#fb9f3a"
             ],
             [
              0.8888888888888888,
              "#fdca26"
             ],
             [
              1,
              "#f0f921"
             ]
            ],
            "type": "heatmap"
           }
          ],
          "heatmapgl": [
           {
            "colorbar": {
             "outlinewidth": 0,
             "ticks": ""
            },
            "colorscale": [
             [
              0,
              "#0d0887"
             ],
             [
              0.1111111111111111,
              "#46039f"
             ],
             [
              0.2222222222222222,
              "#7201a8"
             ],
             [
              0.3333333333333333,
              "#9c179e"
             ],
             [
              0.4444444444444444,
              "#bd3786"
             ],
             [
              0.5555555555555556,
              "#d8576b"
             ],
             [
              0.6666666666666666,
              "#ed7953"
             ],
             [
              0.7777777777777778,
              "#fb9f3a"
             ],
             [
              0.8888888888888888,
              "#fdca26"
             ],
             [
              1,
              "#f0f921"
             ]
            ],
            "type": "heatmapgl"
           }
          ],
          "histogram": [
           {
            "marker": {
             "pattern": {
              "fillmode": "overlay",
              "size": 10,
              "solidity": 0.2
             }
            },
            "type": "histogram"
           }
          ],
          "histogram2d": [
           {
            "colorbar": {
             "outlinewidth": 0,
             "ticks": ""
            },
            "colorscale": [
             [
              0,
              "#0d0887"
             ],
             [
              0.1111111111111111,
              "#46039f"
             ],
             [
              0.2222222222222222,
              "#7201a8"
             ],
             [
              0.3333333333333333,
              "#9c179e"
             ],
             [
              0.4444444444444444,
              "#bd3786"
             ],
             [
              0.5555555555555556,
              "#d8576b"
             ],
             [
              0.6666666666666666,
              "#ed7953"
             ],
             [
              0.7777777777777778,
              "#fb9f3a"
             ],
             [
              0.8888888888888888,
              "#fdca26"
             ],
             [
              1,
              "#f0f921"
             ]
            ],
            "type": "histogram2d"
           }
          ],
          "histogram2dcontour": [
           {
            "colorbar": {
             "outlinewidth": 0,
             "ticks": ""
            },
            "colorscale": [
             [
              0,
              "#0d0887"
             ],
             [
              0.1111111111111111,
              "#46039f"
             ],
             [
              0.2222222222222222,
              "#7201a8"
             ],
             [
              0.3333333333333333,
              "#9c179e"
             ],
             [
              0.4444444444444444,
              "#bd3786"
             ],
             [
              0.5555555555555556,
              "#d8576b"
             ],
             [
              0.6666666666666666,
              "#ed7953"
             ],
             [
              0.7777777777777778,
              "#fb9f3a"
             ],
             [
              0.8888888888888888,
              "#fdca26"
             ],
             [
              1,
              "#f0f921"
             ]
            ],
            "type": "histogram2dcontour"
           }
          ],
          "mesh3d": [
           {
            "colorbar": {
             "outlinewidth": 0,
             "ticks": ""
            },
            "type": "mesh3d"
           }
          ],
          "parcoords": [
           {
            "line": {
             "colorbar": {
              "outlinewidth": 0,
              "ticks": ""
             }
            },
            "type": "parcoords"
           }
          ],
          "pie": [
           {
            "automargin": true,
            "type": "pie"
           }
          ],
          "scatter": [
           {
            "fillpattern": {
             "fillmode": "overlay",
             "size": 10,
             "solidity": 0.2
            },
            "type": "scatter"
           }
          ],
          "scatter3d": [
           {
            "line": {
             "colorbar": {
              "outlinewidth": 0,
              "ticks": ""
             }
            },
            "marker": {
             "colorbar": {
              "outlinewidth": 0,
              "ticks": ""
             }
            },
            "type": "scatter3d"
           }
          ],
          "scattercarpet": [
           {
            "marker": {
             "colorbar": {
              "outlinewidth": 0,
              "ticks": ""
             }
            },
            "type": "scattercarpet"
           }
          ],
          "scattergeo": [
           {
            "marker": {
             "colorbar": {
              "outlinewidth": 0,
              "ticks": ""
             }
            },
            "type": "scattergeo"
           }
          ],
          "scattergl": [
           {
            "marker": {
             "colorbar": {
              "outlinewidth": 0,
              "ticks": ""
             }
            },
            "type": "scattergl"
           }
          ],
          "scattermapbox": [
           {
            "marker": {
             "colorbar": {
              "outlinewidth": 0,
              "ticks": ""
             }
            },
            "type": "scattermapbox"
           }
          ],
          "scatterpolar": [
           {
            "marker": {
             "colorbar": {
              "outlinewidth": 0,
              "ticks": ""
             }
            },
            "type": "scatterpolar"
           }
          ],
          "scatterpolargl": [
           {
            "marker": {
             "colorbar": {
              "outlinewidth": 0,
              "ticks": ""
             }
            },
            "type": "scatterpolargl"
           }
          ],
          "scatterternary": [
           {
            "marker": {
             "colorbar": {
              "outlinewidth": 0,
              "ticks": ""
             }
            },
            "type": "scatterternary"
           }
          ],
          "surface": [
           {
            "colorbar": {
             "outlinewidth": 0,
             "ticks": ""
            },
            "colorscale": [
             [
              0,
              "#0d0887"
             ],
             [
              0.1111111111111111,
              "#46039f"
             ],
             [
              0.2222222222222222,
              "#7201a8"
             ],
             [
              0.3333333333333333,
              "#9c179e"
             ],
             [
              0.4444444444444444,
              "#bd3786"
             ],
             [
              0.5555555555555556,
              "#d8576b"
             ],
             [
              0.6666666666666666,
              "#ed7953"
             ],
             [
              0.7777777777777778,
              "#fb9f3a"
             ],
             [
              0.8888888888888888,
              "#fdca26"
             ],
             [
              1,
              "#f0f921"
             ]
            ],
            "type": "surface"
           }
          ],
          "table": [
           {
            "cells": {
             "fill": {
              "color": "#EBF0F8"
             },
             "line": {
              "color": "white"
             }
            },
            "header": {
             "fill": {
              "color": "#C8D4E3"
             },
             "line": {
              "color": "white"
             }
            },
            "type": "table"
           }
          ]
         },
         "layout": {
          "annotationdefaults": {
           "arrowcolor": "#2a3f5f",
           "arrowhead": 0,
           "arrowwidth": 1
          },
          "autotypenumbers": "strict",
          "coloraxis": {
           "colorbar": {
            "outlinewidth": 0,
            "ticks": ""
           }
          },
          "colorscale": {
           "diverging": [
            [
             0,
             "#8e0152"
            ],
            [
             0.1,
             "#c51b7d"
            ],
            [
             0.2,
             "#de77ae"
            ],
            [
             0.3,
             "#f1b6da"
            ],
            [
             0.4,
             "#fde0ef"
            ],
            [
             0.5,
             "#f7f7f7"
            ],
            [
             0.6,
             "#e6f5d0"
            ],
            [
             0.7,
             "#b8e186"
            ],
            [
             0.8,
             "#7fbc41"
            ],
            [
             0.9,
             "#4d9221"
            ],
            [
             1,
             "#276419"
            ]
           ],
           "sequential": [
            [
             0,
             "#0d0887"
            ],
            [
             0.1111111111111111,
             "#46039f"
            ],
            [
             0.2222222222222222,
             "#7201a8"
            ],
            [
             0.3333333333333333,
             "#9c179e"
            ],
            [
             0.4444444444444444,
             "#bd3786"
            ],
            [
             0.5555555555555556,
             "#d8576b"
            ],
            [
             0.6666666666666666,
             "#ed7953"
            ],
            [
             0.7777777777777778,
             "#fb9f3a"
            ],
            [
             0.8888888888888888,
             "#fdca26"
            ],
            [
             1,
             "#f0f921"
            ]
           ],
           "sequentialminus": [
            [
             0,
             "#0d0887"
            ],
            [
             0.1111111111111111,
             "#46039f"
            ],
            [
             0.2222222222222222,
             "#7201a8"
            ],
            [
             0.3333333333333333,
             "#9c179e"
            ],
            [
             0.4444444444444444,
             "#bd3786"
            ],
            [
             0.5555555555555556,
             "#d8576b"
            ],
            [
             0.6666666666666666,
             "#ed7953"
            ],
            [
             0.7777777777777778,
             "#fb9f3a"
            ],
            [
             0.8888888888888888,
             "#fdca26"
            ],
            [
             1,
             "#f0f921"
            ]
           ]
          },
          "colorway": [
           "#636efa",
           "#EF553B",
           "#00cc96",
           "#ab63fa",
           "#FFA15A",
           "#19d3f3",
           "#FF6692",
           "#B6E880",
           "#FF97FF",
           "#FECB52"
          ],
          "font": {
           "color": "#2a3f5f"
          },
          "geo": {
           "bgcolor": "white",
           "lakecolor": "white",
           "landcolor": "#E5ECF6",
           "showlakes": true,
           "showland": true,
           "subunitcolor": "white"
          },
          "hoverlabel": {
           "align": "left"
          },
          "hovermode": "closest",
          "mapbox": {
           "style": "light"
          },
          "paper_bgcolor": "white",
          "plot_bgcolor": "#E5ECF6",
          "polar": {
           "angularaxis": {
            "gridcolor": "white",
            "linecolor": "white",
            "ticks": ""
           },
           "bgcolor": "#E5ECF6",
           "radialaxis": {
            "gridcolor": "white",
            "linecolor": "white",
            "ticks": ""
           }
          },
          "scene": {
           "xaxis": {
            "backgroundcolor": "#E5ECF6",
            "gridcolor": "white",
            "gridwidth": 2,
            "linecolor": "white",
            "showbackground": true,
            "ticks": "",
            "zerolinecolor": "white"
           },
           "yaxis": {
            "backgroundcolor": "#E5ECF6",
            "gridcolor": "white",
            "gridwidth": 2,
            "linecolor": "white",
            "showbackground": true,
            "ticks": "",
            "zerolinecolor": "white"
           },
           "zaxis": {
            "backgroundcolor": "#E5ECF6",
            "gridcolor": "white",
            "gridwidth": 2,
            "linecolor": "white",
            "showbackground": true,
            "ticks": "",
            "zerolinecolor": "white"
           }
          },
          "shapedefaults": {
           "line": {
            "color": "#2a3f5f"
           }
          },
          "ternary": {
           "aaxis": {
            "gridcolor": "white",
            "linecolor": "white",
            "ticks": ""
           },
           "baxis": {
            "gridcolor": "white",
            "linecolor": "white",
            "ticks": ""
           },
           "bgcolor": "#E5ECF6",
           "caxis": {
            "gridcolor": "white",
            "linecolor": "white",
            "ticks": ""
           }
          },
          "title": {
           "x": 0.05
          },
          "xaxis": {
           "automargin": true,
           "gridcolor": "white",
           "linecolor": "white",
           "ticks": "",
           "title": {
            "standoff": 15
           },
           "zerolinecolor": "white",
           "zerolinewidth": 2
          },
          "yaxis": {
           "automargin": true,
           "gridcolor": "white",
           "linecolor": "white",
           "ticks": "",
           "title": {
            "standoff": 15
           },
           "zerolinecolor": "white",
           "zerolinewidth": 2
          }
         }
        }
       }
      },
      "text/html": [
       "<div>                            <div id=\"73dbede2-c424-4a26-8959-0389f4346fa2\" class=\"plotly-graph-div\" style=\"height:525px; width:100%;\"></div>            <script type=\"text/javascript\">                require([\"plotly\"], function(Plotly) {                    window.PLOTLYENV=window.PLOTLYENV || {};                                    if (document.getElementById(\"73dbede2-c424-4a26-8959-0389f4346fa2\")) {                    Plotly.newPlot(                        \"73dbede2-c424-4a26-8959-0389f4346fa2\",                        [{\"branchvalues\":\"total\",\"domain\":{\"x\":[0.0,1.0],\"y\":[0.0,1.0]},\"hovertemplate\":\"labels=%{label}<br>count=%{value}<br>parent=%{parent}<br>id=%{id}<extra></extra>\",\"ids\":[\"1\",\"2\",\"3\",\"4\",\"5\"],\"labels\":[\"1\",\"2\",\"3\",\"4\",\"5\"],\"name\":\"\",\"parents\":[\"\",\"\",\"\",\"\",\"\"],\"values\":[5,1,2,1,1],\"type\":\"sunburst\"}],                        {\"template\":{\"data\":{\"histogram2dcontour\":[{\"type\":\"histogram2dcontour\",\"colorbar\":{\"outlinewidth\":0,\"ticks\":\"\"},\"colorscale\":[[0.0,\"#0d0887\"],[0.1111111111111111,\"#46039f\"],[0.2222222222222222,\"#7201a8\"],[0.3333333333333333,\"#9c179e\"],[0.4444444444444444,\"#bd3786\"],[0.5555555555555556,\"#d8576b\"],[0.6666666666666666,\"#ed7953\"],[0.7777777777777778,\"#fb9f3a\"],[0.8888888888888888,\"#fdca26\"],[1.0,\"#f0f921\"]]}],\"choropleth\":[{\"type\":\"choropleth\",\"colorbar\":{\"outlinewidth\":0,\"ticks\":\"\"}}],\"histogram2d\":[{\"type\":\"histogram2d\",\"colorbar\":{\"outlinewidth\":0,\"ticks\":\"\"},\"colorscale\":[[0.0,\"#0d0887\"],[0.1111111111111111,\"#46039f\"],[0.2222222222222222,\"#7201a8\"],[0.3333333333333333,\"#9c179e\"],[0.4444444444444444,\"#bd3786\"],[0.5555555555555556,\"#d8576b\"],[0.6666666666666666,\"#ed7953\"],[0.7777777777777778,\"#fb9f3a\"],[0.8888888888888888,\"#fdca26\"],[1.0,\"#f0f921\"]]}],\"heatmap\":[{\"type\":\"heatmap\",\"colorbar\":{\"outlinewidth\":0,\"ticks\":\"\"},\"colorscale\":[[0.0,\"#0d0887\"],[0.1111111111111111,\"#46039f\"],[0.2222222222222222,\"#7201a8\"],[0.3333333333333333,\"#9c179e\"],[0.4444444444444444,\"#bd3786\"],[0.5555555555555556,\"#d8576b\"],[0.6666666666666666,\"#ed7953\"],[0.7777777777777778,\"#fb9f3a\"],[0.8888888888888888,\"#fdca26\"],[1.0,\"#f0f921\"]]}],\"heatmapgl\":[{\"type\":\"heatmapgl\",\"colorbar\":{\"outlinewidth\":0,\"ticks\":\"\"},\"colorscale\":[[0.0,\"#0d0887\"],[0.1111111111111111,\"#46039f\"],[0.2222222222222222,\"#7201a8\"],[0.3333333333333333,\"#9c179e\"],[0.4444444444444444,\"#bd3786\"],[0.5555555555555556,\"#d8576b\"],[0.6666666666666666,\"#ed7953\"],[0.7777777777777778,\"#fb9f3a\"],[0.8888888888888888,\"#fdca26\"],[1.0,\"#f0f921\"]]}],\"contourcarpet\":[{\"type\":\"contourcarpet\",\"colorbar\":{\"outlinewidth\":0,\"ticks\":\"\"}}],\"contour\":[{\"type\":\"contour\",\"colorbar\":{\"outlinewidth\":0,\"ticks\":\"\"},\"colorscale\":[[0.0,\"#0d0887\"],[0.1111111111111111,\"#46039f\"],[0.2222222222222222,\"#7201a8\"],[0.3333333333333333,\"#9c179e\"],[0.4444444444444444,\"#bd3786\"],[0.5555555555555556,\"#d8576b\"],[0.6666666666666666,\"#ed7953\"],[0.7777777777777778,\"#fb9f3a\"],[0.8888888888888888,\"#fdca26\"],[1.0,\"#f0f921\"]]}],\"surface\":[{\"type\":\"surface\",\"colorbar\":{\"outlinewidth\":0,\"ticks\":\"\"},\"colorscale\":[[0.0,\"#0d0887\"],[0.1111111111111111,\"#46039f\"],[0.2222222222222222,\"#7201a8\"],[0.3333333333333333,\"#9c179e\"],[0.4444444444444444,\"#bd3786\"],[0.5555555555555556,\"#d8576b\"],[0.6666666666666666,\"#ed7953\"],[0.7777777777777778,\"#fb9f3a\"],[0.8888888888888888,\"#fdca26\"],[1.0,\"#f0f921\"]]}],\"mesh3d\":[{\"type\":\"mesh3d\",\"colorbar\":{\"outlinewidth\":0,\"ticks\":\"\"}}],\"scatter\":[{\"fillpattern\":{\"fillmode\":\"overlay\",\"size\":10,\"solidity\":0.2},\"type\":\"scatter\"}],\"parcoords\":[{\"type\":\"parcoords\",\"line\":{\"colorbar\":{\"outlinewidth\":0,\"ticks\":\"\"}}}],\"scatterpolargl\":[{\"type\":\"scatterpolargl\",\"marker\":{\"colorbar\":{\"outlinewidth\":0,\"ticks\":\"\"}}}],\"bar\":[{\"error_x\":{\"color\":\"#2a3f5f\"},\"error_y\":{\"color\":\"#2a3f5f\"},\"marker\":{\"line\":{\"color\":\"#E5ECF6\",\"width\":0.5},\"pattern\":{\"fillmode\":\"overlay\",\"size\":10,\"solidity\":0.2}},\"type\":\"bar\"}],\"scattergeo\":[{\"type\":\"scattergeo\",\"marker\":{\"colorbar\":{\"outlinewidth\":0,\"ticks\":\"\"}}}],\"scatterpolar\":[{\"type\":\"scatterpolar\",\"marker\":{\"colorbar\":{\"outlinewidth\":0,\"ticks\":\"\"}}}],\"histogram\":[{\"marker\":{\"pattern\":{\"fillmode\":\"overlay\",\"size\":10,\"solidity\":0.2}},\"type\":\"histogram\"}],\"scattergl\":[{\"type\":\"scattergl\",\"marker\":{\"colorbar\":{\"outlinewidth\":0,\"ticks\":\"\"}}}],\"scatter3d\":[{\"type\":\"scatter3d\",\"line\":{\"colorbar\":{\"outlinewidth\":0,\"ticks\":\"\"}},\"marker\":{\"colorbar\":{\"outlinewidth\":0,\"ticks\":\"\"}}}],\"scattermapbox\":[{\"type\":\"scattermapbox\",\"marker\":{\"colorbar\":{\"outlinewidth\":0,\"ticks\":\"\"}}}],\"scatterternary\":[{\"type\":\"scatterternary\",\"marker\":{\"colorbar\":{\"outlinewidth\":0,\"ticks\":\"\"}}}],\"scattercarpet\":[{\"type\":\"scattercarpet\",\"marker\":{\"colorbar\":{\"outlinewidth\":0,\"ticks\":\"\"}}}],\"carpet\":[{\"aaxis\":{\"endlinecolor\":\"#2a3f5f\",\"gridcolor\":\"white\",\"linecolor\":\"white\",\"minorgridcolor\":\"white\",\"startlinecolor\":\"#2a3f5f\"},\"baxis\":{\"endlinecolor\":\"#2a3f5f\",\"gridcolor\":\"white\",\"linecolor\":\"white\",\"minorgridcolor\":\"white\",\"startlinecolor\":\"#2a3f5f\"},\"type\":\"carpet\"}],\"table\":[{\"cells\":{\"fill\":{\"color\":\"#EBF0F8\"},\"line\":{\"color\":\"white\"}},\"header\":{\"fill\":{\"color\":\"#C8D4E3\"},\"line\":{\"color\":\"white\"}},\"type\":\"table\"}],\"barpolar\":[{\"marker\":{\"line\":{\"color\":\"#E5ECF6\",\"width\":0.5},\"pattern\":{\"fillmode\":\"overlay\",\"size\":10,\"solidity\":0.2}},\"type\":\"barpolar\"}],\"pie\":[{\"automargin\":true,\"type\":\"pie\"}]},\"layout\":{\"autotypenumbers\":\"strict\",\"colorway\":[\"#636efa\",\"#EF553B\",\"#00cc96\",\"#ab63fa\",\"#FFA15A\",\"#19d3f3\",\"#FF6692\",\"#B6E880\",\"#FF97FF\",\"#FECB52\"],\"font\":{\"color\":\"#2a3f5f\"},\"hovermode\":\"closest\",\"hoverlabel\":{\"align\":\"left\"},\"paper_bgcolor\":\"white\",\"plot_bgcolor\":\"#E5ECF6\",\"polar\":{\"bgcolor\":\"#E5ECF6\",\"angularaxis\":{\"gridcolor\":\"white\",\"linecolor\":\"white\",\"ticks\":\"\"},\"radialaxis\":{\"gridcolor\":\"white\",\"linecolor\":\"white\",\"ticks\":\"\"}},\"ternary\":{\"bgcolor\":\"#E5ECF6\",\"aaxis\":{\"gridcolor\":\"white\",\"linecolor\":\"white\",\"ticks\":\"\"},\"baxis\":{\"gridcolor\":\"white\",\"linecolor\":\"white\",\"ticks\":\"\"},\"caxis\":{\"gridcolor\":\"white\",\"linecolor\":\"white\",\"ticks\":\"\"}},\"coloraxis\":{\"colorbar\":{\"outlinewidth\":0,\"ticks\":\"\"}},\"colorscale\":{\"sequential\":[[0.0,\"#0d0887\"],[0.1111111111111111,\"#46039f\"],[0.2222222222222222,\"#7201a8\"],[0.3333333333333333,\"#9c179e\"],[0.4444444444444444,\"#bd3786\"],[0.5555555555555556,\"#d8576b\"],[0.6666666666666666,\"#ed7953\"],[0.7777777777777778,\"#fb9f3a\"],[0.8888888888888888,\"#fdca26\"],[1.0,\"#f0f921\"]],\"sequentialminus\":[[0.0,\"#0d0887\"],[0.1111111111111111,\"#46039f\"],[0.2222222222222222,\"#7201a8\"],[0.3333333333333333,\"#9c179e\"],[0.4444444444444444,\"#bd3786\"],[0.5555555555555556,\"#d8576b\"],[0.6666666666666666,\"#ed7953\"],[0.7777777777777778,\"#fb9f3a\"],[0.8888888888888888,\"#fdca26\"],[1.0,\"#f0f921\"]],\"diverging\":[[0,\"#8e0152\"],[0.1,\"#c51b7d\"],[0.2,\"#de77ae\"],[0.3,\"#f1b6da\"],[0.4,\"#fde0ef\"],[0.5,\"#f7f7f7\"],[0.6,\"#e6f5d0\"],[0.7,\"#b8e186\"],[0.8,\"#7fbc41\"],[0.9,\"#4d9221\"],[1,\"#276419\"]]},\"xaxis\":{\"gridcolor\":\"white\",\"linecolor\":\"white\",\"ticks\":\"\",\"title\":{\"standoff\":15},\"zerolinecolor\":\"white\",\"automargin\":true,\"zerolinewidth\":2},\"yaxis\":{\"gridcolor\":\"white\",\"linecolor\":\"white\",\"ticks\":\"\",\"title\":{\"standoff\":15},\"zerolinecolor\":\"white\",\"automargin\":true,\"zerolinewidth\":2},\"scene\":{\"xaxis\":{\"backgroundcolor\":\"#E5ECF6\",\"gridcolor\":\"white\",\"linecolor\":\"white\",\"showbackground\":true,\"ticks\":\"\",\"zerolinecolor\":\"white\",\"gridwidth\":2},\"yaxis\":{\"backgroundcolor\":\"#E5ECF6\",\"gridcolor\":\"white\",\"linecolor\":\"white\",\"showbackground\":true,\"ticks\":\"\",\"zerolinecolor\":\"white\",\"gridwidth\":2},\"zaxis\":{\"backgroundcolor\":\"#E5ECF6\",\"gridcolor\":\"white\",\"linecolor\":\"white\",\"showbackground\":true,\"ticks\":\"\",\"zerolinecolor\":\"white\",\"gridwidth\":2}},\"shapedefaults\":{\"line\":{\"color\":\"#2a3f5f\"}},\"annotationdefaults\":{\"arrowcolor\":\"#2a3f5f\",\"arrowhead\":0,\"arrowwidth\":1},\"geo\":{\"bgcolor\":\"white\",\"landcolor\":\"#E5ECF6\",\"subunitcolor\":\"white\",\"showland\":true,\"showlakes\":true,\"lakecolor\":\"white\"},\"title\":{\"x\":0.05},\"mapbox\":{\"style\":\"light\"}}},\"legend\":{\"tracegroupgap\":0},\"margin\":{\"t\":60}},                        {\"responsive\": true}                    ).then(function(){\n",
       "                            \n",
       "var gd = document.getElementById('73dbede2-c424-4a26-8959-0389f4346fa2');\n",
       "var x = new MutationObserver(function (mutations, observer) {{\n",
       "        var display = window.getComputedStyle(gd).display;\n",
       "        if (!display || display === 'none') {{\n",
       "            console.log([gd, 'removed!']);\n",
       "            Plotly.purge(gd);\n",
       "            observer.disconnect();\n",
       "        }}\n",
       "}});\n",
       "\n",
       "// Listen for the removal of the full notebook cells\n",
       "var notebookContainer = gd.closest('#notebook-container');\n",
       "if (notebookContainer) {{\n",
       "    x.observe(notebookContainer, {childList: true});\n",
       "}}\n",
       "\n",
       "// Listen for the clearing of the current output cell\n",
       "var outputEl = gd.closest('.output');\n",
       "if (outputEl) {{\n",
       "    x.observe(outputEl, {childList: true});\n",
       "}}\n",
       "\n",
       "                        })                };                });            </script>        </div>"
      ]
     },
     "metadata": {},
     "output_type": "display_data"
    }
   ],
   "source": [
    "import plotly.express as px \n",
    "top_rated=df[0:10]\n",
    "fig =px.sunburst(\n",
    "    top_rated,\n",
    "    path=['Inaccurate_Rating'])\n",
    "fig.show()"
   ]
  },
  {
   "cell_type": "markdown",
   "id": "930b012d",
   "metadata": {},
   "source": [
    "#### Here we Categorized the Popular Genres: Action & Adventure, Comedies as well as Documentaries, Horror, Thriller, Comedies"
   ]
  },
  {
   "cell_type": "markdown",
   "id": "926f75b3",
   "metadata": {},
   "source": [
    "### Action & Adventure, Comedies"
   ]
  },
  {
   "cell_type": "code",
   "execution_count": 113,
   "id": "5f638367",
   "metadata": {},
   "outputs": [],
   "source": [
    "AAC  = ['Action & Adventure, Comedies']"
   ]
  },
  {
   "cell_type": "code",
   "execution_count": 59,
   "id": "d60ad105",
   "metadata": {},
   "outputs": [],
   "source": [
    "df_AAC = df[df.Fav_Genres.isin(AAC)]"
   ]
  },
  {
   "cell_type": "code",
   "execution_count": 60,
   "id": "f54f1a99",
   "metadata": {},
   "outputs": [],
   "source": [
    "df1 = df_AAC"
   ]
  },
  {
   "cell_type": "code",
   "execution_count": 61,
   "id": "6afca6f0",
   "metadata": {},
   "outputs": [
    {
     "data": {
      "text/html": [
       "<div>\n",
       "<style scoped>\n",
       "    .dataframe tbody tr th:only-of-type {\n",
       "        vertical-align: middle;\n",
       "    }\n",
       "\n",
       "    .dataframe tbody tr th {\n",
       "        vertical-align: top;\n",
       "    }\n",
       "\n",
       "    .dataframe thead th {\n",
       "        text-align: right;\n",
       "    }\n",
       "</style>\n",
       "<table border=\"1\" class=\"dataframe\">\n",
       "  <thead>\n",
       "    <tr style=\"text-align: right;\">\n",
       "      <th></th>\n",
       "      <th>Unnamed: 0</th>\n",
       "      <th>Gender</th>\n",
       "      <th>Age Group</th>\n",
       "      <th>Often_Use</th>\n",
       "      <th>Fav_Genres</th>\n",
       "      <th>Preference</th>\n",
       "      <th>Inaccurate_Rating</th>\n",
       "      <th>Rating</th>\n",
       "      <th>Prefered_Rating</th>\n",
       "      <th>Accuracy</th>\n",
       "      <th>Recommendations</th>\n",
       "    </tr>\n",
       "  </thead>\n",
       "  <tbody>\n",
       "    <tr>\n",
       "      <th>3</th>\n",
       "      <td>4</td>\n",
       "      <td>Female</td>\n",
       "      <td>10-15</td>\n",
       "      <td>3-5 times a week</td>\n",
       "      <td>Action &amp; Adventure, Comedies</td>\n",
       "      <td>Thumbs Up &amp; Down Rating</td>\n",
       "      <td>3</td>\n",
       "      <td>TV-14</td>\n",
       "      <td>TV-PG</td>\n",
       "      <td>5</td>\n",
       "      <td>More Comedies</td>\n",
       "    </tr>\n",
       "    <tr>\n",
       "      <th>8</th>\n",
       "      <td>9</td>\n",
       "      <td>Male</td>\n",
       "      <td>10-15</td>\n",
       "      <td>3-5 times a week</td>\n",
       "      <td>Action &amp; Adventure, Comedies</td>\n",
       "      <td>Thumbs Up &amp; Down Rating</td>\n",
       "      <td>1</td>\n",
       "      <td>Not Aplicable</td>\n",
       "      <td>Not Aplicable</td>\n",
       "      <td>3</td>\n",
       "      <td>It is good, can't complain</td>\n",
       "    </tr>\n",
       "    <tr>\n",
       "      <th>9</th>\n",
       "      <td>10</td>\n",
       "      <td>Male</td>\n",
       "      <td>21-25</td>\n",
       "      <td>Rarely</td>\n",
       "      <td>Action &amp; Adventure, Comedies</td>\n",
       "      <td>Thumbs Up &amp; Down Rating</td>\n",
       "      <td>5</td>\n",
       "      <td>TV-14</td>\n",
       "      <td>NC-17</td>\n",
       "      <td>2</td>\n",
       "      <td>More Action movies</td>\n",
       "    </tr>\n",
       "    <tr>\n",
       "      <th>17</th>\n",
       "      <td>18</td>\n",
       "      <td>Male</td>\n",
       "      <td>21-25</td>\n",
       "      <td>4-6 times a month</td>\n",
       "      <td>Action &amp; Adventure, Comedies</td>\n",
       "      <td>Thumbs Up &amp; Down Rating</td>\n",
       "      <td>2</td>\n",
       "      <td>Not Aplicable</td>\n",
       "      <td>Not Aplicable</td>\n",
       "      <td>5</td>\n",
       "      <td>Great shows, good recommendations</td>\n",
       "    </tr>\n",
       "    <tr>\n",
       "      <th>24</th>\n",
       "      <td>25</td>\n",
       "      <td>Female</td>\n",
       "      <td>26-30</td>\n",
       "      <td>Rarely</td>\n",
       "      <td>Action &amp; Adventure, Comedies</td>\n",
       "      <td>1-5 Star Rating</td>\n",
       "      <td>5</td>\n",
       "      <td>PG-13</td>\n",
       "      <td>TV-G</td>\n",
       "      <td>2</td>\n",
       "      <td>It is good</td>\n",
       "    </tr>\n",
       "    <tr>\n",
       "      <th>28</th>\n",
       "      <td>29</td>\n",
       "      <td>Male</td>\n",
       "      <td>31+</td>\n",
       "      <td>3-5 times a week</td>\n",
       "      <td>Action &amp; Adventure, Comedies</td>\n",
       "      <td>Thumbs Up &amp; Down Rating</td>\n",
       "      <td>5</td>\n",
       "      <td>PG-13</td>\n",
       "      <td>TV-14</td>\n",
       "      <td>2</td>\n",
       "      <td>It needs to do better with regards to recommen...</td>\n",
       "    </tr>\n",
       "    <tr>\n",
       "      <th>29</th>\n",
       "      <td>30</td>\n",
       "      <td>Male</td>\n",
       "      <td>16-20</td>\n",
       "      <td>3-5 times a week</td>\n",
       "      <td>Action &amp; Adventure, Comedies</td>\n",
       "      <td>Thumbs Up &amp; Down Rating</td>\n",
       "      <td>3</td>\n",
       "      <td>TV-14</td>\n",
       "      <td>NC-17</td>\n",
       "      <td>3</td>\n",
       "      <td>Do netter recommending</td>\n",
       "    </tr>\n",
       "    <tr>\n",
       "      <th>32</th>\n",
       "      <td>33</td>\n",
       "      <td>Female</td>\n",
       "      <td>31+</td>\n",
       "      <td>Rarely</td>\n",
       "      <td>Action &amp; Adventure, Comedies</td>\n",
       "      <td>1-5 Star Rating</td>\n",
       "      <td>3</td>\n",
       "      <td>TV-14</td>\n",
       "      <td>TV-PG</td>\n",
       "      <td>4</td>\n",
       "      <td>All good here</td>\n",
       "    </tr>\n",
       "    <tr>\n",
       "      <th>33</th>\n",
       "      <td>34</td>\n",
       "      <td>Female</td>\n",
       "      <td>16-20</td>\n",
       "      <td>3-5 times a week</td>\n",
       "      <td>Action &amp; Adventure, Comedies</td>\n",
       "      <td>Thumbs Up &amp; Down Rating</td>\n",
       "      <td>2</td>\n",
       "      <td>TV-14</td>\n",
       "      <td>TV-PG</td>\n",
       "      <td>4</td>\n",
       "      <td>Recommendations are good</td>\n",
       "    </tr>\n",
       "    <tr>\n",
       "      <th>43</th>\n",
       "      <td>44</td>\n",
       "      <td>Male</td>\n",
       "      <td>10-15</td>\n",
       "      <td>Daily</td>\n",
       "      <td>Action &amp; Adventure, Comedies</td>\n",
       "      <td>1-5 Star Rating</td>\n",
       "      <td>2</td>\n",
       "      <td>Not Aplicable</td>\n",
       "      <td>Not Aplicable</td>\n",
       "      <td>4</td>\n",
       "      <td>Perfect</td>\n",
       "    </tr>\n",
       "    <tr>\n",
       "      <th>44</th>\n",
       "      <td>45</td>\n",
       "      <td>Male</td>\n",
       "      <td>10-15</td>\n",
       "      <td>3-5 times a week</td>\n",
       "      <td>Action &amp; Adventure, Comedies</td>\n",
       "      <td>1-5 Star Rating</td>\n",
       "      <td>2</td>\n",
       "      <td>PG-13</td>\n",
       "      <td>TV-14</td>\n",
       "      <td>3</td>\n",
       "      <td>Good</td>\n",
       "    </tr>\n",
       "    <tr>\n",
       "      <th>58</th>\n",
       "      <td>59</td>\n",
       "      <td>Female</td>\n",
       "      <td>26-30</td>\n",
       "      <td>Daily</td>\n",
       "      <td>Action &amp; Adventure, Comedies</td>\n",
       "      <td>Thumbs Up &amp; Down Rating</td>\n",
       "      <td>2</td>\n",
       "      <td>TV-14</td>\n",
       "      <td>NC-17</td>\n",
       "      <td>5</td>\n",
       "      <td>No compains</td>\n",
       "    </tr>\n",
       "    <tr>\n",
       "      <th>59</th>\n",
       "      <td>60</td>\n",
       "      <td>Female</td>\n",
       "      <td>26-30</td>\n",
       "      <td>Rarely</td>\n",
       "      <td>Action &amp; Adventure, Comedies</td>\n",
       "      <td>Thumbs Up &amp; Down Rating</td>\n",
       "      <td>1</td>\n",
       "      <td>Not Aplicable</td>\n",
       "      <td>Not Aplicable</td>\n",
       "      <td>5</td>\n",
       "      <td>It good</td>\n",
       "    </tr>\n",
       "    <tr>\n",
       "      <th>65</th>\n",
       "      <td>66</td>\n",
       "      <td>Female</td>\n",
       "      <td>31+</td>\n",
       "      <td>4-6 times a month</td>\n",
       "      <td>Action &amp; Adventure, Comedies</td>\n",
       "      <td>Thumbs Up &amp; Down Rating</td>\n",
       "      <td>5</td>\n",
       "      <td>TV-14</td>\n",
       "      <td>NC-17</td>\n",
       "      <td>3</td>\n",
       "      <td>More varities</td>\n",
       "    </tr>\n",
       "    <tr>\n",
       "      <th>66</th>\n",
       "      <td>67</td>\n",
       "      <td>Male</td>\n",
       "      <td>16-20</td>\n",
       "      <td>Rarely</td>\n",
       "      <td>Action &amp; Adventure, Comedies</td>\n",
       "      <td>Thumbs Up &amp; Down Rating</td>\n",
       "      <td>5</td>\n",
       "      <td>PG-13</td>\n",
       "      <td>TV-G</td>\n",
       "      <td>2</td>\n",
       "      <td>It's alright</td>\n",
       "    </tr>\n",
       "    <tr>\n",
       "      <th>68</th>\n",
       "      <td>69</td>\n",
       "      <td>Female</td>\n",
       "      <td>16-20</td>\n",
       "      <td>Rarely</td>\n",
       "      <td>Action &amp; Adventure, Comedies</td>\n",
       "      <td>Thumbs Up &amp; Down Rating</td>\n",
       "      <td>3</td>\n",
       "      <td>PG-13</td>\n",
       "      <td>NC-17</td>\n",
       "      <td>5</td>\n",
       "      <td>Nothing here from me</td>\n",
       "    </tr>\n",
       "    <tr>\n",
       "      <th>69</th>\n",
       "      <td>70</td>\n",
       "      <td>Female</td>\n",
       "      <td>16-20</td>\n",
       "      <td>Rarely</td>\n",
       "      <td>Action &amp; Adventure, Comedies</td>\n",
       "      <td>1-5 Star Rating</td>\n",
       "      <td>1</td>\n",
       "      <td>Not Aplicable</td>\n",
       "      <td>Not Aplicable</td>\n",
       "      <td>3</td>\n",
       "      <td>It good, recommendations are good</td>\n",
       "    </tr>\n",
       "    <tr>\n",
       "      <th>73</th>\n",
       "      <td>74</td>\n",
       "      <td>Male</td>\n",
       "      <td>21-25</td>\n",
       "      <td>Daily</td>\n",
       "      <td>Action &amp; Adventure, Comedies</td>\n",
       "      <td>Thumbs Up &amp; Down Rating</td>\n",
       "      <td>4</td>\n",
       "      <td>TV-14</td>\n",
       "      <td>TV-MA</td>\n",
       "      <td>5</td>\n",
       "      <td>.</td>\n",
       "    </tr>\n",
       "    <tr>\n",
       "      <th>74</th>\n",
       "      <td>75</td>\n",
       "      <td>Female</td>\n",
       "      <td>21-25</td>\n",
       "      <td>Daily</td>\n",
       "      <td>Action &amp; Adventure, Comedies</td>\n",
       "      <td>1-5 Star Rating</td>\n",
       "      <td>5</td>\n",
       "      <td>TV-14</td>\n",
       "      <td>NC-17</td>\n",
       "      <td>3</td>\n",
       "      <td>Better ratings for movies and shows</td>\n",
       "    </tr>\n",
       "    <tr>\n",
       "      <th>83</th>\n",
       "      <td>84</td>\n",
       "      <td>Male</td>\n",
       "      <td>21-25</td>\n",
       "      <td>Daily</td>\n",
       "      <td>Action &amp; Adventure, Comedies</td>\n",
       "      <td>Thumbs Up &amp; Down Rating</td>\n",
       "      <td>5</td>\n",
       "      <td>NC-17</td>\n",
       "      <td>R</td>\n",
       "      <td>4</td>\n",
       "      <td>More Adventure movies</td>\n",
       "    </tr>\n",
       "    <tr>\n",
       "      <th>84</th>\n",
       "      <td>85</td>\n",
       "      <td>Male</td>\n",
       "      <td>10-15</td>\n",
       "      <td>Daily</td>\n",
       "      <td>Action &amp; Adventure, Comedies</td>\n",
       "      <td>Thumbs Up &amp; Down Rating</td>\n",
       "      <td>1</td>\n",
       "      <td>Not Aplicable</td>\n",
       "      <td>Not Aplicable</td>\n",
       "      <td>3</td>\n",
       "      <td>Nothing</td>\n",
       "    </tr>\n",
       "    <tr>\n",
       "      <th>88</th>\n",
       "      <td>89</td>\n",
       "      <td>Female</td>\n",
       "      <td>10-15</td>\n",
       "      <td>4-6 times a month</td>\n",
       "      <td>Action &amp; Adventure, Comedies</td>\n",
       "      <td>1-5 Star Rating</td>\n",
       "      <td>1</td>\n",
       "      <td>Not Aplicable</td>\n",
       "      <td>Not Aplicable</td>\n",
       "      <td>3</td>\n",
       "      <td>Nothing really</td>\n",
       "    </tr>\n",
       "    <tr>\n",
       "      <th>89</th>\n",
       "      <td>90</td>\n",
       "      <td>Male</td>\n",
       "      <td>21-25</td>\n",
       "      <td>Rarely</td>\n",
       "      <td>Action &amp; Adventure, Comedies</td>\n",
       "      <td>Thumbs Up &amp; Down Rating</td>\n",
       "      <td>2</td>\n",
       "      <td>Not Aplicable</td>\n",
       "      <td>Not Aplicable</td>\n",
       "      <td>2</td>\n",
       "      <td>Bring back the shows they took off</td>\n",
       "    </tr>\n",
       "    <tr>\n",
       "      <th>92</th>\n",
       "      <td>93</td>\n",
       "      <td>Female</td>\n",
       "      <td>31+</td>\n",
       "      <td>4-6 times a month</td>\n",
       "      <td>Action &amp; Adventure, Comedies</td>\n",
       "      <td>Thumbs Up &amp; Down Rating</td>\n",
       "      <td>2</td>\n",
       "      <td>TV-14</td>\n",
       "      <td>NC-17</td>\n",
       "      <td>5</td>\n",
       "      <td>Perfect every time</td>\n",
       "    </tr>\n",
       "    <tr>\n",
       "      <th>93</th>\n",
       "      <td>94</td>\n",
       "      <td>Male</td>\n",
       "      <td>26-30</td>\n",
       "      <td>4-6 times a month</td>\n",
       "      <td>Action &amp; Adventure, Comedies</td>\n",
       "      <td>1-5 Star Rating</td>\n",
       "      <td>1</td>\n",
       "      <td>Not Aplicable</td>\n",
       "      <td>Not Aplicable</td>\n",
       "      <td>5</td>\n",
       "      <td>Very good</td>\n",
       "    </tr>\n",
       "  </tbody>\n",
       "</table>\n",
       "</div>"
      ],
      "text/plain": [
       "    Unnamed: 0   Gender Age Group           Often_Use  \\\n",
       "3            4  Female       10-15   3-5 times a week   \n",
       "8            9     Male      10-15   3-5 times a week   \n",
       "9           10     Male      21-25             Rarely   \n",
       "17          18     Male      21-25  4-6 times a month   \n",
       "24          25  Female       26-30             Rarely   \n",
       "28          29     Male        31+   3-5 times a week   \n",
       "29          30     Male      16-20   3-5 times a week   \n",
       "32          33  Female         31+             Rarely   \n",
       "33          34  Female       16-20   3-5 times a week   \n",
       "43          44     Male      10-15             Daily    \n",
       "44          45     Male      10-15   3-5 times a week   \n",
       "58          59  Female       26-30             Daily    \n",
       "59          60  Female       26-30             Rarely   \n",
       "65          66  Female         31+  4-6 times a month   \n",
       "66          67     Male      16-20             Rarely   \n",
       "68          69  Female       16-20             Rarely   \n",
       "69          70  Female       16-20             Rarely   \n",
       "73          74     Male      21-25             Daily    \n",
       "74          75  Female       21-25             Daily    \n",
       "83          84     Male      21-25             Daily    \n",
       "84          85     Male      10-15             Daily    \n",
       "88          89  Female       10-15  4-6 times a month   \n",
       "89          90     Male      21-25             Rarely   \n",
       "92          93  Female         31+  4-6 times a month   \n",
       "93          94     Male      26-30  4-6 times a month   \n",
       "\n",
       "                      Fav_Genres               Preference  Inaccurate_Rating  \\\n",
       "3   Action & Adventure, Comedies  Thumbs Up & Down Rating                  3   \n",
       "8   Action & Adventure, Comedies  Thumbs Up & Down Rating                  1   \n",
       "9   Action & Adventure, Comedies  Thumbs Up & Down Rating                  5   \n",
       "17  Action & Adventure, Comedies  Thumbs Up & Down Rating                  2   \n",
       "24  Action & Adventure, Comedies         1-5 Star Rating                   5   \n",
       "28  Action & Adventure, Comedies  Thumbs Up & Down Rating                  5   \n",
       "29  Action & Adventure, Comedies  Thumbs Up & Down Rating                  3   \n",
       "32  Action & Adventure, Comedies         1-5 Star Rating                   3   \n",
       "33  Action & Adventure, Comedies  Thumbs Up & Down Rating                  2   \n",
       "43  Action & Adventure, Comedies         1-5 Star Rating                   2   \n",
       "44  Action & Adventure, Comedies         1-5 Star Rating                   2   \n",
       "58  Action & Adventure, Comedies  Thumbs Up & Down Rating                  2   \n",
       "59  Action & Adventure, Comedies  Thumbs Up & Down Rating                  1   \n",
       "65  Action & Adventure, Comedies  Thumbs Up & Down Rating                  5   \n",
       "66  Action & Adventure, Comedies  Thumbs Up & Down Rating                  5   \n",
       "68  Action & Adventure, Comedies  Thumbs Up & Down Rating                  3   \n",
       "69  Action & Adventure, Comedies         1-5 Star Rating                   1   \n",
       "73  Action & Adventure, Comedies  Thumbs Up & Down Rating                  4   \n",
       "74  Action & Adventure, Comedies         1-5 Star Rating                   5   \n",
       "83  Action & Adventure, Comedies  Thumbs Up & Down Rating                  5   \n",
       "84  Action & Adventure, Comedies  Thumbs Up & Down Rating                  1   \n",
       "88  Action & Adventure, Comedies         1-5 Star Rating                   1   \n",
       "89  Action & Adventure, Comedies  Thumbs Up & Down Rating                  2   \n",
       "92  Action & Adventure, Comedies  Thumbs Up & Down Rating                  2   \n",
       "93  Action & Adventure, Comedies         1-5 Star Rating                   1   \n",
       "\n",
       "            Rating Prefered_Rating  Accuracy  \\\n",
       "3            TV-14           TV-PG         5   \n",
       "8   Not Aplicable   Not Aplicable          3   \n",
       "9            TV-14           NC-17         2   \n",
       "17  Not Aplicable   Not Aplicable          5   \n",
       "24           PG-13            TV-G         2   \n",
       "28           PG-13           TV-14         2   \n",
       "29           TV-14           NC-17         3   \n",
       "32           TV-14           TV-PG         4   \n",
       "33           TV-14           TV-PG         4   \n",
       "43  Not Aplicable   Not Aplicable          4   \n",
       "44           PG-13           TV-14         3   \n",
       "58           TV-14           NC-17         5   \n",
       "59  Not Aplicable   Not Aplicable          5   \n",
       "65           TV-14           NC-17         3   \n",
       "66           PG-13            TV-G         2   \n",
       "68           PG-13           NC-17         5   \n",
       "69  Not Aplicable   Not Aplicable          3   \n",
       "73           TV-14           TV-MA         5   \n",
       "74           TV-14           NC-17         3   \n",
       "83           NC-17               R         4   \n",
       "84  Not Aplicable   Not Aplicable          3   \n",
       "88  Not Aplicable   Not Aplicable          3   \n",
       "89  Not Aplicable   Not Aplicable          2   \n",
       "92           TV-14           NC-17         5   \n",
       "93  Not Aplicable   Not Aplicable          5   \n",
       "\n",
       "                                      Recommendations  \n",
       "3                                       More Comedies  \n",
       "8                          It is good, can't complain  \n",
       "9                                 More Action movies   \n",
       "17                  Great shows, good recommendations  \n",
       "24                                        It is good   \n",
       "28  It needs to do better with regards to recommen...  \n",
       "29                            Do netter recommending   \n",
       "32                                      All good here  \n",
       "33                          Recommendations are good   \n",
       "43                                           Perfect   \n",
       "44                                               Good  \n",
       "58                                       No compains   \n",
       "59                                           It good   \n",
       "65                                     More varities   \n",
       "66                                      It's alright   \n",
       "68                              Nothing here from me   \n",
       "69                  It good, recommendations are good  \n",
       "73                                                  .  \n",
       "74               Better ratings for movies and shows   \n",
       "83                             More Adventure movies   \n",
       "84                                           Nothing   \n",
       "88                                     Nothing really  \n",
       "89                 Bring back the shows they took off  \n",
       "92                                Perfect every time   \n",
       "93                                         Very good   "
      ]
     },
     "execution_count": 61,
     "metadata": {},
     "output_type": "execute_result"
    }
   ],
   "source": [
    "df1"
   ]
  },
  {
   "cell_type": "code",
   "execution_count": 65,
   "id": "921fdd9a",
   "metadata": {},
   "outputs": [
    {
     "data": {
      "text/plain": [
       "<AxesSubplot:xlabel='Rating', ylabel='count'>"
      ]
     },
     "execution_count": 65,
     "metadata": {},
     "output_type": "execute_result"
    },
    {
     "data": {
      "image/png": "[encoded data removed]",
      "text/plain": [
       "<Figure size 864x576 with 1 Axes>"
      ]
     },
     "metadata": {
      "needs_background": "light"
     },
     "output_type": "display_data"
    }
   ],
   "source": [
    "plt.figure(figsize = (12,8))\n",
    "sns.countplot(x='Rating',data = df1)"
   ]
  },
  {
   "cell_type": "code",
   "execution_count": 118,
   "id": "fd432598",
   "metadata": {},
   "outputs": [
    {
     "data": {
      "text/plain": [
       "<AxesSubplot:xlabel='Prefered_Rating', ylabel='count'>"
      ]
     },
     "execution_count": 118,
     "metadata": {},
     "output_type": "execute_result"
    },
    {
     "data": {
      "image/png": "[encoded data removed]",
      "text/plain": [
       "<Figure size 864x576 with 1 Axes>"
      ]
     },
     "metadata": {
      "needs_background": "light"
     },
     "output_type": "display_data"
    }
   ],
   "source": [
    "plt.figure(figsize = (12,8))\n",
    "sns.countplot(x='Prefered_Rating',data = df1)"
   ]
  },
  {
   "cell_type": "code",
   "execution_count": 119,
   "id": "f883fd18",
   "metadata": {},
   "outputs": [
    {
     "data": {
      "text/plain": [
       "<AxesSubplot:xlabel='Inaccurate_Rating', ylabel='count'>"
      ]
     },
     "execution_count": 119,
     "metadata": {},
     "output_type": "execute_result"
    },
    {
     "data": {
      "image/png": "[encoded data removed]",
      "text/plain": [
       "<Figure size 864x576 with 1 Axes>"
      ]
     },
     "metadata": {
      "needs_background": "light"
     },
     "output_type": "display_data"
    }
   ],
   "source": [
    "plt.figure(figsize = (12,8))\n",
    "sns.countplot(x='Inaccurate_Rating',data = df1)"
   ]
  },
  {
   "cell_type": "code",
   "execution_count": 120,
   "id": "9eccc0ee",
   "metadata": {},
   "outputs": [
    {
     "data": {
      "text/plain": [
       "<AxesSubplot:xlabel='Preference', ylabel='count'>"
      ]
     },
     "execution_count": 120,
     "metadata": {},
     "output_type": "execute_result"
    },
    {
     "data": {
      "image/png": "[encoded data removed]",
      "text/plain": [
       "<Figure size 864x576 with 1 Axes>"
      ]
     },
     "metadata": {
      "needs_background": "light"
     },
     "output_type": "display_data"
    }
   ],
   "source": [
    "plt.figure(figsize = (12,8))\n",
    "sns.countplot(x='Preference',data = df1)"
   ]
  },
  {
   "cell_type": "markdown",
   "id": "84904400",
   "metadata": {},
   "source": [
    "### Documentaties, Horror, Thriller, Comedies"
   ]
  },
  {
   "cell_type": "code",
   "execution_count": 66,
   "id": "898063ec",
   "metadata": {},
   "outputs": [],
   "source": [
    "DHTC  = ['Documentaries, Horror, Thriller, Comedies']"
   ]
  },
  {
   "cell_type": "code",
   "execution_count": 67,
   "id": "a1b1cfc2",
   "metadata": {},
   "outputs": [],
   "source": [
    "df_DHTC = df[df.Fav_Genres.isin(DHTC)]"
   ]
  },
  {
   "cell_type": "code",
   "execution_count": 70,
   "id": "706620b1",
   "metadata": {},
   "outputs": [],
   "source": [
    "df2 = df_DHTC"
   ]
  },
  {
   "cell_type": "code",
   "execution_count": 71,
   "id": "a94c2966",
   "metadata": {},
   "outputs": [
    {
     "data": {
      "text/html": [
       "<div>\n",
       "<style scoped>\n",
       "    .dataframe tbody tr th:only-of-type {\n",
       "        vertical-align: middle;\n",
       "    }\n",
       "\n",
       "    .dataframe tbody tr th {\n",
       "        vertical-align: top;\n",
       "    }\n",
       "\n",
       "    .dataframe thead th {\n",
       "        text-align: right;\n",
       "    }\n",
       "</style>\n",
       "<table border=\"1\" class=\"dataframe\">\n",
       "  <thead>\n",
       "    <tr style=\"text-align: right;\">\n",
       "      <th></th>\n",
       "      <th>Unnamed: 0</th>\n",
       "      <th>Gender</th>\n",
       "      <th>Age Group</th>\n",
       "      <th>Often_Use</th>\n",
       "      <th>Fav_Genres</th>\n",
       "      <th>Preference</th>\n",
       "      <th>Inaccurate_Rating</th>\n",
       "      <th>Rating</th>\n",
       "      <th>Prefered_Rating</th>\n",
       "      <th>Accuracy</th>\n",
       "      <th>Recommendations</th>\n",
       "    </tr>\n",
       "  </thead>\n",
       "  <tbody>\n",
       "    <tr>\n",
       "      <th>7</th>\n",
       "      <td>8</td>\n",
       "      <td>Female</td>\n",
       "      <td>16-21</td>\n",
       "      <td>Rarely</td>\n",
       "      <td>Documentaries, Horror, Thriller, Comedies</td>\n",
       "      <td>Thumbs Up &amp; Down Rating</td>\n",
       "      <td>3</td>\n",
       "      <td>NC-17</td>\n",
       "      <td>R</td>\n",
       "      <td>5</td>\n",
       "      <td>No complaints</td>\n",
       "    </tr>\n",
       "    <tr>\n",
       "      <th>23</th>\n",
       "      <td>24</td>\n",
       "      <td>Female</td>\n",
       "      <td>26-30</td>\n",
       "      <td>Rarely</td>\n",
       "      <td>Documentaries, Horror, Thriller, Comedies</td>\n",
       "      <td>1-5 Star Rating</td>\n",
       "      <td>5</td>\n",
       "      <td>TV-14</td>\n",
       "      <td>NC-17</td>\n",
       "      <td>4</td>\n",
       "      <td>Good, needs better ratings</td>\n",
       "    </tr>\n",
       "    <tr>\n",
       "      <th>27</th>\n",
       "      <td>28</td>\n",
       "      <td>Female</td>\n",
       "      <td>21-25</td>\n",
       "      <td>Daily</td>\n",
       "      <td>Documentaries, Horror, Thriller, Comedies</td>\n",
       "      <td>Thumbs Up &amp; Down Rating</td>\n",
       "      <td>5</td>\n",
       "      <td>PG-13</td>\n",
       "      <td>TV-14</td>\n",
       "      <td>1</td>\n",
       "      <td>Needs to do better with recommending movies an...</td>\n",
       "    </tr>\n",
       "    <tr>\n",
       "      <th>39</th>\n",
       "      <td>40</td>\n",
       "      <td>Male</td>\n",
       "      <td>21-25</td>\n",
       "      <td>4-6 times a month</td>\n",
       "      <td>Documentaries, Horror, Thriller, Comedies</td>\n",
       "      <td>1-5 Star Rating</td>\n",
       "      <td>4</td>\n",
       "      <td>PG-13</td>\n",
       "      <td>TV-14</td>\n",
       "      <td>2</td>\n",
       "      <td>Giving more options to things I didn't already...</td>\n",
       "    </tr>\n",
       "    <tr>\n",
       "      <th>40</th>\n",
       "      <td>41</td>\n",
       "      <td>Male</td>\n",
       "      <td>26-30</td>\n",
       "      <td>3-5 times a week</td>\n",
       "      <td>Documentaries, Horror, Thriller, Comedies</td>\n",
       "      <td>Thumbs Up &amp; Down Rating</td>\n",
       "      <td>3</td>\n",
       "      <td>TV-14</td>\n",
       "      <td>NC-17</td>\n",
       "      <td>3</td>\n",
       "      <td>No compains</td>\n",
       "    </tr>\n",
       "    <tr>\n",
       "      <th>45</th>\n",
       "      <td>46</td>\n",
       "      <td>Female</td>\n",
       "      <td>10-15</td>\n",
       "      <td>4-6 times a month</td>\n",
       "      <td>Documentaries, Horror, Thriller, Comedies</td>\n",
       "      <td>Thumbs Up &amp; Down Rating</td>\n",
       "      <td>1</td>\n",
       "      <td>Not Aplicable</td>\n",
       "      <td>Not Aplicable</td>\n",
       "      <td>4</td>\n",
       "      <td>Good</td>\n",
       "    </tr>\n",
       "    <tr>\n",
       "      <th>57</th>\n",
       "      <td>58</td>\n",
       "      <td>Male</td>\n",
       "      <td>16-20</td>\n",
       "      <td>4-6 times a month</td>\n",
       "      <td>Documentaries, Horror, Thriller, Comedies</td>\n",
       "      <td>Thumbs Up &amp; Down Rating</td>\n",
       "      <td>4</td>\n",
       "      <td>TV-14</td>\n",
       "      <td>TV-MA</td>\n",
       "      <td>4</td>\n",
       "      <td>Giving more options to things I didn't already...</td>\n",
       "    </tr>\n",
       "    <tr>\n",
       "      <th>70</th>\n",
       "      <td>71</td>\n",
       "      <td>Male</td>\n",
       "      <td>31+</td>\n",
       "      <td>Rarely</td>\n",
       "      <td>Documentaries, Horror, Thriller, Comedies</td>\n",
       "      <td>1-5 Star Rating</td>\n",
       "      <td>1</td>\n",
       "      <td>Not Aplicable</td>\n",
       "      <td>Not Aplicable</td>\n",
       "      <td>2</td>\n",
       "      <td>Good, needs better ratings</td>\n",
       "    </tr>\n",
       "    <tr>\n",
       "      <th>71</th>\n",
       "      <td>72</td>\n",
       "      <td>Female</td>\n",
       "      <td>31+</td>\n",
       "      <td>Daily</td>\n",
       "      <td>Documentaries, Horror, Thriller, Comedies</td>\n",
       "      <td>Thumbs Up &amp; Down Rating</td>\n",
       "      <td>2</td>\n",
       "      <td>Not Aplicable</td>\n",
       "      <td>Not Aplicable</td>\n",
       "      <td>4</td>\n",
       "      <td>It is good</td>\n",
       "    </tr>\n",
       "    <tr>\n",
       "      <th>99</th>\n",
       "      <td>100</td>\n",
       "      <td>Male</td>\n",
       "      <td>31+</td>\n",
       "      <td>3-5 times a week</td>\n",
       "      <td>Documentaries, Horror, Thriller, Comedies</td>\n",
       "      <td>1-5 Star Rating</td>\n",
       "      <td>5</td>\n",
       "      <td>NC-17</td>\n",
       "      <td>TV-MA</td>\n",
       "      <td>4</td>\n",
       "      <td>Ratings are off</td>\n",
       "    </tr>\n",
       "  </tbody>\n",
       "</table>\n",
       "</div>"
      ],
      "text/plain": [
       "    Unnamed: 0   Gender Age Group           Often_Use  \\\n",
       "7            8  Female       16-21             Rarely   \n",
       "23          24  Female       26-30             Rarely   \n",
       "27          28  Female       21-25             Daily    \n",
       "39          40     Male      21-25  4-6 times a month   \n",
       "40          41     Male      26-30   3-5 times a week   \n",
       "45          46  Female       10-15  4-6 times a month   \n",
       "57          58     Male      16-20  4-6 times a month   \n",
       "70          71     Male        31+             Rarely   \n",
       "71          72  Female         31+             Daily    \n",
       "99         100     Male        31+   3-5 times a week   \n",
       "\n",
       "                                   Fav_Genres               Preference  \\\n",
       "7   Documentaries, Horror, Thriller, Comedies  Thumbs Up & Down Rating   \n",
       "23  Documentaries, Horror, Thriller, Comedies         1-5 Star Rating    \n",
       "27  Documentaries, Horror, Thriller, Comedies  Thumbs Up & Down Rating   \n",
       "39  Documentaries, Horror, Thriller, Comedies         1-5 Star Rating    \n",
       "40  Documentaries, Horror, Thriller, Comedies  Thumbs Up & Down Rating   \n",
       "45  Documentaries, Horror, Thriller, Comedies  Thumbs Up & Down Rating   \n",
       "57  Documentaries, Horror, Thriller, Comedies  Thumbs Up & Down Rating   \n",
       "70  Documentaries, Horror, Thriller, Comedies         1-5 Star Rating    \n",
       "71  Documentaries, Horror, Thriller, Comedies  Thumbs Up & Down Rating   \n",
       "99  Documentaries, Horror, Thriller, Comedies         1-5 Star Rating    \n",
       "\n",
       "    Inaccurate_Rating          Rating Prefered_Rating  Accuracy  \\\n",
       "7                   3           NC-17               R         5   \n",
       "23                  5           TV-14           NC-17         4   \n",
       "27                  5           PG-13           TV-14         1   \n",
       "39                  4           PG-13           TV-14         2   \n",
       "40                  3           TV-14           NC-17         3   \n",
       "45                  1  Not Aplicable   Not Aplicable          4   \n",
       "57                  4           TV-14           TV-MA         4   \n",
       "70                  1  Not Aplicable   Not Aplicable          2   \n",
       "71                  2  Not Aplicable   Not Aplicable          4   \n",
       "99                  5           NC-17           TV-MA         4   \n",
       "\n",
       "                                      Recommendations  \n",
       "7                                       No complaints  \n",
       "23                        Good, needs better ratings   \n",
       "27  Needs to do better with recommending movies an...  \n",
       "39  Giving more options to things I didn't already...  \n",
       "40                                       No compains   \n",
       "45                                              Good   \n",
       "57  Giving more options to things I didn't already...  \n",
       "70                        Good, needs better ratings   \n",
       "71                                        It is good   \n",
       "99                                    Ratings are off  "
      ]
     },
     "execution_count": 71,
     "metadata": {},
     "output_type": "execute_result"
    }
   ],
   "source": [
    "df2"
   ]
  },
  {
   "cell_type": "code",
   "execution_count": 72,
   "id": "2f7296cc",
   "metadata": {},
   "outputs": [
    {
     "data": {
      "text/plain": [
       "<AxesSubplot:xlabel='Rating', ylabel='count'>"
      ]
     },
     "execution_count": 72,
     "metadata": {},
     "output_type": "execute_result"
    },
    {
     "data": {
      "image/png": "[encoded data removed]",
      "text/plain": [
       "<Figure size 864x576 with 1 Axes>"
      ]
     },
     "metadata": {
      "needs_background": "light"
     },
     "output_type": "display_data"
    }
   ],
   "source": [
    "plt.figure(figsize = (12,8))\n",
    "sns.countplot(x='Rating',data = df2)"
   ]
  },
  {
   "cell_type": "code",
   "execution_count": 122,
   "id": "11f648b9",
   "metadata": {},
   "outputs": [
    {
     "data": {
      "text/plain": [
       "<AxesSubplot:xlabel='Prefered_Rating', ylabel='count'>"
      ]
     },
     "execution_count": 122,
     "metadata": {},
     "output_type": "execute_result"
    },
    {
     "data": {
      "image/png": "[encoded data removed]",
      "text/plain": [
       "<Figure size 864x576 with 1 Axes>"
      ]
     },
     "metadata": {
      "needs_background": "light"
     },
     "output_type": "display_data"
    }
   ],
   "source": [
    "plt.figure(figsize = (12,8))\n",
    "sns.countplot(x='Prefered_Rating',data = df2)"
   ]
  },
  {
   "cell_type": "code",
   "execution_count": 123,
   "id": "be159340",
   "metadata": {},
   "outputs": [
    {
     "data": {
      "text/plain": [
       "<AxesSubplot:xlabel='Inaccurate_Rating', ylabel='count'>"
      ]
     },
     "execution_count": 123,
     "metadata": {},
     "output_type": "execute_result"
    },
    {
     "data": {
      "image/png": "[encoded data removed]",
      "text/plain": [
       "<Figure size 864x576 with 1 Axes>"
      ]
     },
     "metadata": {
      "needs_background": "light"
     },
     "output_type": "display_data"
    }
   ],
   "source": [
    "plt.figure(figsize = (12,8))\n",
    "sns.countplot(x='Inaccurate_Rating',data = df2)"
   ]
  },
  {
   "cell_type": "code",
   "execution_count": 116,
   "id": "e447e6c7",
   "metadata": {},
   "outputs": [],
   "source": [
    "from wordcloud import WordCloud"
   ]
  },
  {
   "cell_type": "code",
   "execution_count": 117,
   "id": "634506ff",
   "metadata": {},
   "outputs": [
    {
     "data": {
      "image/png": "[encoded data removed]",
      "text/plain": [
       "<Figure size 1800x1080 with 1 Axes>"
      ]
     },
     "metadata": {
      "needs_background": "light"
     },
     "output_type": "display_data"
    }
   ],
   "source": [
    "plt.subplots(figsize=(25,15))\n",
    "wordcloud = WordCloud(\n",
    "                          background_color='white',\n",
    "                          width=1920,\n",
    "                          height=1080\n",
    "                         ).generate(\" \".join(df.Recommendations))\n",
    "plt.imshow(wordcloud)\n",
    "plt.axis('off')\n",
    "plt.savefig('cast.png')\n",
    "plt.show()"
   ]
  },
  {
   "cell_type": "code",
   "execution_count": null,
   "id": "ad748a33",
   "metadata": {},
   "outputs": [],
   "source": []
  }
 ],
 "metadata": {
  "kernelspec": {
   "display_name": "Python 3 (ipykernel)",
   "language": "python",
   "name": "python3"
  },
  "language_info": {
   "codemirror_mode": {
    "name": "ipython",
    "version": 3
   },
   "file_extension": ".py",
   "mimetype": "text/x-python",
   "name": "python",
   "nbconvert_exporter": "python",
   "pygments_lexer": "ipython3",
   "version": "3.9.7"
  }
 },
 "nbformat": 4,
 "nbformat_minor": 5
}
